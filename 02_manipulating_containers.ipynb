{
 "cells": [
  {
   "cell_type": "markdown",
   "id": "76b4c2a3-3071-4289-b407-b28ddaf53e4b",
   "metadata": {},
   "source": [
    "<h1 style='font-size:40px'> \n",
    "Manipulating Containers with the Docker Client</h1>"
   ]
  },
  {
   "cell_type": "markdown",
   "id": "b266c818-9565-47e6-92bd-b4424323e51b",
   "metadata": {},
   "source": [
    "<h2 style='font-size:30px'>Overriding Default Commands</h2>\n",
    "<div> \n",
    "    <ul style='font-size:20px'> \n",
    "        <li>\n",
    "            O comando `run`, por padrão, executará um arquivo contido no sistema de arquivos da imagem - como se fosse o __main__.py de um módulo em Python. \n",
    "        </li>\n",
    "        <li>\n",
    "            Nós podemos sobrescrever esse acionamento adicionando um comando logo ao final do `run`. No entanto, note que esse comando deverá existir no sistema de arquivos da imagem - não adianta invocar `python`, se Python não está instalado, por exemplo...\n",
    "        </li>\n",
    "    </ul>\n",
    " </div>"
   ]
  },
  {
   "cell_type": "markdown",
   "id": "ede38d5c-00ff-4c74-a4c1-6a519383a865",
   "metadata": {},
   "source": [
    "<h2 style='font-size:30px'>  Listing Running Containers</h2>\n",
    "<div> \n",
    "    <ul style='font-size:20px'> \n",
    "        <li>\n",
    "            O comando `docker ps` menciona todos os containers em execução na sua máquina. Ele deve retornar uma tabela com os principais dados do processo.\n",
    "            <center style='margin-top:20px'> \n",
    "                <img src='img/02_docker_ps.png'>\n",
    "            </center>\n",
    "        </li>\n",
    "        <li style='margin-top:20px'>\n",
    "            Adicione a flag `--all` para obter uma relação de todos os containers já criados.\n",
    "            <center style='margin-top:20px'> \n",
    "                <img src='img/02_docker_ps_a.png'>\n",
    "            </center>\n",
    "        </li>\n",
    "    </ul>\n",
    " </div>"
   ]
  },
  {
   "cell_type": "markdown",
   "id": "97e9f2ab-fcc0-48c5-bb05-edb421fb4dc3",
   "metadata": {},
   "source": [
    "<h2 style='font-size:30px'> Container Lifecycle</h2>\n",
    "<div> \n",
    "    <ul style='font-size:20px'> \n",
    "        <li>\n",
    "            O comando `run`, por si só, cria um container e o aciona. \n",
    "        </li>\n",
    "        <li>\n",
    "            Você pode executar essas ações em paralelo com os comandos `create` e `start`.\n",
    "        </li>\n",
    "        <li>\n",
    "            `create` retornará o ID do container criado, enquanto `start` o executará.\n",
    "        </li>\n",
    "    </ul>\n",
    " </div>\n",
    " <center style='margin-top:20px'> \n",
    "                <figure>\n",
    "                    <img src='img/02_docker_start.png'>\n",
    "                    <figcaption> Você deverá acrescentar a flag `-a` em  `start`, caso queira enxergar os outputs da execução</figcaption>\n",
    "                </figure>\n",
    "            </center>"
   ]
  },
  {
   "cell_type": "markdown",
   "id": "4e70b6ba-0806-48db-ac85-a92d8fb4ea39",
   "metadata": {},
   "source": [
    "<h2 style='font-size:30px'> Restarting Stopped Containers</h2>\n",
    "<div> \n",
    "    <ul style='font-size:20px'> \n",
    "        <li>\n",
    "            Você pode reiniciar qualquer container apresentado na relação `docker ps --all` com o comando start.\n",
    "        </li>\n",
    "        <li>\n",
    "            Um fato que vale ser mencionado é que o comando de execução do container não poderá mais ser sobrescrito em `start`.\n",
    "        </li>\n",
    "    </ul>\n",
    " </div>"
   ]
  },
  {
   "cell_type": "markdown",
   "id": "0fa5da17-7d5c-4389-be54-74e4c1ee3031",
   "metadata": {},
   "source": [
    "<h2 style='font-size:30px'> Removing Stopped Containers</h2>\n",
    "<div> \n",
    "    <ul style='font-size:20px'> \n",
    "        <li>\n",
    "            O comando `docker system prune` removerá todos os containers parados, além de todas as imagens baixadas, caso você não precise mais deles.\n",
    "            <center style='margin-top:20px'> \n",
    "                <img src='img/02_prune.png'>\n",
    "            </center>\n",
    "        </li>\n",
    "    </ul>\n",
    " </div>"
   ]
  },
  {
   "cell_type": "markdown",
   "id": "7969053a-ffb5-4180-b881-dcfb6e771d86",
   "metadata": {},
   "source": [
    "<h2 style='font-size:30px'>  Retrieving Log Outputs</h2>\n",
    "<div> \n",
    "    <ul style='font-size:20px'> \n",
    "        <li>\n",
    "            Você pode resgatar os logs de execução de um container, rodando `docker logws &lt;container_id&gt;.  \n",
    "        </li>\n",
    "        <li>\n",
    "            Todos os logs de execução serão coletados, mesmo que você não informe a flag `-a` em `start`.\n",
    "        </li>\n",
    "    </ul>\n",
    " </div>"
   ]
  },
  {
   "cell_type": "code",
   "execution_count": 1,
   "id": "31d936a8-0827-4895-bd4b-0029e42d8dcd",
   "metadata": {},
   "outputs": [
    {
     "name": "stdout",
     "output_type": "stream",
     "text": [
      "[master fe28ac9] Aula 15\n",
      " 7 files changed, 348 insertions(+), 70 deletions(-)\n",
      " create mode 100644 .ipynb_checkpoints/02_manipulating_containers-checkpoint.ipynb\n",
      " create mode 100644 02_manipulating_containers.ipynb\n",
      " create mode 100644 img/02_docker_ps.png\n",
      " create mode 100644 img/02_docker_ps_a.png\n",
      " create mode 100644 img/02_docker_start.png\n",
      "Enumerating objects: 12, done.\n",
      "Counting objects: 100% (12/12), done.\n",
      "Delta compression using up to 24 threads\n",
      "Compressing objects: 100% (9/9), done.\n",
      "Writing objects: 100% (9/9), 56.00 KiB | 56.00 MiB/s, done.\n",
      "Total 9 (delta 2), reused 0 (delta 0), pack-reused 0\n",
      "remote: Resolving deltas: 100% (2/2), completed with 1 local object.\u001b[K\n",
      "To https://github.com/felipesveiga/docker.git\n",
      "   b194438..fe28ac9  master -> master\n"
     ]
    }
   ],
   "source": [
    "! git add .\n",
    "! git commit -am 'Aula 15'\n",
    "! git push"
   ]
  },
  {
   "cell_type": "markdown",
   "id": "2dcd397d-eb91-4aa0-b56d-54f5858d51ad",
   "metadata": {
    "editable": true,
    "slideshow": {
     "slide_type": ""
    },
    "tags": []
   },
   "source": [
    "<p style='color:red'> Vi Aula 15 a 18; Aula 19</p>"
   ]
  }
 ],
 "metadata": {
  "kernelspec": {
   "display_name": "Python 3 (ipykernel)",
   "language": "python",
   "name": "python3"
  },
  "language_info": {
   "codemirror_mode": {
    "name": "ipython",
    "version": 3
   },
   "file_extension": ".py",
   "mimetype": "text/x-python",
   "name": "python",
   "nbconvert_exporter": "python",
   "pygments_lexer": "ipython3",
   "version": "3.10.12"
  }
 },
 "nbformat": 4,
 "nbformat_minor": 5
}
