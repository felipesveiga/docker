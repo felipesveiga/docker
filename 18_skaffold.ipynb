{
 "cells": [
  {
   "cell_type": "markdown",
   "id": "6c248c31-fec1-4ae2-9769-5335f50f0788",
   "metadata": {},
   "source": [
    "<h1 style='font-size:40px'> Local Development with Skaffold</h1>"
   ]
  },
  {
   "cell_type": "markdown",
   "id": "317c1d57-6dca-440e-8892-3e8dca6f3d1c",
   "metadata": {},
   "source": [
    "<h2 style='font-size:30px'> \n",
    "    Awkward Local Development\n",
    "</h2>\n",
    "<div> \n",
    "    <ul style='font-size:20px'> \n",
    "        <li>\n",
    "            A jornada de desenvolvimento de um cluster Kubernetes pode ser um tanto estressante. Isso porque não conseguimos sincronizar as pastas de nossa máquina com as dos containers, a fim de que alterações possam ser refletidas no cluster. \n",
    "        </li>\n",
    "        <li>\n",
    "            Considerando isso, foi desenvolvido um software chamado <strong> Skaffold</strong>, que propõe facilitar o espelhamento de modificações locais no cluster.\n",
    "        </li>\n",
    "        <li>\n",
    "            Ele pode funcionar de duas maneiras. A cada alteração, o Skaffold pode re-buildar a imagem do container e atualizá-lo, ou apenas injetar os arquivos modificados dentro do cluster (esta opção apenas funciona quando nossa aplicação está em modo <i> debug</i>).\n",
    "        </li>\n",
    "    </ul>\n",
    " </div>"
   ]
  },
  {
   "cell_type": "markdown",
   "id": "b376452b-97bf-487b-8c9d-48539197027e",
   "metadata": {},
   "source": [
    "<figure>\n",
    "        <center style='margin-top:20px'>\n",
    "            <img src='img/18_skaffold_logic.png'>\n",
    "                <figcaption> Ilustração do funcionamento do Skaffold.</figcaption>\n",
    "        </center>\n",
    "    </figure>"
   ]
  },
  {
   "cell_type": "markdown",
   "id": "45fcbebb-5837-43b1-a3d0-5f8a9d3d4c32",
   "metadata": {},
   "source": [
    "<h2 style='font-size:30px'> \n",
    "    The Skaffold Config File\n",
    "</h2>\n",
    "<div> \n",
    "    <ul style='font-size:20px'> \n",
    "        <li>\n",
    "            Nessa aula, criamos o arquivo de configuração a ser usado pelo Skaffold.\n",
    "        </li>\n",
    "        <li>\n",
    "            Seu início é bem similar com o de uma configuração Kubernetes. Devemos informar a apiVersion e o objeto Skaffold a ser usado.\n",
    "        </li>\n",
    "        <li>\n",
    "            Já os demais campos possuem as suas particularidades a serem detalhadas abaixo:\n",
    "        </li>\n",
    "    </ul>\n",
    " </div>"
   ]
  },
  {
   "cell_type": "markdown",
   "id": "2a485f38-8666-43e1-ac69-d843bcb2db8b",
   "metadata": {
    "tags": []
   },
   "source": [
    "<h3 style='font-size:30px;font-style:italic'> build</h3>\n",
    "<div> \n",
    "    <ul style='font-size:20px'> \n",
    "        <li>\n",
    "            Bloco em que configuramos como as imagens de nossa aplicação devem ser buildadas/atualizadas.\n",
    "        </li>\n",
    "    </ul>\n",
    " </div>"
   ]
  },
  {
   "cell_type": "markdown",
   "id": "c4e8e70c-a3a7-4822-b076-40b844589aae",
   "metadata": {
    "tags": []
   },
   "source": [
    "<h4 style='font-size:30px;font-style:italic;text-decoration:underline'> local</h4>\n",
    "<div> \n",
    "    <ul style='font-size:20px'> \n",
    "        <li>\n",
    "            Indica que as imagens devem ser buildadas localmente. Esse bloco admite uma flag `push`, que sinaliza se podemos levá-las ao Docker Hub, ou não.\n",
    "        </li>\n",
    "    </ul>\n",
    " </div>"
   ]
  },
  {
   "cell_type": "markdown",
   "id": "f5d9a9d6-47e6-4ccf-9663-4c7dd60d8e4d",
   "metadata": {},
   "source": [
    "```yaml\n",
    "local:\n",
    "    push: false\n",
    "```\n",
    "Exemplo de bloco `local`."
   ]
  },
  {
   "cell_type": "markdown",
   "id": "f6e90df5-b4d0-45b3-a834-97b3d3586684",
   "metadata": {
    "tags": []
   },
   "source": [
    "<h4 style='font-size:30px;font-style:italic;text-decoration:underline'> artifacts</h4>\n",
    "<div> \n",
    "    <ul style='font-size:20px'> \n",
    "        <li>\n",
    "            Define quais imagens devem ser atualizadas. Além disso, podemos especificar com quais arquivos a sincronização por injeção devem acontecer na seção `sync:manual`. \n",
    "        </li>\n",
    "    </ul>\n",
    " </div>"
   ]
  },
  {
   "cell_type": "markdown",
   "id": "8eecba6f-e49f-4e51-bf60-7ad0d30a6305",
   "metadata": {},
   "source": [
    "```yaml\n",
    "artifacts:\n",
    "    - image: felipesveiga/multi-client\n",
    "      context: client\n",
    "      docker:\n",
    "        dockerfile: Dockerfile.dev\n",
    "      sync:\n",
    "        manual:\n",
    "          - src: \"src/**/*.js\"\n",
    "            dest: .\n",
    "          - src: \"src/**/*.css\"\n",
    "            dest: .\n",
    "          - src: \"src/**/*.html\"\n",
    "            dest: .\n",
    "```"
   ]
  },
  {
   "cell_type": "code",
   "execution_count": 2,
   "id": "cf15ad99-40fa-4181-a36b-26a07312343e",
   "metadata": {},
   "outputs": [],
   "source": [
    "! code projects/complex-gh/"
   ]
  },
  {
   "cell_type": "code",
   "execution_count": 3,
   "id": "74d4a227-eb5a-41df-a8e5-1fca9cbb9c60",
   "metadata": {
    "editable": true,
    "slideshow": {
     "slide_type": ""
    },
    "tags": []
   },
   "outputs": [
    {
     "name": "stdout",
     "output_type": "stream",
     "text": [
      "[master 50e84e2] Explicar lógica do arquivo skaffold.yaml, com a Aula 311\n",
      " 14 files changed, 405 insertions(+), 30 deletions(-)\n",
      " create mode 100644 projects/complex-gh/k8s-dev/client/client-cluster-ip-service.yaml\n",
      " create mode 100644 projects/complex-gh/k8s-dev/client/client-deployment.yaml\n",
      " create mode 100644 projects/complex-gh/k8s-dev/ingress-service.yaml\n",
      " create mode 100644 projects/complex-gh/k8s-dev/postgres/database-persistent-volume-claim.yaml\n",
      " create mode 100644 projects/complex-gh/k8s-dev/postgres/postgres-cluster-ip-service.yaml\n",
      " create mode 100644 projects/complex-gh/k8s-dev/postgres/postgres-deployment.yaml\n",
      " create mode 100644 projects/complex-gh/k8s-dev/redis/redis-cluster-ip-service.yaml\n",
      " create mode 100644 projects/complex-gh/k8s-dev/redis/redis-deployment.yaml\n",
      " create mode 100644 projects/complex-gh/k8s-dev/redis/worker-deployment.yaml\n",
      " create mode 100644 projects/complex-gh/k8s-dev/server/server-cluster-ip-service.yaml\n",
      " create mode 100644 projects/complex-gh/k8s-dev/server/server-deployment.yaml\n",
      " create mode 100644 projects/complex-gh/skaffold.yaml\n",
      "Enumerating objects: 28, done.\n",
      "Counting objects: 100% (28/28), done.\n",
      "Delta compression using up to 24 threads\n",
      "Compressing objects: 100% (23/23), done.\n",
      "Writing objects: 100% (23/23), 4.07 KiB | 4.07 MiB/s, done.\n",
      "Total 23 (delta 10), reused 0 (delta 0), pack-reused 0\n",
      "remote: Resolving deltas: 100% (10/10), completed with 5 local objects.\u001b[K\n",
      "To https://github.com/felipesveiga/docker.git\n",
      "   e1b58a5..50e84e2  master -> master\n"
     ]
    }
   ],
   "source": [
    "! git add .\n",
    "! git commit -m 'Aula 313'\n",
    "! git push"
   ]
  },
  {
   "cell_type": "markdown",
   "id": "aa6cef5e-0ee2-4874-8fee-fbc6cf3e556c",
   "metadata": {
    "editable": true,
    "slideshow": {
     "slide_type": ""
    },
    "tags": []
   },
   "source": [
    "<p style='color:red'> Expliquei lógica do arquivo skaffold.yaml; Aula 313</p>"
   ]
  }
 ],
 "metadata": {
  "kernelspec": {
   "display_name": "Python 3 (ipykernel)",
   "language": "python",
   "name": "python3"
  },
  "language_info": {
   "codemirror_mode": {
    "name": "ipython",
    "version": 3
   },
   "file_extension": ".py",
   "mimetype": "text/x-python",
   "name": "python",
   "nbconvert_exporter": "python",
   "pygments_lexer": "ipython3",
   "version": "3.10.12"
  }
 },
 "nbformat": 4,
 "nbformat_minor": 5
}
