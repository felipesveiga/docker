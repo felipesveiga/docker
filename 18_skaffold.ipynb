{
 "cells": [
  {
   "cell_type": "markdown",
   "id": "6c248c31-fec1-4ae2-9769-5335f50f0788",
   "metadata": {},
   "source": [
    "<h1 style='font-size:40px'> Local Development with Skaffold</h1>"
   ]
  },
  {
   "cell_type": "markdown",
   "id": "317c1d57-6dca-440e-8892-3e8dca6f3d1c",
   "metadata": {},
   "source": [
    "<h2 style='font-size:30px'> \n",
    "    Awkward Local Development\n",
    "</h2>\n",
    "<div> \n",
    "    <ul style='font-size:20px'> \n",
    "        <li>\n",
    "            A jornada de desenvolvimento de um cluster Kubernetes pode ser um tanto estressante. Isso porque não conseguimos sincronizar as pastas de nossa máquina com as dos containers, a fim de que alterações possam ser refletidas no cluster. \n",
    "        </li>\n",
    "        <li>\n",
    "            Considerando isso, foi desenvolvido um software chamado <strong> Skaffold</strong>, que propõe facilitar o espelhamento de modificações locais no cluster.\n",
    "        </li>\n",
    "        <li>\n",
    "            Ele pode funcionar de duas maneiras. A cada alteração, o Skaffold pode re-buildar a imagem do container e atualizá-lo, ou apenas injetar os arquivos modificados dentro do cluster (esta opção apenas funciona quando nossa aplicação está em modo <i> debug</i>).\n",
    "        </li>\n",
    "    </ul>\n",
    " </div>"
   ]
  },
  {
   "cell_type": "markdown",
   "id": "b376452b-97bf-487b-8c9d-48539197027e",
   "metadata": {},
   "source": [
    "<figure>\n",
    "        <center style='margin-top:20px'>\n",
    "            <img src='img/18_skaffold_logic.png'>\n",
    "                <figcaption> Ilustração do funcionamento do Skaffold.</figcaption>\n",
    "        </center>\n",
    "    </figure>"
   ]
  },
  {
   "cell_type": "code",
   "execution_count": 9,
   "id": "74d4a227-eb5a-41df-a8e5-1fca9cbb9c60",
   "metadata": {
    "editable": true,
    "slideshow": {
     "slide_type": ""
    },
    "tags": []
   },
   "outputs": [
    {
     "name": "stdout",
     "output_type": "stream",
     "text": [
      "[master 5f641ba] Aula 307\n",
      " 3 files changed, 298 insertions(+), 22 deletions(-)\n",
      "Enumerating objects: 17, done.\n",
      "Counting objects: 100% (17/17), done.\n",
      "Delta compression using up to 24 threads\n",
      "Compressing objects: 100% (9/9), done.\n",
      "Writing objects: 100% (9/9), 1.75 KiB | 1.75 MiB/s, done.\n",
      "Total 9 (delta 7), reused 0 (delta 0), pack-reused 0\n",
      "remote: Resolving deltas: 100% (7/7), completed with 7 local objects.\u001b[K\n",
      "To https://github.com/felipesveiga/docker.git\n",
      "   082dc4c..5f641ba  master -> master\n"
     ]
    }
   ],
   "source": [
    "! git add .\n",
    "! git commit -m 'Limpar ambiente do GCP (Aula 307)'\n",
    "! git push"
   ]
  },
  {
   "cell_type": "markdown",
   "id": "aa6cef5e-0ee2-4874-8fee-fbc6cf3e556c",
   "metadata": {
    "editable": true,
    "slideshow": {
     "slide_type": ""
    },
    "tags": []
   },
   "source": [
    "<p style='color:red'> Vi Aula 308 a 310; Limpar ambiente do GCP (Aula 307); Aula 311</p>"
   ]
  }
 ],
 "metadata": {
  "kernelspec": {
   "display_name": "Python 3 (ipykernel)",
   "language": "python",
   "name": "python3"
  },
  "language_info": {
   "codemirror_mode": {
    "name": "ipython",
    "version": 3
   },
   "file_extension": ".py",
   "mimetype": "text/x-python",
   "name": "python",
   "nbconvert_exporter": "python",
   "pygments_lexer": "ipython3",
   "version": "3.10.12"
  }
 },
 "nbformat": 4,
 "nbformat_minor": 5
}
