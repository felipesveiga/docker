{
 "cells": [
  {
   "cell_type": "markdown",
   "id": "b2c82d4d-dbec-4554-9653-5afb8b28b3b2",
   "metadata": {},
   "source": [
    "<h1 style='font-size:40px'> \n",
    "    <a href='https://www.youtube.com/watch?v=UEOtZvTCmDo&t=1148s'>GitHub Actions</a>\n",
    "</h1>\n",
    "<div> \n",
    "    <ul style='font-size:20px'> \n",
    "        <li>\n",
    "            O GitHub Actions é um serviço de CI/CD próprio do GitHub. Nele, podemos rodar testes automáticos que verificam a qualidade de nosso programa, antes de fundi-lo a alguma branch.\n",
    "        </li>\n",
    "    </ul>\n",
    " </div>"
   ]
  },
  {
   "cell_type": "markdown",
   "id": "7d687887-e9cf-4ebe-906a-884bf0fe6290",
   "metadata": {},
   "source": [
    "<h2 style='font-size:30px'> Branch Protection</h2>\n",
    "<div> \n",
    "    <ul style='font-size:20px'> \n",
    "        <li>\n",
    "            Ao criarmos nosso repositório, podemos definir políticas de proteção de branches. Elas vão impor certas condições para que possamos fazer um merge.\n",
    "        </li>\n",
    "        <li>\n",
    "            Você pode defini-las na tab Rules em Settings do seu repo.\n",
    "        </li>\n",
    "    </ul>\n",
    " </div>"
   ]
  },
  {
   "cell_type": "markdown",
   "id": "dca27913-061d-4476-9345-1d2c4be666fe",
   "metadata": {},
   "source": [
    "<h2 style='font-size:30px'> Creating a Workflow</h2>\n",
    "<div> \n",
    "    <ul style='font-size:20px'> \n",
    "        <li>\n",
    "            Todos os fluxos do GitHub Actions podem ser configurados no diretório .github/workflows com um arquivo .yml. Cada documento indica um teste a ser executado.\n",
    "        </li>\n",
    "        <li>\n",
    "            De forma geral, os arquivos possuem duas seções: uma com a configuração do ambiente de testes, e a outra com as declarações deles.\n",
    "        </li>\n",
    "    </ul>\n",
    " </div>"
   ]
  },
  {
   "cell_type": "markdown",
   "id": "04fe6a32-992b-40d4-a9e3-6b3e58a0ce3f",
   "metadata": {},
   "source": [
    "<h3 style='font-size:30px;font-style:italic'> Seção de Configuração</h3>\n",
    "<div> \n",
    "    <ul style='font-size:20px'>\n",
    "        <li> \n",
    "            Geralmente, iniciamos o .yml com um nome a nosso workflow (name). Em seguida, especificamos as situações em que desejamos que o fluxo aconteça (on); os nomes dos eventos já vêm pré-definidos e podem ser encontrados na <a href='https://docs.github.com/en/actions/writing-workflows/choosing-when-your-workflow-runs/events-that-trigger-workflows'>documentação</a> da GitHub Actions. \n",
    "        </li>\n",
    "     </ul>\n",
    "</div>"
   ]
  },
  {
   "cell_type": "markdown",
   "id": "4be46db1-7933-4e2c-8afc-fc5cf40cdb42",
   "metadata": {},
   "source": [
    "```yaml\n",
    "    on:\n",
    "      pull_request:\n",
    "        branches:\n",
    "          - master\n",
    "```\n",
    "Observe que podemos ainda ser mais seletivos, escolhendo acionar a action apenas caso o evento ocorra em uma branch específica."
   ]
  },
  {
   "cell_type": "markdown",
   "id": "4605edbb-2ef5-404e-9937-459d191da338",
   "metadata": {},
   "source": [
    "<div> \n",
    "    <ul style='font-size:20px'>\n",
    "        <li> \n",
    "            Em seguida, podemos declarar as atividades que serão executadas pelo fluxo com a chave <i> jobs</i>. Cada sub-chave será um ID de uma ação a ser feita, com a sua respectiva configuração.\n",
    "        </li>\n",
    "     </ul>\n",
    "</div>"
   ]
  },
  {
   "cell_type": "markdown",
   "id": "3107510d-1977-4255-9ddf-2dd1cd5eefa6",
   "metadata": {},
   "source": [
    "```yaml\n",
    "jobs:\n",
    "  test:\n",
    "    runs-on: ubuntu-latest\n",
    "    defaults:\n",
    "      run:\n",
    "        working-directory: ./app/\n",
    "    strategy:\n",
    "      matrix:\n",
    "        python-version: [3.8]\n",
    "    env:\n",
    "      MODE: \"dev\"\n",
    "\n",
    "```\n",
    "* Nessa configuração de job, escolhemos o OS do servidor, assim como as configurações padrão de cada execução (se houver mais de uma). Variáveis de ambiente conseguem ser definidas no bloco <i>env</i>.\n",
    "* O bloco <i>strategy</i> possibuilita que rodemos a mesma ação com diferentes ajustes (versão de OS ou linguagem de programação)."
   ]
  },
  {
   "cell_type": "code",
   "execution_count": 6,
   "id": "57f2082a-da54-43fc-b929-860a0557198c",
   "metadata": {},
   "outputs": [
    {
     "name": "stdout",
     "output_type": "stream",
     "text": [
      "On branch master\n",
      "Your branch is up to date with 'origin/master'.\n",
      "\n",
      "nothing to commit, working tree clean\n",
      "Everything up-to-date\n"
     ]
    }
   ],
   "source": [
    "! git add .\n",
    "! git commit -am 'Continuar a explicação da seção de configuração do .yml'\n",
    "! git push"
   ]
  },
  {
   "cell_type": "markdown",
   "id": "bcdb3c05-22ba-4ed2-a69a-3b6d37f6e862",
   "metadata": {
    "editable": true,
    "slideshow": {
     "slide_type": ""
    },
    "tags": []
   },
   "source": [
    "<p style='color:red'> Terminei a parte de configuração do .yml; Comecei a explicar a seção de configuração do .yml; Continuar a explicação da seção de configuração do .yml</p>"
   ]
  }
 ],
 "metadata": {
  "kernelspec": {
   "display_name": "texts-same-article",
   "language": "python",
   "name": "texts-same-article"
  },
  "language_info": {
   "codemirror_mode": {
    "name": "ipython",
    "version": 3
   },
   "file_extension": ".py",
   "mimetype": "text/x-python",
   "name": "python",
   "nbconvert_exporter": "python",
   "pygments_lexer": "ipython3",
   "version": "3.10.12"
  }
 },
 "nbformat": 4,
 "nbformat_minor": 5
}
