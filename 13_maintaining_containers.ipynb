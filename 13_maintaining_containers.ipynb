{
 "cells": [
  {
   "cell_type": "markdown",
   "id": "8fd220dc-6218-43b3-9639-cb9c3a1d8fd0",
   "metadata": {},
   "source": [
    "<h1 style='font-size:40px'> Maintaining Sets of Containers with Deployments</h1>"
   ]
  },
  {
   "cell_type": "markdown",
   "id": "2f98e80b-ce69-44bb-bebc-d7170e079861",
   "metadata": {},
   "source": [
    "<h2 style='font-size:30px'> \n",
    "    Updating Existing Objects</h2>\n",
    "<div> \n",
    "    <ul style='font-size:20px'> \n",
    "        <li>\n",
    "            Os identificadores de um objeto específico em nosso ambiente são a chave <i>main</i> e <i>kind</i> dos arquivos de configuração (abordagem declarativa).\n",
    "        </li>\n",
    "        <li>\n",
    "            Dessa forma, quando aplicamos uma atualização a um dado .yml, o Master verificará se um objeto com as dadas chaves já existe em algum nó. Caso sim, ele apenas o atualizará, senão, criará um novo objeto.\n",
    "        </li>\n",
    "    </ul>\n",
    " </div>"
   ]
  },
  {
   "cell_type": "markdown",
   "id": "5d4544db-8a22-4639-b262-7bd2287f0a70",
   "metadata": {},
   "source": [
    "<h3 style='font-size:30px;font-style:italic'> kubectl describe</h3>\n",
    "<div> \n",
    "    <ul style='font-size:20px'>\n",
    "        <li> \n",
    "            Para se ter uma visão mais completa sobre o status de um objeto, existe o comando `kubectl describe`, com o qual você pode acessar metadados e logs de execução.\n",
    "        </li>\n",
    "        <li>\n",
    "           Você deve passar como argumento o tipo de objeto a ser analisado e, opcionalmente, o nome da instância, caso queira analisar uma específica. \n",
    "        </li>\n",
    "     </ul>\n",
    "</div>"
   ]
  },
  {
   "cell_type": "markdown",
   "id": "7d56f6ae-ac89-4302-9c02-29d03f823165",
   "metadata": {},
   "source": [
    " <center style='margin-top:20px'> \n",
    "        <figure>\n",
    "            <img src='img/13_kubectl_describe.png'>\n",
    "        </figure>\n",
    "    </center>"
   ]
  },
  {
   "cell_type": "markdown",
   "id": "d844915b-929a-4198-8313-9f0b3a7cc126",
   "metadata": {},
   "source": [
    "<figure>\n",
    "        <center style='margin-top:20px'>\n",
    "            <img src='img/13_update_logs.png'>\n",
    "                <figcaption>  Logs de quando atualizamos apenas a imagem de um Pod. Observe que, no caso, o container é somente reiniciado com a configuração atualizada.</figcaption>\n",
    "        </center>\n",
    "    </figure>"
   ]
  },
  {
   "cell_type": "markdown",
   "id": "1e271726-b88a-4e5f-b902-8f06677fddce",
   "metadata": {},
   "source": [
    "<h2 style='font-size:30px'> \n",
    "    Running Containers with Deployments</h2>\n",
    "<div> \n",
    "    <ul style='font-size:20px'> \n",
    "        <li>\n",
    "            Os Pods possuem uma limitação de apenas poderem ter certos parâmetros seus editados. Caso você tente atualizar o valor de uma porta, por exemplo, o kubectl retornará um erro.\n",
    "        </li>\n",
    "        <li>\n",
    "            É por isso que costuma-se recorrer a um outro tipo de objeto (o Deployment) no desenvolvimento de aplicações em Kubernetes. Os Deployments nada mais são do que wrappers de Pods de configurações idênticas. Esses são mais flexíveis a possíveis edições. \n",
    "        </li>\n",
    "    </ul>\n",
    " </div>"
   ]
  },
  {
   "cell_type": "markdown",
   "id": "f8244f34-67cc-4241-b4ca-785e3eef6b4f",
   "metadata": {},
   "source": [
    "<figure>\n",
    "        <center style='margin-top:20px'>\n",
    "            <img src='img/13_deployment_template.png'>\n",
    "                <figcaption>  Cada Deployment carrega consigo um Pod Template, que contém as configurações exigidas para cada um dos Pods mantidos por si.</figcaption>\n",
    "        </center>\n",
    "    </figure>"
   ]
  },
  {
   "cell_type": "markdown",
   "id": "a8b0da76-abe1-4809-b348-35eb683062b3",
   "metadata": {},
   "source": [
    "<h2 style='font-size:30px'> \n",
    "    Walking Through the Deployment Config</h2>\n",
    "<div> \n",
    "    <ul style='font-size:20px'> \n",
    "        <li>\n",
    "            Aula em que é explicada a estrutura de um .yml de um objeto Deployment.\n",
    "        </li>\n",
    "        <li>\n",
    "            As primeiras linhas informam dados comuns a todos os demais objetos (\"apiVersion\", \"kind\" e \"metadata\"). O principal diferencial está na chave \"spec\".\n",
    "        </li>\n",
    "        <li>\n",
    "            Na chave \"template\", configuramos o Pod a ser envelopado pelo Deployment. Observe que a formatação dos seus dados se assemelha bastante com a do .yml de um Pod\n",
    "        </li>\n",
    "        <li>\n",
    "            \"replicas\" define a quantidade desses Pods que serão criados, enquanto que \"selector\" serve para informarmos um identificador desse conjunto de objetos para futuras edições.\n",
    "        </li>\n",
    "    </ul>\n",
    " </div>"
   ]
  },
  {
   "cell_type": "code",
   "execution_count": 2,
   "id": "d3dc62f6-d3b9-4851-9830-c6902871b08e",
   "metadata": {
    "scrolled": true
   },
   "outputs": [
    {
     "name": "stdout",
     "output_type": "stream",
     "text": [
      "[master 71de794] Aula 195\n",
      " 3 files changed, 44 insertions(+), 28 deletions(-)\n",
      " create mode 100644 projects/simplek8s/client-deployment.yml\n",
      "Enumerating objects: 12, done.\n",
      "Counting objects: 100% (12/12), done.\n",
      "Delta compression using up to 24 threads\n",
      "Compressing objects: 100% (7/7), done.\n",
      "Writing objects: 100% (7/7), 1.00 KiB | 1.00 MiB/s, done.\n",
      "Total 7 (delta 4), reused 0 (delta 0), pack-reused 0\n",
      "remote: Resolving deltas: 100% (4/4), completed with 4 local objects.\u001b[K\n",
      "To https://github.com/felipesveiga/docker.git\n",
      "   c0fcaf6..71de794  master -> master\n"
     ]
    }
   ],
   "source": [
    "! git add .\n",
    "! git commit -m 'Aula 196'\n",
    "! git push"
   ]
  },
  {
   "cell_type": "markdown",
   "id": "bd067029-0a75-4887-9f5a-2ef76061a473",
   "metadata": {
    "editable": true,
    "slideshow": {
     "slide_type": ""
    },
    "tags": []
   },
   "source": [
    "<p style='color:red'> Vi Aula 195; Revisar explicação sobre os blocos do client-deployment.yml; Aula 196</p>"
   ]
  },
  {
   "cell_type": "markdown",
   "id": "18b03a02-cebc-486e-83b9-e71dd1614212",
   "metadata": {
    "editable": true,
    "slideshow": {
     "slide_type": ""
    },
    "tags": []
   },
   "source": [
    "<p style='color:red'> Para acessar a aplicação web, use o comando `minikube service client-node-port`</p>"
   ]
  }
 ],
 "metadata": {
  "kernelspec": {
   "display_name": "Python 3 (ipykernel)",
   "language": "python",
   "name": "python3"
  },
  "language_info": {
   "codemirror_mode": {
    "name": "ipython",
    "version": 3
   },
   "file_extension": ".py",
   "mimetype": "text/x-python",
   "name": "python",
   "nbconvert_exporter": "python",
   "pygments_lexer": "ipython3",
   "version": "3.10.12"
  }
 },
 "nbformat": 4,
 "nbformat_minor": 5
}
