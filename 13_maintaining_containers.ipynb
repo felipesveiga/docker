{
 "cells": [
  {
   "cell_type": "markdown",
   "id": "8fd220dc-6218-43b3-9639-cb9c3a1d8fd0",
   "metadata": {},
   "source": [
    "<h1 style='font-size:40px'> Maintaining Sets of Containers with Deployments</h1>"
   ]
  },
  {
   "cell_type": "markdown",
   "id": "2f98e80b-ce69-44bb-bebc-d7170e079861",
   "metadata": {},
   "source": [
    "<h2 style='font-size:30px'> \n",
    "    Updating Existing Objects</h2>\n",
    "<div> \n",
    "    <ul style='font-size:20px'> \n",
    "        <li>\n",
    "            Os identificadores de um objeto específico em nosso ambiente são a chave <i>main</i> e <i>kind</i> dos arquivos de configuração (abordagem declarativa).\n",
    "        </li>\n",
    "        <li>\n",
    "            Dessa forma, quando aplicamos uma atualização a um dado .yml, o Master verificará se um objeto com as dadas chaves já existe em algum nó. Caso sim, ele apenas o atualizará, senão, criará um novo objeto.\n",
    "        </li>\n",
    "    </ul>\n",
    " </div>"
   ]
  },
  {
   "cell_type": "code",
   "execution_count": 12,
   "id": "d3dc62f6-d3b9-4851-9830-c6902871b08e",
   "metadata": {
    "scrolled": true
   },
   "outputs": [
    {
     "name": "stdout",
     "output_type": "stream",
     "text": [
      "[master a2fa6ba] Aula 189\n",
      " 2 files changed, 64 insertions(+), 14 deletions(-)\n",
      "Enumerating objects: 7, done.\n",
      "Counting objects: 100% (7/7), done.\n",
      "Delta compression using up to 24 threads\n",
      "Compressing objects: 100% (4/4), done.\n",
      "Writing objects: 100% (4/4), 978 bytes | 978.00 KiB/s, done.\n",
      "Total 4 (delta 3), reused 0 (delta 0), pack-reused 0\n",
      "remote: Resolving deltas: 100% (3/3), completed with 3 local objects.\u001b[K\n",
      "To https://github.com/felipesveiga/docker.git\n",
      "   dc48349..a2fa6ba  master -> master\n"
     ]
    }
   ],
   "source": [
    "! git add .\n",
    "! git commit -m 'Aula 189'\n",
    "! git push"
   ]
  },
  {
   "cell_type": "markdown",
   "id": "bd067029-0a75-4887-9f5a-2ef76061a473",
   "metadata": {
    "editable": true,
    "slideshow": {
     "slide_type": ""
    },
    "tags": []
   },
   "source": [
    "<p style='color:red'> Vi Aula 188; Aula 189</p>"
   ]
  }
 ],
 "metadata": {
  "kernelspec": {
   "display_name": "Python 3 (ipykernel)",
   "language": "python",
   "name": "python3"
  },
  "language_info": {
   "codemirror_mode": {
    "name": "ipython",
    "version": 3
   },
   "file_extension": ".py",
   "mimetype": "text/x-python",
   "name": "python",
   "nbconvert_exporter": "python",
   "pygments_lexer": "ipython3",
   "version": "3.10.12"
  }
 },
 "nbformat": 4,
 "nbformat_minor": 5
}
