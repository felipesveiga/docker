{
 "cells": [
  {
   "cell_type": "markdown",
   "id": "8fd220dc-6218-43b3-9639-cb9c3a1d8fd0",
   "metadata": {},
   "source": [
    "<h1 style='font-size:40px'> Maintaining Sets of Containers with Deployments</h1>"
   ]
  },
  {
   "cell_type": "markdown",
   "id": "2f98e80b-ce69-44bb-bebc-d7170e079861",
   "metadata": {},
   "source": [
    "<h2 style='font-size:30px'> \n",
    "    Updating Existing Objects</h2>\n",
    "<div> \n",
    "    <ul style='font-size:20px'> \n",
    "        <li>\n",
    "            Os identificadores de um objeto específico em nosso ambiente são a chave <i>main</i> e <i>kind</i> dos arquivos de configuração (abordagem declarativa).\n",
    "        </li>\n",
    "        <li>\n",
    "            Dessa forma, quando aplicamos uma atualização a um dado .yml, o Master verificará se um objeto com as dadas chaves já existe em algum nó. Caso sim, ele apenas o atualizará, senão, criará um novo objeto.\n",
    "        </li>\n",
    "    </ul>\n",
    " </div>"
   ]
  },
  {
   "cell_type": "markdown",
   "id": "5d4544db-8a22-4639-b262-7bd2287f0a70",
   "metadata": {},
   "source": [
    "<h3 style='font-size:30px;font-style:italic'> kubectl describe</h3>\n",
    "<div> \n",
    "    <ul style='font-size:20px'>\n",
    "        <li> \n",
    "            Para se ter uma visão mais completa sobre o status de um objeto, existe o comando `kubectl describe`, com o qual você pode acessar metadados e logs de execução.\n",
    "        </li>\n",
    "        <li>\n",
    "           Você deve passar como argumento o tipo de objeto a ser analisado e, opcionalmente, o nome da instância, caso queira analisar uma específica. \n",
    "        </li>\n",
    "     </ul>\n",
    "</div>"
   ]
  },
  {
   "cell_type": "markdown",
   "id": "7d56f6ae-ac89-4302-9c02-29d03f823165",
   "metadata": {},
   "source": [
    " <center style='margin-top:20px'> \n",
    "        <figure>\n",
    "            <img src='img/13_kubectl_describe.png'>\n",
    "        </figure>\n",
    "    </center>"
   ]
  },
  {
   "cell_type": "markdown",
   "id": "d844915b-929a-4198-8313-9f0b3a7cc126",
   "metadata": {},
   "source": [
    "<figure>\n",
    "        <center style='margin-top:20px'>\n",
    "            <img src='img/13_update_logs.png'>\n",
    "                <figcaption>  Logs de quando atualizamos apenas a imagem de um Pod. Observe que, no caso, o container é apenas reiniciado com a configuração atualizada.</figcaption>\n",
    "        </center>\n",
    "    </figure>"
   ]
  },
  {
   "cell_type": "code",
   "execution_count": 1,
   "id": "d3dc62f6-d3b9-4851-9830-c6902871b08e",
   "metadata": {
    "scrolled": true
   },
   "outputs": [
    {
     "name": "stdout",
     "output_type": "stream",
     "text": [
      "[master a6ac2e2] Comentar sobre o uso do comando `kubectl describe` na verificação das atualizações dos objetos\n",
      " 4 files changed, 198 insertions(+), 122 deletions(-)\n",
      " create mode 100644 .ipynb_checkpoints/13_maintaining_containers-checkpoint.ipynb\n",
      " create mode 100644 13_maintaining_containers.ipynb\n",
      "Enumerating objects: 8, done.\n",
      "Counting objects: 100% (8/8), done.\n",
      "Delta compression using up to 24 threads\n",
      "Compressing objects: 100% (5/5), done.\n",
      "Writing objects: 100% (5/5), 1.13 KiB | 1.13 MiB/s, done.\n",
      "Total 5 (delta 4), reused 0 (delta 0), pack-reused 0\n",
      "remote: Resolving deltas: 100% (4/4), completed with 3 local objects.\u001b[K\n",
      "To https://github.com/felipesveiga/docker.git\n",
      "   a2fa6ba..a6ac2e2  master -> master\n"
     ]
    }
   ],
   "source": [
    "! git add .\n",
    "! git commit -m 'Aula 191'\n",
    "! git push"
   ]
  },
  {
   "cell_type": "markdown",
   "id": "bd067029-0a75-4887-9f5a-2ef76061a473",
   "metadata": {
    "editable": true,
    "slideshow": {
     "slide_type": ""
    },
    "tags": []
   },
   "source": [
    "<p style='color:red'> Vi Aula 190; Aula 191</p>"
   ]
  },
  {
   "cell_type": "markdown",
   "id": "18b03a02-cebc-486e-83b9-e71dd1614212",
   "metadata": {
    "editable": true,
    "slideshow": {
     "slide_type": ""
    },
    "tags": []
   },
   "source": [
    "<p style='color:red'> Para acessar a aplicação web, use o comando `minikube service client-node-port`</p>"
   ]
  }
 ],
 "metadata": {
  "kernelspec": {
   "display_name": "Python 3 (ipykernel)",
   "language": "python",
   "name": "python3"
  },
  "language_info": {
   "codemirror_mode": {
    "name": "ipython",
    "version": 3
   },
   "file_extension": ".py",
   "mimetype": "text/x-python",
   "name": "python",
   "nbconvert_exporter": "python",
   "pygments_lexer": "ipython3",
   "version": "3.10.12"
  }
 },
 "nbformat": 4,
 "nbformat_minor": 5
}
