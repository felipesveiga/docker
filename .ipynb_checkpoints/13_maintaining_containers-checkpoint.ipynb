{
 "cells": [
  {
   "cell_type": "markdown",
   "id": "8fd220dc-6218-43b3-9639-cb9c3a1d8fd0",
   "metadata": {},
   "source": [
    "<h1 style='font-size:40px'> Maintaining Sets of Containers with Deployments</h1>"
   ]
  },
  {
   "cell_type": "markdown",
   "id": "2f98e80b-ce69-44bb-bebc-d7170e079861",
   "metadata": {},
   "source": [
    "<h2 style='font-size:30px'> \n",
    "    Updating Existing Objects</h2>\n",
    "<div> \n",
    "    <ul style='font-size:20px'> \n",
    "        <li>\n",
    "            Os identificadores de um objeto específico em nosso ambiente são a chave <i>main</i> e <i>kind</i> dos arquivos de configuração (abordagem declarativa).\n",
    "        </li>\n",
    "        <li>\n",
    "            Dessa forma, quando aplicamos uma atualização a um dado .yml, o Master verificará se um objeto com as dadas chaves já existe em algum nó. Caso sim, ele apenas o atualizará, senão, criará um novo objeto.\n",
    "        </li>\n",
    "    </ul>\n",
    " </div>"
   ]
  },
  {
   "cell_type": "markdown",
   "id": "5d4544db-8a22-4639-b262-7bd2287f0a70",
   "metadata": {},
   "source": [
    "<h3 style='font-size:30px;font-style:italic'> kubectl describe</h3>\n",
    "<div> \n",
    "    <ul style='font-size:20px'>\n",
    "        <li> \n",
    "            Para se ter uma visão mais completa sobre o status de um objeto, existe o comando `kubectl describe`, com o qual você pode acessar metadados e logs de execução.\n",
    "        </li>\n",
    "        <li>\n",
    "           Você deve passar como argumento o tipo de objeto a ser analisado e, opcionalmente, o nome da instância, caso queira analisar uma específica. \n",
    "        </li>\n",
    "     </ul>\n",
    "</div>"
   ]
  },
  {
   "cell_type": "markdown",
   "id": "7d56f6ae-ac89-4302-9c02-29d03f823165",
   "metadata": {},
   "source": [
    " <center style='margin-top:20px'> \n",
    "        <figure>\n",
    "            <img src='img/13_kubectl_describe.png'>\n",
    "        </figure>\n",
    "    </center>"
   ]
  },
  {
   "cell_type": "markdown",
   "id": "d844915b-929a-4198-8313-9f0b3a7cc126",
   "metadata": {},
   "source": [
    "<figure>\n",
    "        <center style='margin-top:20px'>\n",
    "            <img src='img/13_update_logs.png'>\n",
    "                <figcaption>  Logs de quando atualizamos apenas a imagem de um Pod. Observe que, no caso, o container é somente reiniciado com a configuração atualizada.</figcaption>\n",
    "        </center>\n",
    "    </figure>"
   ]
  },
  {
   "cell_type": "markdown",
   "id": "1e271726-b88a-4e5f-b902-8f06677fddce",
   "metadata": {},
   "source": [
    "<h2 style='font-size:30px'> \n",
    "    Running Containers with Deployments</h2>\n",
    "<div> \n",
    "    <ul style='font-size:20px'> \n",
    "        <li>\n",
    "            Os Pods possuem uma limitação de apenas poderem ter certos parâmetros seus editados. Caso você tente atualizar o valor de uma porta, por exemplo, o kubectl retornará um erro.\n",
    "        </li>\n",
    "        <li>\n",
    "            É por isso que costuma-se recorrer a um outro tipo de objeto (o Deployment) no desenvolvimento de aplicações em Kubernetes. Os Deployments nada mais são do que wrappers de Pods de configurações idênticas. Esses são mais flexíveis a possíveis edições. \n",
    "        </li>\n",
    "    </ul>\n",
    " </div>"
   ]
  },
  {
   "cell_type": "markdown",
   "id": "f8244f34-67cc-4241-b4ca-785e3eef6b4f",
   "metadata": {},
   "source": [
    "<figure>\n",
    "        <center style='margin-top:20px'>\n",
    "            <img src='img/13_deployment_template.png'>\n",
    "                <figcaption>  Cada Deployment carrega consigo um Pod Template, que contém as configurações exigidas para cada um dos Pods mantidos por si.</figcaption>\n",
    "        </center>\n",
    "    </figure>"
   ]
  },
  {
   "cell_type": "markdown",
   "id": "a8b0da76-abe1-4809-b348-35eb683062b3",
   "metadata": {},
   "source": [
    "<h2 style='font-size:30px'> \n",
    "    Walking Through the Deployment Config</h2>\n",
    "<div> \n",
    "    <ul style='font-size:20px'> \n",
    "        <li>\n",
    "            Aula em que é explicada a estrutura de um .yml de um objeto Deployment.\n",
    "        </li>\n",
    "        <li>\n",
    "            As primeiras linhas informam dados comuns a todos os demais objetos (\"apiVersion\", \"kind\" e \"metadata\"). O principal diferencial está na chave \"spec\".\n",
    "        </li>\n",
    "        <li>\n",
    "            Na chave \"template\", configuramos o Pod a ser envelopado pelo Deployment. Observe que a formatação dos seus dados se assemelha bastante com a do .yml de um Pod\n",
    "        </li>\n",
    "        <li>\n",
    "            \"replicas\" define a quantidade desses Pods que serão criados, enquanto que \"selector\" serve para informarmos um identificador desse conjunto de objetos para futuras edições.\n",
    "        </li>\n",
    "    </ul>\n",
    " </div>"
   ]
  },
  {
   "cell_type": "markdown",
   "id": "9d07bc12-7e0d-4ac5-9e75-8bd2959220b0",
   "metadata": {},
   "source": [
    "<figure>\n",
    "        <center style='margin-top:20px'>\n",
    "            <img src='img/13_deployment_yaml.png'>\n",
    "                <figcaption>  Exemplo de um .yaml de um objeto Deployment.</figcaption>\n",
    "        </center>\n",
    "    </figure>"
   ]
  },
  {
   "cell_type": "markdown",
   "id": "49426af4-b513-49d8-9e33-d8c76374081f",
   "metadata": {},
   "source": [
    "<h2 style='font-size:30px'> \n",
    "    Applying a Deployment</h2>\n",
    "<div> \n",
    "    <ul style='font-size:20px'> \n",
    "        <li>\n",
    "            Aula em que aplicamos o novo objeto Deployment em nosso cluster.\n",
    "        </li>\n",
    "        <li>\n",
    "            Uma vez criada a configuração de nosso Deployment, podemos excluir o objeto Pod presente em nosso cluster. Para deletá-lo, você pode usar o comando `kubectl delete -f &lt;file_path&gt;`.\n",
    "        </li>\n",
    "        <li>\n",
    "            Quando o Deployment é criado, podemos enxergar tanto ele, quanto os seus respectivos Pods com `kubectl get`.\n",
    "        </li>\n",
    "    </ul>\n",
    " </div>"
   ]
  },
  {
   "cell_type": "markdown",
   "id": "3b1c4f56-8979-45a3-acec-34d3df483efe",
   "metadata": {},
   "source": [
    "<h2 style='font-size:30px'> \n",
    "    <a href='https://komodor.com/learn/kubernetes-service-examples-basic-usage-and-troubleshooting/'>Why Use Services?</a></h2>\n",
    "<div> \n",
    "    <ul style='font-size:20px'> \n",
    "        <li>\n",
    "            Aula em que é esclarecido o papel dos Services em aplicações Kubernetes.\n",
    "        </li>\n",
    "        <li>\n",
    "            Serviços são conjuntos de Pods que sustentam um componente funcional. São frequentemente utilizados na intermediação da comunicação entre dois objetos. Além disso, eles conseguem impor políticas que filtram requisições recebidas, como os Security Group dos serviços de Cloud.\n",
    "        </li>\n",
    "        <li>\n",
    "            A necessidade dos Services surge com o fato de os endereços de IP's dos Pods serem facilmente alteráveis, o que dificulta sua sua comunicação direta. Por isso, colocamos entre eles um Service, que recebe um IP virtual (clusterIP), mais persistente do que o comum. Esse se mantém até a destruição explícita do objeto.\n",
    "        </li>\n",
    "    </ul>\n",
    " </div>"
   ]
  },
  {
   "cell_type": "markdown",
   "id": "71f7fb0d-6b91-4778-8945-0df9a243e48b",
   "metadata": {},
   "source": [
    "<h3 style='font-size:30px;font-style:italic'> Tipos de Kubernetes Services</h3>"
   ]
  },
  {
   "cell_type": "markdown",
   "id": "54eb9e8d-7796-4601-858d-00297f853e29",
   "metadata": {
    "tags": []
   },
   "source": [
    "<h4 style='font-size:30px;font-style:italic;text-decoration:underline'>  ClusterIP</h4>\n",
    "<div> \n",
    "    <ul style='font-size:20px'>\n",
    "        <li> \n",
    "            É o objeto default do type Services. Ele recebe um clusterIP que torna os seus respectivos Pods apenas acessíveis de dentro do Cluster.\n",
    "        </li>\n",
    "     </ul>\n",
    "</div>"
   ]
  },
  {
   "cell_type": "markdown",
   "id": "05d1e50c-81be-4883-8e03-6ce8dc0ab3dc",
   "metadata": {
    "tags": []
   },
   "source": [
    "<h4 style='font-size:30px;font-style:italic;text-decoration:underline'>  NodePort</h4>\n",
    "<div> \n",
    "    <ul style='font-size:20px'>\n",
    "        <li> \n",
    "            Um NodePort é responsável por expor um ClusterIP para fora do Cluster por meio de uma porta.\n",
    "        </li>\n",
    "        <li>\n",
    "            Os NodePorts podem ser usados para fazermos um Load Balancer distribuir requisições para um conjunto específico de Pods. Para isso, o balanceador deverá ser configurado para encaminhar as interações para o IP do NodePort, que, por sua vez, as encaminhará para os Pods com os labels definidos no `selector`.\n",
    "        </li>\n",
    "     </ul>\n",
    "</div>"
   ]
  },
  {
   "cell_type": "code",
   "execution_count": 3,
   "id": "d3dc62f6-d3b9-4851-9830-c6902871b08e",
   "metadata": {},
   "outputs": [
    {
     "name": "stdout",
     "output_type": "stream",
     "text": [
      "[master dd1f122] Continuar artigo a partir de \"NodePort\"\n",
      " 2 files changed, 72 insertions(+), 22 deletions(-)\n",
      "Enumerating objects: 7, done.\n",
      "Counting objects: 100% (7/7), done.\n",
      "Delta compression using up to 24 threads\n",
      "Compressing objects: 100% (4/4), done.\n",
      "Writing objects: 100% (4/4), 868 bytes | 868.00 KiB/s, done.\n",
      "Total 4 (delta 3), reused 0 (delta 0), pack-reused 0\n",
      "remote: Resolving deltas: 100% (3/3), completed with 3 local objects.\u001b[K\n",
      "To https://github.com/felipesveiga/docker.git\n",
      "   38dbc20..dd1f122  master -> master\n"
     ]
    }
   ],
   "source": [
    "! git add .\n",
    "! git commit -m 'Continuar de \"LoadBalancer\"'\n",
    "! git push"
   ]
  },
  {
   "cell_type": "markdown",
   "id": "bd067029-0a75-4887-9f5a-2ef76061a473",
   "metadata": {
    "editable": true,
    "slideshow": {
     "slide_type": ""
    },
    "tags": []
   },
   "source": [
    "<p style='color:red'> Descrevi os NodePorts; Continuar de LoadBalancer</p>"
   ]
  },
  {
   "cell_type": "markdown",
   "id": "18b03a02-cebc-486e-83b9-e71dd1614212",
   "metadata": {
    "editable": true,
    "slideshow": {
     "slide_type": ""
    },
    "tags": []
   },
   "source": [
    "<p style='color:red'> Para acessar a aplicação web, use o comando `minikube service client-node-port`</p>"
   ]
  }
 ],
 "metadata": {
  "kernelspec": {
   "display_name": "Python 3 (ipykernel)",
   "language": "python",
   "name": "python3"
  },
  "language_info": {
   "codemirror_mode": {
    "name": "ipython",
    "version": 3
   },
   "file_extension": ".py",
   "mimetype": "text/x-python",
   "name": "python",
   "nbconvert_exporter": "python",
   "pygments_lexer": "ipython3",
   "version": "3.10.12"
  }
 },
 "nbformat": 4,
 "nbformat_minor": 5
}
