{
 "cells": [
  {
   "cell_type": "markdown",
   "id": "8fd220dc-6218-43b3-9639-cb9c3a1d8fd0",
   "metadata": {},
   "source": [
    "<h1 style='font-size:40px'> Maintaining Sets of Containers with Deployments</h1>"
   ]
  },
  {
   "cell_type": "markdown",
   "id": "2f98e80b-ce69-44bb-bebc-d7170e079861",
   "metadata": {},
   "source": [
    "<h2 style='font-size:30px'> \n",
    "    Updating Existing Objects</h2>\n",
    "<div> \n",
    "    <ul style='font-size:20px'> \n",
    "        <li>\n",
    "            Os identificadores de um objeto específico em nosso ambiente são a chave <i>main</i> e <i>kind</i> dos arquivos de configuração (abordagem declarativa).\n",
    "        </li>\n",
    "        <li>\n",
    "            Dessa forma, quando aplicamos uma atualização a um dado .yml, o Master verificará se um objeto com as dadas chaves já existe em algum nó. Caso sim, ele apenas o atualizará, senão, criará um novo objeto.\n",
    "        </li>\n",
    "    </ul>\n",
    " </div>"
   ]
  },
  {
   "cell_type": "markdown",
   "id": "5d4544db-8a22-4639-b262-7bd2287f0a70",
   "metadata": {},
   "source": [
    "<h3 style='font-size:30px;font-style:italic'> kubectl describe</h3>\n",
    "<div> \n",
    "    <ul style='font-size:20px'>\n",
    "        <li> \n",
    "            Para se ter uma visão mais completa sobre o status de um objeto, existe o comando `kubectl describe`, com o qual você pode acessar metadados e logs de execução.\n",
    "        </li>\n",
    "        <li>\n",
    "           Você deve passar como argumento o tipo de objeto a ser analisado e, opcionalmente, o nome da instância, caso queira analisar uma específica. \n",
    "        </li>\n",
    "     </ul>\n",
    "</div>"
   ]
  },
  {
   "cell_type": "markdown",
   "id": "7d56f6ae-ac89-4302-9c02-29d03f823165",
   "metadata": {},
   "source": [
    " <center style='margin-top:20px'> \n",
    "        <figure>\n",
    "            <img src='img/13_kubectl_describe.png'>\n",
    "        </figure>\n",
    "    </center>"
   ]
  },
  {
   "cell_type": "markdown",
   "id": "d844915b-929a-4198-8313-9f0b3a7cc126",
   "metadata": {},
   "source": [
    "<figure>\n",
    "        <center style='margin-top:20px'>\n",
    "            <img src='img/13_update_logs.png'>\n",
    "                <figcaption>  Logs de quando atualizamos apenas a imagem de um Pod. Observe que, no caso, o container é somente reiniciado com a configuração atualizada.</figcaption>\n",
    "        </center>\n",
    "    </figure>"
   ]
  },
  {
   "cell_type": "markdown",
   "id": "1e271726-b88a-4e5f-b902-8f06677fddce",
   "metadata": {},
   "source": [
    "<h2 style='font-size:30px'> \n",
    "    Running Containers with Deployments</h2>\n",
    "<div> \n",
    "    <ul style='font-size:20px'> \n",
    "        <li>\n",
    "            Os Pods possuem uma limitação de apenas poderem ter certos parâmetros seus editados. Caso você tente atualizar o valor de uma porta, por exemplo, o kubectl retornará um erro.\n",
    "        </li>\n",
    "        <li>\n",
    "            É por isso que costuma-se recorrer a um outro tipo de objeto (o Deployment) no desenvolvimento de aplicações em Kubernetes. Os Deployments nada mais são do que wrappers de Pods de configurações idênticas. Esses são mais flexíveis a possíveis edições. \n",
    "        </li>\n",
    "    </ul>\n",
    " </div>"
   ]
  },
  {
   "cell_type": "markdown",
   "id": "f8244f34-67cc-4241-b4ca-785e3eef6b4f",
   "metadata": {},
   "source": [
    "<figure>\n",
    "        <center style='margin-top:20px'>\n",
    "            <img src='img/13_deployment_template.png'>\n",
    "                <figcaption>  Cada Deployment carrega consigo um Pod Template, que contém as configurações exigidas para cada um dos Pods mantidos por si.</figcaption>\n",
    "        </center>\n",
    "    </figure>"
   ]
  },
  {
   "cell_type": "markdown",
   "id": "a8b0da76-abe1-4809-b348-35eb683062b3",
   "metadata": {},
   "source": [
    "<h2 style='font-size:30px'> \n",
    "    Walking Through the Deployment Config</h2>\n",
    "<div> \n",
    "    <ul style='font-size:20px'> \n",
    "        <li>\n",
    "            Aula em que é explicada a estrutura de um .yml de um objeto Deployment.\n",
    "        </li>\n",
    "        <li>\n",
    "            As primeiras linhas informam dados comuns a todos os demais objetos (\"apiVersion\", \"kind\" e \"metadata\"). O principal diferencial está na chave \"spec\".\n",
    "        </li>\n",
    "        <li>\n",
    "            Na chave \"template\", configuramos o Pod a ser envelopado pelo Deployment. Observe que a formatação dos seus dados se assemelha bastante com a do .yml de um Pod\n",
    "        </li>\n",
    "        <li>\n",
    "            \"replicas\" define a quantidade desses Pods que serão criados, enquanto que \"selector\" serve para informarmos um identificador desse conjunto de objetos para futuras edições.\n",
    "        </li>\n",
    "    </ul>\n",
    " </div>"
   ]
  },
  {
   "cell_type": "markdown",
   "id": "9d07bc12-7e0d-4ac5-9e75-8bd2959220b0",
   "metadata": {},
   "source": [
    "<figure>\n",
    "        <center style='margin-top:20px'>\n",
    "            <img src='img/13_deployment_yaml.png'>\n",
    "                <figcaption>  Exemplo de um .yaml de um objeto Deployment.</figcaption>\n",
    "        </center>\n",
    "    </figure>"
   ]
  },
  {
   "cell_type": "markdown",
   "id": "49426af4-b513-49d8-9e33-d8c76374081f",
   "metadata": {},
   "source": [
    "<h2 style='font-size:30px'> \n",
    "    Applying a Deployment</h2>\n",
    "<div> \n",
    "    <ul style='font-size:20px'> \n",
    "        <li>\n",
    "            Aula em que aplicamos o novo objeto Deployment em nosso cluster.\n",
    "        </li>\n",
    "        <li>\n",
    "            Uma vez criada a configuração de nosso Deployment, podemos excluir o objeto Pod presente em nosso cluster. Para deletá-lo, você pode usar o comando `kubectl delete -f &lt;file_path&gt;`.\n",
    "        </li>\n",
    "        <li>\n",
    "            Quando o Deployment é criado, podemos enxergar tanto ele, quanto os seus respectivos Pods com `kubectl get`.\n",
    "        </li>\n",
    "    </ul>\n",
    " </div>"
   ]
  },
  {
   "cell_type": "markdown",
   "id": "3b1c4f56-8979-45a3-acec-34d3df483efe",
   "metadata": {},
   "source": [
    "<h2 style='font-size:30px'> \n",
    "    <a href='https://komodor.com/learn/kubernetes-service-examples-basic-usage-and-troubleshooting/'>Why Use Services?</a></h2>\n",
    "<div> \n",
    "    <ul style='font-size:20px'> \n",
    "        <li>\n",
    "            Aula em que é esclarecido o papel dos Services em aplicações Kubernetes.\n",
    "        </li>\n",
    "        <li>\n",
    "            Serviços são conjuntos de Pods que sustentam um componente funcional. São frequentemente utilizados na intermediação da comunicação entre dois objetos. Além disso, eles conseguem impor políticas que filtram requisições recebidas, como os Security Group dos serviços de Cloud.\n",
    "        </li>\n",
    "        <li>\n",
    "            A necessidade dos Services surge com o fato de os endereços de IP's dos Pods serem facilmente alteráveis, o que dificulta sua sua comunicação direta. Por isso, colocamos entre eles um Service, que recebe um IP virtual (clusterIP), mais persistente do que o comum. Esse se mantém até a destruição explícita do objeto.\n",
    "        </li>\n",
    "    </ul>\n",
    " </div>"
   ]
  },
  {
   "cell_type": "markdown",
   "id": "71f7fb0d-6b91-4778-8945-0df9a243e48b",
   "metadata": {},
   "source": [
    "<h3 style='font-size:30px;font-style:italic'> Tipos de Kubernetes Services</h3>"
   ]
  },
  {
   "cell_type": "markdown",
   "id": "54eb9e8d-7796-4601-858d-00297f853e29",
   "metadata": {
    "tags": []
   },
   "source": [
    "<h4 style='font-size:30px;font-style:italic;text-decoration:underline'>  ClusterIP</h4>\n",
    "<div> \n",
    "    <ul style='font-size:20px'>\n",
    "        <li> \n",
    "            É o objeto default do type Services. Ele recebe um clusterIP que torna os seus respectivos Pods apenas acessíveis de dentro do Cluster.\n",
    "        </li>\n",
    "     </ul>\n",
    "</div>"
   ]
  },
  {
   "cell_type": "markdown",
   "id": "05d1e50c-81be-4883-8e03-6ce8dc0ab3dc",
   "metadata": {
    "tags": []
   },
   "source": [
    "<h4 style='font-size:30px;font-style:italic;text-decoration:underline'>  NodePort</h4>\n",
    "<div> \n",
    "    <ul style='font-size:20px'>\n",
    "        <li> \n",
    "            Um NodePort é responsável por expor um ClusterIP para fora do Cluster por meio de uma porta.\n",
    "        </li>\n",
    "        <li>\n",
    "            Os NodePorts podem ser usados para fazermos um Load Balancer distribuir requisições para um conjunto específico de Pods. Para isso, o balanceador deverá ser configurado para encaminhar as interações para o IP do NodePort, que, por sua vez, as encaminhará para os Pods com os labels definidos no `selector`.\n",
    "        </li>\n",
    "     </ul>\n",
    "</div>"
   ]
  },
  {
   "cell_type": "markdown",
   "id": "5b0fcf96-3cc0-483c-99cc-19d8c6631181",
   "metadata": {
    "tags": []
   },
   "source": [
    "<h4 style='font-size:30px;font-style:italic;text-decoration:underline'>  LoadBalancer</h4>\n",
    "<div> \n",
    "    <ul style='font-size:20px'>\n",
    "        <li> \n",
    "            O objeto LoadBalancer é feita sobre o NodePort. Ele permite você implementar load balancers externos.\n",
    "        </li>\n",
    "        <li>\n",
    "            É considerado um objeto legado, pois consegue rotear tráfego para apenas um Deployment específico de seu cluster.\n",
    "        </li>\n",
    "     </ul>\n",
    "</div>"
   ]
  },
  {
   "cell_type": "markdown",
   "id": "57a32937-7852-41bd-b33b-dc9ef96e6fd2",
   "metadata": {
    "tags": []
   },
   "source": [
    "<h4 style='font-size:30px;font-style:italic;text-decoration:underline'>  Ingress</h4>\n",
    "<div> \n",
    "    <ul style='font-size:20px'>\n",
    "        <li> \n",
    "            Um objeto Ingress possui o mesmo papel que um LoadBalancer, mas consegue rotear o tráfego para mais de um Deployment.\n",
    "        </li>\n",
    "        <li>\n",
    "            Costuma ser o mais adotado pela comunidade Kubernetes. Inclusive, nós o usaremos no projeto que vamos desenvolver!\n",
    "        </li>\n",
    "     </ul>\n",
    "</div>"
   ]
  },
  {
   "cell_type": "markdown",
   "id": "d980ec50-b781-4c62-8515-e07da24903d9",
   "metadata": {
    "tags": []
   },
   "source": [
    "<h4 style='font-size:30px;font-style:italic;text-decoration:underline'>  ExternalName</h4>\n",
    "<div> \n",
    "    <ul style='font-size:20px'>\n",
    "        <li> \n",
    "            Service especial responsável por mapear componentes de nossa aplicação que se encontram fora de nosso cluster ou namespace.\n",
    "        </li>\n",
    "        <li>\n",
    "            Ao invés de usarmos o campo selector, informamos o nome DNS do componente no campo `externalName`.\n",
    "        </li>\n",
    "     </ul>\n",
    "</div>"
   ]
  },
  {
   "cell_type": "markdown",
   "id": "c56ca5a3-56f9-4506-80c8-92e3fc77a056",
   "metadata": {},
   "source": [
    "<h2 style='font-size:30px'> \n",
    "    Updating Deployment Images</h2>\n",
    "<div> \n",
    "    <ul style='font-size:20px'> \n",
    "        <li>\n",
    "            Vamos aprender a atualizar os nossos Pods, caso uma nova versão de sua imagem seja disponibilizada no Docker Hub.\n",
    "        </li>\n",
    "        <li>\n",
    "            As duas maneiras mais apropriadas para fazermos isso seria ou atualizando nosso arquivo de configuração (pondo um :&lt;version_name&gt; após o caminho da imagem), seguido de um `kubectl apply`; ou executando um comando imperativo.\n",
    "        </li>\n",
    "        <li>\n",
    "            No nosso caso, aprenderemos a executar o comando imperativo para aplicar a atualização.\n",
    "        </li>\n",
    "    </ul>\n",
    " </div>"
   ]
  },
  {
   "cell_type": "markdown",
   "id": "2819fda2-d3b6-42d9-a80b-0508b193b35a",
   "metadata": {},
   "source": [
    "<h3 style='font-size:30px;font-style:italic'> Atualização Imperativa de Imagem </h3>\n",
    "<div> \n",
    "    <ul style='font-size:20px'>\n",
    "        <li> \n",
    "            Para atualizarmos uma certa propriedade de um objeto, podemos invocar o comando `kubectl set &lt; property_name&gt;`. No nosso caso, invocaremos `kubectl set image`.\n",
    "        </li>\n",
    "        <li>\n",
    "            Esse comando deverá ser seguido por uma série de argumentos: `&lt;object_type&gt;/&lt; object_name&gt; &lt; container_name&gt;=&lt;new_image_path&gt;`.\n",
    "        </li>\n",
    "     </ul>\n",
    "</div>"
   ]
  },
  {
   "cell_type": "markdown",
   "id": "b97f9d6b-d54b-44c4-b233-6836f8ba50b3",
   "metadata": {},
   "source": [
    "<figure>\n",
    "        <center style='margin-top:20px'>\n",
    "            <img src='img/13_set_image.png'>\n",
    "                <figcaption>  Exemplo do uso de um `kubectl set image`.</figcaption>\n",
    "        </center>\n",
    "    </figure>"
   ]
  },
  {
   "cell_type": "markdown",
   "id": "c2ea29db-8a3e-4164-af4c-cb1d109225c8",
   "metadata": {},
   "source": [
    "<h2 style='font-size:30px'> \n",
    "    Multiple Docker Installations</h2>\n",
    "<div> \n",
    "    <ul style='font-size:20px'> \n",
    "        <li>\n",
    "            Como discutimos na última seção, cada nó de um cluster possui uma cópia própria do Docker (eles não usam o software da sua máquina local). Isso faz com que os comandos da CLI em seu terminal não mostrem detalhes sobre os containers rodando nos clusters Kubernetes.\n",
    "        </li>\n",
    "        <li>\n",
    "            Para fazer com que a CLI da janela <i> atual</i> de seu terminal se comunique com o Docker de seus nós, basta executar o comando `eval $(minikube docker-env)`. Caso você abra um outro prompt, terá que declarar o comando novamente.\n",
    "        </li>\n",
    "        <li>\n",
    "            Isso pode ser útil, quando desejamos debugar os containers, ou deletar itens ociosos do cache do cluster, com `docker system prune -a`.\n",
    "        </li>\n",
    "    </ul>\n",
    " </div>"
   ]
  },
  {
   "cell_type": "markdown",
   "id": "94a5be0d-114f-4a5b-aa3a-fc98fc386c6b",
   "metadata": {
    "editable": true,
    "slideshow": {
     "slide_type": ""
    },
    "tags": []
   },
   "source": [
    "<p style='color:red'> Para acessar a aplicação web, use o comando `minikube service client-node-port`</p>"
   ]
  }
 ],
 "metadata": {
  "kernelspec": {
   "display_name": "Python 3 (ipykernel)",
   "language": "python",
   "name": "python3"
  },
  "language_info": {
   "codemirror_mode": {
    "name": "ipython",
    "version": 3
   },
   "file_extension": ".py",
   "mimetype": "text/x-python",
   "name": "python",
   "nbconvert_exporter": "python",
   "pygments_lexer": "ipython3",
   "version": "3.10.12"
  }
 },
 "nbformat": 4,
 "nbformat_minor": 5
}
