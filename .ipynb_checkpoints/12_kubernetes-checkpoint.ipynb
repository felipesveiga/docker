{
 "cells": [
  {
   "cell_type": "markdown",
   "id": "dcc8c93b-342e-403c-aa6d-750289983e5f",
   "metadata": {},
   "source": [
    "<h1 style='font-size:40px'> Onwards to Kubernetes!</h1>"
   ]
  },
  {
   "cell_type": "markdown",
   "id": "b777aedf-e7e9-4106-a11f-0d03c078b486",
   "metadata": {},
   "source": [
    "<h2 style='font-size:30px'> \n",
    "    The Why's and What's of Kubernetes</h2>\n",
    "<div> \n",
    "    <ul style='font-size:20px'> \n",
    "        <li>\n",
    "            O Kubernetes é uma tecnologia de escalabilidade de containers. Quando uma determinada instância é sobrecarregada, o software pode criar uma nova.\n",
    "        </li>\n",
    "        <li>\n",
    "            O software cria máquinas virtuais (ou nós), que hospedarão múltiplos containers. As funcionalidades de cada nó são gerenciadas pela entidade Master.\n",
    "        </li>\n",
    "        <li>\n",
    "            A agregação de nós com um Master é conhecida como Cluster.\n",
    "            <center style='font-size:20px;margin-top:20px'> \n",
    "                 <img src='img/12_kubernetes_diagram.png'>\n",
    "            </center>\n",
    "        </li>\n",
    "    </ul>\n",
    " </div>"
   ]
  },
  {
   "cell_type": "markdown",
   "id": "578f3f6c-de84-4553-9159-83f5a9fb0c87",
   "metadata": {},
   "source": [
    "<h2 style='font-size:30px'> \n",
    "    Kubernetes in Development and Production</h2>\n",
    "<div> \n",
    "    <ul style='font-size:20px'> \n",
    "        <li>\n",
    "            Lidar com clusters Kubernetes no ambiente de dev ou prod requer soluções diferentes. Em nossa máquina local, usamos o minikube para gerenciar os nós; já em ambientes de nuvem, costumamos usar a solução do provedor (EKS).\n",
    "        </li>\n",
    "        <li>\n",
    "            Devemos ainda contar com outro software (o kubectl) para o gerenciamento dos containers dos nós.\n",
    "        </li>\n",
    "    </ul>\n",
    " </div>"
   ]
  },
  {
   "cell_type": "markdown",
   "id": "f334ee84-1a57-4c5a-8c1d-3e2f0b90d33d",
   "metadata": {},
   "source": [
    "<h2 style='font-size:30px'> \n",
    "    Mapping Existing Knowledge</h2>\n",
    "<div> \n",
    "    <ul style='font-size:20px'> \n",
    "        <li>\n",
    "            Esta seção será dedicada ao deployment da aplicação feita na parte 10 do curso com Kubernetes.\n",
    "        </li>\n",
    "        <li>\n",
    "            Vale mencionar que o Kubernetes possui algumas particularidades: todas as imagens deverão já estar construídas e a rede de containers/clusters terá que ser manualmente criada por nós.\n",
    "        </li>\n",
    "    </ul>\n",
    " </div>"
   ]
  },
  {
   "cell_type": "code",
   "execution_count": 2,
   "id": "fd51116d-8906-4342-acbe-e38fca1ae949",
   "metadata": {},
   "outputs": [
    {
     "name": "stdout",
     "output_type": "stream",
     "text": [
      "[master fc594f6] Aula 180 (3:00), mencionar particularidades do Kubernetes\n",
      " 2 files changed, 82 insertions(+), 24 deletions(-)\n",
      "Enumerating objects: 7, done.\n",
      "Counting objects: 100% (7/7), done.\n",
      "Delta compression using up to 24 threads\n",
      "Compressing objects: 100% (4/4), done.\n",
      "Writing objects: 100% (4/4), 891 bytes | 891.00 KiB/s, done.\n",
      "Total 4 (delta 3), reused 0 (delta 0), pack-reused 0\n",
      "remote: Resolving deltas: 100% (3/3), completed with 3 local objects.\u001b[K\n",
      "To https://github.com/felipesveiga/docker.git\n",
      "   660f067..fc594f6  master -> master\n"
     ]
    }
   ],
   "source": [
    "! git add .\n",
    "! git commit -m 'Aula 182'\n",
    "! git push"
   ]
  },
  {
   "cell_type": "markdown",
   "id": "5c6ae64d-4209-4c9e-8ef0-fb422253cc2d",
   "metadata": {
    "editable": true,
    "slideshow": {
     "slide_type": ""
    },
    "tags": []
   },
   "source": [
    "<p style='color:red'> Vi  Aula 180 e 181; Aula 182</p>"
   ]
  },
  {
   "cell_type": "markdown",
   "id": "78b81825-7815-43c9-aedf-35e76c83bf89",
   "metadata": {
    "editable": true,
    "slideshow": {
     "slide_type": ""
    },
    "tags": []
   },
   "source": [
    "<p style='color:red'> Para criar um cluster, utilize o comando `minikube start --driver=docker`</p>"
   ]
  }
 ],
 "metadata": {
  "kernelspec": {
   "display_name": "Python 3 (ipykernel)",
   "language": "python",
   "name": "python3"
  },
  "language_info": {
   "codemirror_mode": {
    "name": "ipython",
    "version": 3
   },
   "file_extension": ".py",
   "mimetype": "text/x-python",
   "name": "python",
   "nbconvert_exporter": "python",
   "pygments_lexer": "ipython3",
   "version": "3.10.12"
  }
 },
 "nbformat": 4,
 "nbformat_minor": 5
}
