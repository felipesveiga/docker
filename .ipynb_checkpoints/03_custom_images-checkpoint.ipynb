{
 "cells": [
  {
   "cell_type": "markdown",
   "id": "28b1e11a-ab62-470f-bc5b-5b60442b4463",
   "metadata": {},
   "source": [
    "<h1 style='font-size:40px'> \n",
    "Building Custom Images Through Docker Server</h1>"
   ]
  },
  {
   "cell_type": "code",
   "execution_count": 2,
   "id": "31d936a8-0827-4895-bd4b-0029e42d8dcd",
   "metadata": {},
   "outputs": [
    {
     "name": "stdout",
     "output_type": "stream",
     "text": [
      "[master d3fce26] Aula 23\n",
      " 2 files changed, 94 insertions(+), 24 deletions(-)\n",
      "Enumerating objects: 7, done.\n",
      "Counting objects: 100% (7/7), done.\n",
      "Delta compression using up to 24 threads\n",
      "Compressing objects: 100% (4/4), done.\n",
      "Writing objects: 100% (4/4), 1.02 KiB | 1.02 MiB/s, done.\n",
      "Total 4 (delta 3), reused 0 (delta 0), pack-reused 0\n",
      "remote: Resolving deltas: 100% (3/3), completed with 3 local objects.\u001b[K\n",
      "To https://github.com/felipesveiga/docker.git\n",
      "   1b917eb..d3fce26  master -> master\n"
     ]
    }
   ],
   "source": [
    "! git add .\n",
    "! git commit -am 'Iniciar Seção 3'\n",
    "! git push"
   ]
  },
  {
   "cell_type": "markdown",
   "id": "e0b7c417-3e8a-41ae-bad9-66649c2e2734",
   "metadata": {
    "editable": true,
    "slideshow": {
     "slide_type": ""
    },
    "tags": []
   },
   "source": [
    "<p style='color:red'> Vi Aulas 23 a 25; Iniciar Seção 3</p>"
   ]
  }
 ],
 "metadata": {
  "kernelspec": {
   "display_name": "Python 3 (ipykernel)",
   "language": "python",
   "name": "python3"
  },
  "language_info": {
   "codemirror_mode": {
    "name": "ipython",
    "version": 3
   },
   "file_extension": ".py",
   "mimetype": "text/x-python",
   "name": "python",
   "nbconvert_exporter": "python",
   "pygments_lexer": "ipython3",
   "version": "3.10.12"
  }
 },
 "nbformat": 4,
 "nbformat_minor": 5
}
