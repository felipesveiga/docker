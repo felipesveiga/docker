{
 "cells": [
  {
   "cell_type": "markdown",
   "id": "b2c82d4d-dbec-4554-9653-5afb8b28b3b2",
   "metadata": {},
   "source": [
    "<h1 style='font-size:40px'> \n",
    "    <a href='https://www.youtube.com/watch?v=UEOtZvTCmDo&t=1148s'>GitHub Actions</a>\n",
    "</h1>\n",
    "<div> \n",
    "    <ul style='font-size:20px'> \n",
    "        <li>\n",
    "            O GitHub Actions é um serviço de CI/CD próprio do GitHub. Nele, podemos rodar testes automáticos que verificam a qualidade de nosso programa, antes de fundi-lo a alguma branch.\n",
    "        </li>\n",
    "    </ul>\n",
    " </div>"
   ]
  },
  {
   "cell_type": "markdown",
   "id": "7d687887-e9cf-4ebe-906a-884bf0fe6290",
   "metadata": {},
   "source": [
    "<h2 style='font-size:30px'> Branch Protection</h2>\n",
    "<div> \n",
    "    <ul style='font-size:20px'> \n",
    "        <li>\n",
    "            Ao criarmos nosso repositório, podemos definir políticas de proteção de branches. Elas vão impor certas condições para que possamos fazer um merge.\n",
    "        </li>\n",
    "        <li>\n",
    "            Você pode defini-las na tab Rules em Settings do seu repo.\n",
    "        </li>\n",
    "    </ul>\n",
    " </div>"
   ]
  },
  {
   "cell_type": "markdown",
   "id": "dca27913-061d-4476-9345-1d2c4be666fe",
   "metadata": {},
   "source": [
    "<h2 style='font-size:30px'> Creating a Workflow</h2>\n",
    "<div> \n",
    "    <ul style='font-size:20px'> \n",
    "        <li>\n",
    "        </li>\n",
    "    </ul>\n",
    " </div>"
   ]
  },
  {
   "cell_type": "code",
   "execution_count": 1,
   "id": "57f2082a-da54-43fc-b929-860a0557198c",
   "metadata": {},
   "outputs": [
    {
     "name": "stdout",
     "output_type": "stream",
     "text": [
      "[master 6999549] Criar repo para fazer o tutorial\n",
      " 3 files changed, 212 insertions(+), 13 deletions(-)\n",
      " create mode 100644 .ipynb_checkpoints/github-actions-checkpoint.ipynb\n",
      " create mode 100644 github-actions.ipynb\n",
      "Enumerating objects: 8, done.\n",
      "Counting objects: 100% (8/8), done.\n",
      "Delta compression using up to 24 threads\n",
      "Compressing objects: 100% (5/5), done.\n",
      "Writing objects: 100% (5/5), 1.23 KiB | 1.23 MiB/s, done.\n",
      "Total 5 (delta 4), reused 0 (delta 0), pack-reused 0\n",
      "remote: Resolving deltas: 100% (4/4), completed with 3 local objects.\u001b[K\n",
      "To https://github.com/felipesveiga/docker.git\n",
      "   fd5dac2..6999549  master -> master\n"
     ]
    }
   ],
   "source": [
    "! git add .\n",
    "! git commit -am 'Continuar (9:30)'\n",
    "! git push"
   ]
  },
  {
   "cell_type": "markdown",
   "id": "bcdb3c05-22ba-4ed2-a69a-3b6d37f6e862",
   "metadata": {
    "editable": true,
    "slideshow": {
     "slide_type": ""
    },
    "tags": []
   },
   "source": [
    "<p style='color:red'> Explique Branch Protections; Continuar (9:30)</p>"
   ]
  }
 ],
 "metadata": {
  "kernelspec": {
   "display_name": "Python 3 (ipykernel)",
   "language": "python",
   "name": "python3"
  },
  "language_info": {
   "codemirror_mode": {
    "name": "ipython",
    "version": 3
   },
   "file_extension": ".py",
   "mimetype": "text/x-python",
   "name": "python",
   "nbconvert_exporter": "python",
   "pygments_lexer": "ipython3",
   "version": "3.10.12"
  }
 },
 "nbformat": 4,
 "nbformat_minor": 5
}
