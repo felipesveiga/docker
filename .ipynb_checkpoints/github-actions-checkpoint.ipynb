{
 "cells": [
  {
   "cell_type": "markdown",
   "id": "b2c82d4d-dbec-4554-9653-5afb8b28b3b2",
   "metadata": {},
   "source": [
    "<h1 style='font-size:40px'> \n",
    "    <a href='https://www.youtube.com/watch?v=UEOtZvTCmDo&t=1148s'>GitHub Actions</a>\n",
    "</h1>\n",
    "<div> \n",
    "    <ul style='font-size:20px'> \n",
    "        <li>\n",
    "            O GitHub Actions é um serviço de CI/CD próprio do GitHub. Nele, podemos rodar testes automáticos que verificam a qualidade de nosso programa, antes de fundi-lo a alguma branch.\n",
    "        </li>\n",
    "    </ul>\n",
    " </div>"
   ]
  },
  {
   "cell_type": "markdown",
   "id": "7d687887-e9cf-4ebe-906a-884bf0fe6290",
   "metadata": {},
   "source": [
    "<h2 style='font-size:30px'> Branch Protection</h2>\n",
    "<div> \n",
    "    <ul style='font-size:20px'> \n",
    "        <li>\n",
    "            Ao criarmos nosso repositório, podemos definir políticas de proteção de branches. Elas vão impor certas condições para que possamos fazer um merge.\n",
    "        </li>\n",
    "        <li>\n",
    "            Você pode defini-las na tab Rules em Settings do seu repo.\n",
    "        </li>\n",
    "    </ul>\n",
    " </div>"
   ]
  },
  {
   "cell_type": "markdown",
   "id": "dca27913-061d-4476-9345-1d2c4be666fe",
   "metadata": {},
   "source": [
    "<h2 style='font-size:30px'> Creating a Workflow</h2>\n",
    "<div> \n",
    "    <ul style='font-size:20px'> \n",
    "        <li>\n",
    "            Todos os fluxos do GitHub Actions podem ser configurados no diretório .github/workflows com um arquivo .yml. Cada documento indica um teste a ser executado.\n",
    "        </li>\n",
    "        <li>\n",
    "            De forma geral, os arquivos possuem duas seções: uma com a configuração do ambiente de testes, e a outra com as declarações deles.\n",
    "        </li>\n",
    "    </ul>\n",
    " </div>"
   ]
  },
  {
   "cell_type": "markdown",
   "id": "04fe6a32-992b-40d4-a9e3-6b3e58a0ce3f",
   "metadata": {},
   "source": [
    "<h3 style='font-size:30px;font-style:italic'> Seção de Configuração</h3>\n",
    "<div> \n",
    "    <ul style='font-size:20px'>\n",
    "        <li> \n",
    "            \n",
    "        </li>\n",
    "     </ul>\n",
    "</div>"
   ]
  },
  {
   "cell_type": "code",
   "execution_count": 2,
   "id": "57f2082a-da54-43fc-b929-860a0557198c",
   "metadata": {},
   "outputs": [
    {
     "name": "stdout",
     "output_type": "stream",
     "text": [
      "warning: adding embedded git repository: projects/actions\n",
      "\u001b[33mhint: You've added another git repository inside your current repository.\u001b[m\n",
      "\u001b[33mhint: Clones of the outer repository will not contain the contents of\u001b[m\n",
      "\u001b[33mhint: the embedded repository and will not know how to obtain it.\u001b[m\n",
      "\u001b[33mhint: If you meant to add a submodule, use:\u001b[m\n",
      "\u001b[33mhint: \u001b[m\n",
      "\u001b[33mhint: \tgit submodule add <url> projects/actions\u001b[m\n",
      "\u001b[33mhint: \u001b[m\n",
      "\u001b[33mhint: If you added this path by mistake, you can remove it from the\u001b[m\n",
      "\u001b[33mhint: index with:\u001b[m\n",
      "\u001b[33mhint: \u001b[m\n",
      "\u001b[33mhint: \tgit rm --cached projects/actions\u001b[m\n",
      "\u001b[33mhint: \u001b[m\n",
      "\u001b[33mhint: See \"git help submodule\" for more information.\u001b[m\n",
      "[master dd144ef] Continuar (9:30)\n",
      " 3 files changed, 63 insertions(+), 24 deletions(-)\n",
      " create mode 160000 projects/actions\n",
      "Enumerating objects: 9, done.\n",
      "Counting objects: 100% (9/9), done.\n",
      "Delta compression using up to 24 threads\n",
      "Compressing objects: 100% (5/5), done.\n",
      "Writing objects: 100% (5/5), 889 bytes | 889.00 KiB/s, done.\n",
      "Total 5 (delta 4), reused 0 (delta 0), pack-reused 0\n",
      "remote: Resolving deltas: 100% (4/4), completed with 4 local objects.\u001b[K\n",
      "To https://github.com/felipesveiga/docker.git\n",
      "   6999549..dd144ef  master -> master\n"
     ]
    }
   ],
   "source": [
    "! git add .\n",
    "! git commit -am 'Continuar (9:30)'\n",
    "! git push"
   ]
  },
  {
   "cell_type": "markdown",
   "id": "bcdb3c05-22ba-4ed2-a69a-3b6d37f6e862",
   "metadata": {
    "editable": true,
    "slideshow": {
     "slide_type": ""
    },
    "tags": []
   },
   "source": [
    "<p style='color:red'> Explique Branch Protections; Continuar (9:30)</p>"
   ]
  }
 ],
 "metadata": {
  "kernelspec": {
   "display_name": "Python 3 (ipykernel)",
   "language": "python",
   "name": "python3"
  },
  "language_info": {
   "codemirror_mode": {
    "name": "ipython",
    "version": 3
   },
   "file_extension": ".py",
   "mimetype": "text/x-python",
   "name": "python",
   "nbconvert_exporter": "python",
   "pygments_lexer": "ipython3",
   "version": "3.10.12"
  }
 },
 "nbformat": 4,
 "nbformat_minor": 5
}
