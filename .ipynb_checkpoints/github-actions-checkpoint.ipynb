{
 "cells": [
  {
   "cell_type": "markdown",
   "id": "b2c82d4d-dbec-4554-9653-5afb8b28b3b2",
   "metadata": {},
   "source": [
    "<h1 style='font-size:40px'> \n",
    "    <a href='https://www.youtube.com/watch?v=UEOtZvTCmDo&t=1148s'>GitHub Actions</a>\n",
    "</h1>\n",
    "<div> \n",
    "    <ul style='font-size:20px'> \n",
    "        <li>\n",
    "            O GitHub Actions é um serviço de CI/CD próprio do GitHub. Nele, podemos rodar testes automáticos que verificam a qualidade de nosso programa, antes de fundi-lo a alguma branch.\n",
    "        </li>\n",
    "    </ul>\n",
    " </div>"
   ]
  },
  {
   "cell_type": "markdown",
   "id": "7d687887-e9cf-4ebe-906a-884bf0fe6290",
   "metadata": {},
   "source": [
    "<h2 style='font-size:30px'> Branch Protection</h2>\n",
    "<div> \n",
    "    <ul style='font-size:20px'> \n",
    "        <li>\n",
    "            Ao criarmos nosso repositório, podemos definir políticas de proteção de branches. Elas vão impor certas condições para que possamos fazer um merge.\n",
    "        </li>\n",
    "    </ul>\n",
    " </div>"
   ]
  },
  {
   "cell_type": "code",
   "execution_count": 4,
   "id": "57f2082a-da54-43fc-b929-860a0557198c",
   "metadata": {},
   "outputs": [
    {
     "name": "stdout",
     "output_type": "stream",
     "text": [
      "[master fd5dac2] GitHub Actions Tech with Tim\n",
      " 2 files changed, 30 insertions(+), 24 deletions(-)\n",
      "Enumerating objects: 7, done.\n",
      "Counting objects: 100% (7/7), done.\n",
      "Delta compression using up to 24 threads\n",
      "Compressing objects: 100% (4/4), done.\n",
      "Writing objects: 100% (4/4), 730 bytes | 730.00 KiB/s, done.\n",
      "Total 4 (delta 3), reused 0 (delta 0), pack-reused 0\n",
      "remote: Resolving deltas: 100% (3/3), completed with 3 local objects.\u001b[K\n",
      "To https://github.com/felipesveiga/docker.git\n",
      "   0596fa9..fd5dac2  master -> master\n"
     ]
    }
   ],
   "source": [
    "! git add .\n",
    "! git commit -am 'Criar repo para fazer o tutorial'\n",
    "! git push"
   ]
  },
  {
   "cell_type": "markdown",
   "id": "bcdb3c05-22ba-4ed2-a69a-3b6d37f6e862",
   "metadata": {
    "editable": true,
    "slideshow": {
     "slide_type": ""
    },
    "tags": []
   },
   "source": [
    "<p style='color:red'> Iniciei tutorial Actions; Criar repo para fazer o tutorial; Tutorial (6:10)</p>"
   ]
  }
 ],
 "metadata": {
  "kernelspec": {
   "display_name": "Python 3 (ipykernel)",
   "language": "python",
   "name": "python3"
  },
  "language_info": {
   "codemirror_mode": {
    "name": "ipython",
    "version": 3
   },
   "file_extension": ".py",
   "mimetype": "text/x-python",
   "name": "python",
   "nbconvert_exporter": "python",
   "pygments_lexer": "ipython3",
   "version": "3.10.12"
  }
 },
 "nbformat": 4,
 "nbformat_minor": 5
}
