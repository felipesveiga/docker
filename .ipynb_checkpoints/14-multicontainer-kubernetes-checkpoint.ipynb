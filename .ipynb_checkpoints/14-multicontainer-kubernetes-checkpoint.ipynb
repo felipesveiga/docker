{
 "cells": [
  {
   "cell_type": "markdown",
   "id": "2073cb28-b29d-4337-b977-edaf60c46340",
   "metadata": {},
   "source": [
    "<h1 style='font-size:40px'> A Multi-Container App with Kubernetes</h1>"
   ]
  },
  {
   "cell_type": "markdown",
   "id": "c0a40281-f398-48d0-92f3-a9336c137b60",
   "metadata": {},
   "source": [
    "<h2 style='font-size:30px'> \n",
    "    The Path to Production\n",
    "</h2>\n",
    "<div> \n",
    "    <ul style='font-size:20px'> \n",
    "        <li>\n",
    "            Esse capítulo do curso será dedicado à implantação do projeto desenvolvido na seção 8 para um cluster Kubernetes.\n",
    "        </li>\n",
    "    </ul>\n",
    " </div>"
   ]
  },
  {
   "attachments": {},
   "cell_type": "markdown",
   "id": "4af2d2bd-b0ff-4a32-a9a4-0666a975ac1c",
   "metadata": {},
   "source": [
    "<figure>\n",
    "        <center style='margin-top:20px'>\n",
    "            <img src='img/14_project_diagram.png'>\n",
    "                <figcaption>  Diagrama do projeto.</figcaption>\n",
    "        </center>\n",
    "    </figure>"
   ]
  },
  {
   "cell_type": "markdown",
   "id": "4ecaa578-0c2a-48a4-9795-69e8a58885cc",
   "metadata": {},
   "source": [
    "<h2 style='font-size:30px'> \n",
    "    Recreating the Deployment\n",
    "</h2>\n",
    "<div> \n",
    "    <ul style='font-size:20px'> \n",
    "        <li>\n",
    "            Aula em que configuramos o .yaml do Deployment dos Pods com as imagens \"multi-client\".\n",
    "        </li>\n",
    "    </ul>\n",
    " </div>"
   ]
  },
  {
   "cell_type": "markdown",
   "id": "4e6aa442-dd20-49b1-a0d7-b8923eac64bb",
   "metadata": {},
   "source": [
    "<h2 style='font-size:30px'> \n",
    "    The ClusterIP Config\n",
    "</h2>\n",
    "<div> \n",
    "    <ul style='font-size:20px'> \n",
    "        <li>\n",
    "            Configuração do .yaml do Cluster IP do Deployment Client.\n",
    "        </li>\n",
    "        <li>\n",
    "            Por questão de organização, os arquivos de cada Deployment e seus respectivos CluaterIP's ficarão em pastas distintas. \n",
    "        </li>\n",
    "    </ul>\n",
    " </div>"
   ]
  },
  {
   "cell_type": "markdown",
   "id": "40feb141-0d3b-47ca-9931-e1a45b1920c2",
   "metadata": {},
   "source": [
    "<h2 style='font-size:30px'> \n",
    "    Applying Multiple Files with Kubectl\n",
    "</h2>\n",
    "<div> \n",
    "    <ul style='font-size:20px'> \n",
    "        <li>\n",
    "            Aplicação dos arquivos relacionados ao Deployment da imagem \"multi-client\".\n",
    "        </li>\n",
    "        <li>\n",
    "            <i> Dica:</i> O comando `kubectl apply -f` admite passarmos o nome do diretório com os arquivos de configuração.\n",
    "        </li>\n",
    "    </ul>\n",
    " </div>"
   ]
  },
  {
   "cell_type": "code",
   "execution_count": 2,
   "id": "1e52e364-081d-43bc-8789-9a529eea9bda",
   "metadata": {},
   "outputs": [],
   "source": [
    "# Exemplo de apply baseado num diretório.\n",
    "! kubectl apply -f k8s/client/"
   ]
  },
  {
   "cell_type": "markdown",
   "id": "3aa6461b-8951-4dbe-80f2-cbbd51beb15b",
   "metadata": {},
   "source": [
    "<h2 style='font-size:30px'> \n",
    "    Express API Deployment Config\n",
    "</h2>\n",
    "<div> \n",
    "    <ul style='font-size:20px'> \n",
    "        <li>\n",
    "            Escrita do arquivo de configuração do Deployment do server.\n",
    "        </li>\n",
    "    </ul>\n",
    " </div>"
   ]
  },
  {
   "cell_type": "markdown",
   "id": "1ea81798-1ca8-486b-9965-9ce5795b880e",
   "metadata": {},
   "source": [
    "<h2 style='font-size:30px'> \n",
    "    ClusterIP for the Express API\n",
    "</h2>\n",
    "<div> \n",
    "    <ul style='font-size:20px'> \n",
    "        <li>\n",
    "            Escrita do arquivo de configuração do ClusterIP do server.\n",
    "        </li>\n",
    "    </ul>\n",
    " </div>"
   ]
  },
  {
   "cell_type": "markdown",
   "id": "e0aeda29-81a3-447b-8c0b-14788f6f07ff",
   "metadata": {},
   "source": [
    "<h2 style='font-size:30px'> \n",
    "    The Worker Deployment\n",
    "</h2>\n",
    "<div> \n",
    "    <ul style='font-size:20px'> \n",
    "        <li>\n",
    "            Escrita do arquivo de configuração do worker do server.\n",
    "        </li>\n",
    "    </ul>\n",
    " </div>"
   ]
  },
  {
   "cell_type": "markdown",
   "id": "2e301aa0-edf3-4811-b1ec-6e82c562affd",
   "metadata": {},
   "source": [
    "<h2 style='font-size:30px'> \n",
    "    Reapplying a Batch of Config Files\n",
    "</h2>\n",
    "<div> \n",
    "    <ul style='font-size:20px'> \n",
    "        <li>\n",
    "            Aplicação das configurações escritas até o momento.\n",
    "        </li>\n",
    "        <li>\n",
    "            Criei o arquivo `start.sh` para facilitar os applys.\n",
    "        </li>\n",
    "    </ul>\n",
    " </div>"
   ]
  },
  {
   "cell_type": "code",
   "execution_count": 4,
   "id": "5426b315-3917-4e2d-b5ee-ed1e8b04ba86",
   "metadata": {},
   "outputs": [
    {
     "name": "stdout",
     "output_type": "stream",
     "text": [
      "[master ef420e9] Aula 217\n",
      " 6 files changed, 133 insertions(+), 27 deletions(-)\n",
      " create mode 100644 projects/complex-gh/k8s/server/server-cluster-ip-service.yaml\n",
      " create mode 100644 projects/complex-gh/k8s/server/server-deployment.yaml\n",
      "Enumerating objects: 22, done.\n",
      "Counting objects: 100% (22/22), done.\n",
      "Delta compression using up to 24 threads\n",
      "Compressing objects: 100% (13/13), done.\n",
      "Writing objects: 100% (13/13), 1.60 KiB | 1.60 MiB/s, done.\n",
      "Total 13 (delta 8), reused 0 (delta 0), pack-reused 0\n",
      "remote: Resolving deltas: 100% (8/8), completed with 7 local objects.\u001b[K\n",
      "To https://github.com/felipesveiga/docker.git\n",
      "   26e0fab..ef420e9  master -> master\n"
     ]
    }
   ],
   "source": [
    "! git add .\n",
    "! git commit -m 'Aula 219'\n",
    "! git push"
   ]
  },
  {
   "cell_type": "markdown",
   "id": "eb89864a-b4bc-4d5a-bfc0-0ed5a1f87afe",
   "metadata": {
    "editable": true,
    "slideshow": {
     "slide_type": ""
    },
    "tags": []
   },
   "source": [
    "<p style='color:red'> Vi Aula 217 e 218; Aula 219</p>"
   ]
  }
 ],
 "metadata": {
  "kernelspec": {
   "display_name": "Python 3 (ipykernel)",
   "language": "python",
   "name": "python3"
  },
  "language_info": {
   "codemirror_mode": {
    "name": "ipython",
    "version": 3
   },
   "file_extension": ".py",
   "mimetype": "text/x-python",
   "name": "python",
   "nbconvert_exporter": "python",
   "pygments_lexer": "ipython3",
   "version": "3.10.12"
  }
 },
 "nbformat": 4,
 "nbformat_minor": 5
}
