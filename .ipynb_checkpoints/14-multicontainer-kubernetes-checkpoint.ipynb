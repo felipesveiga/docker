{
 "cells": [
  {
   "cell_type": "markdown",
   "id": "2073cb28-b29d-4337-b977-edaf60c46340",
   "metadata": {},
   "source": [
    "<h1 style='font-size:40px'> A Multi-Container App with Kubernetes</h1>"
   ]
  },
  {
   "cell_type": "markdown",
   "id": "c0a40281-f398-48d0-92f3-a9336c137b60",
   "metadata": {},
   "source": [
    "<h2 style='font-size:30px'> \n",
    "    The Path to Production\n",
    "</h2>\n",
    "<div> \n",
    "    <ul style='font-size:20px'> \n",
    "        <li>\n",
    "            Esse capítulo do curso será dedicado à implantação do projeto desenvolvido na seção 8 para um cluster Kubernetes.\n",
    "        </li>\n",
    "    </ul>\n",
    " </div>"
   ]
  },
  {
   "attachments": {},
   "cell_type": "markdown",
   "id": "4af2d2bd-b0ff-4a32-a9a4-0666a975ac1c",
   "metadata": {},
   "source": [
    "<figure>\n",
    "        <center style='margin-top:20px'>\n",
    "            <img src='img/14_project_diagram.png'>\n",
    "                <figcaption>  Diagrama do projeto.</figcaption>\n",
    "        </center>\n",
    "    </figure>"
   ]
  },
  {
   "cell_type": "markdown",
   "id": "4ecaa578-0c2a-48a4-9795-69e8a58885cc",
   "metadata": {},
   "source": [
    "<h2 style='font-size:30px'> \n",
    "    Recreating the Deployment\n",
    "</h2>\n",
    "<div> \n",
    "    <ul style='font-size:20px'> \n",
    "        <li>\n",
    "            Aula em que configuramos o .yaml do Deployment dos Pods com as imagens \"multi-client\".\n",
    "        </li>\n",
    "    </ul>\n",
    " </div>"
   ]
  },
  {
   "cell_type": "markdown",
   "id": "4e6aa442-dd20-49b1-a0d7-b8923eac64bb",
   "metadata": {},
   "source": [
    "<h2 style='font-size:30px'> \n",
    "    The ClusterIP Config\n",
    "</h2>\n",
    "<div> \n",
    "    <ul style='font-size:20px'> \n",
    "        <li>\n",
    "            Configuração do .yaml do Cluster IP do Deployment Client.\n",
    "        </li>\n",
    "        <li>\n",
    "            Por questão de organização, os arquivos de cada Deployment e seus respectivos CluaterIP's ficarão em pastas distintas. \n",
    "        </li>\n",
    "    </ul>\n",
    " </div>"
   ]
  },
  {
   "cell_type": "markdown",
   "id": "40feb141-0d3b-47ca-9931-e1a45b1920c2",
   "metadata": {},
   "source": [
    "<h2 style='font-size:30px'> \n",
    "    Applying Multiple Files with Kubectl\n",
    "</h2>\n",
    "<div> \n",
    "    <ul style='font-size:20px'> \n",
    "        <li>\n",
    "            Aplicação dos arquivos relacionados ao Deployment da imagem \"multi-client\".\n",
    "        </li>\n",
    "        <li>\n",
    "            <i> Dica:</i> O comando `kubectl apply -f` admite passarmos o nome do diretório com os arquivos de configuração.\n",
    "        </li>\n",
    "    </ul>\n",
    " </div>"
   ]
  },
  {
   "cell_type": "code",
   "execution_count": 2,
   "id": "1e52e364-081d-43bc-8789-9a529eea9bda",
   "metadata": {},
   "outputs": [],
   "source": [
    "# Exemplo de apply baseado num diretório.\n",
    "! kubectl apply -f k8s/client/"
   ]
  },
  {
   "cell_type": "markdown",
   "id": "3aa6461b-8951-4dbe-80f2-cbbd51beb15b",
   "metadata": {},
   "source": [
    "<h2 style='font-size:30px'> \n",
    "    Express API Deployment Config\n",
    "</h2>\n",
    "<div> \n",
    "    <ul style='font-size:20px'> \n",
    "        <li>\n",
    "            Escrita do arquivo de configuração do Deployment do server.\n",
    "        </li>\n",
    "    </ul>\n",
    " </div>"
   ]
  },
  {
   "cell_type": "markdown",
   "id": "1ea81798-1ca8-486b-9965-9ce5795b880e",
   "metadata": {},
   "source": [
    "<h2 style='font-size:30px'> \n",
    "    ClusterIP for the Express API\n",
    "</h2>\n",
    "<div> \n",
    "    <ul style='font-size:20px'> \n",
    "        <li>\n",
    "            Escrita do arquivo de configuração do ClusterIP do server.\n",
    "        </li>\n",
    "    </ul>\n",
    " </div>"
   ]
  },
  {
   "cell_type": "markdown",
   "id": "e0aeda29-81a3-447b-8c0b-14788f6f07ff",
   "metadata": {},
   "source": [
    "<h2 style='font-size:30px'> \n",
    "    The Worker Deployment\n",
    "</h2>\n",
    "<div> \n",
    "    <ul style='font-size:20px'> \n",
    "        <li>\n",
    "            Escrita do arquivo de configuração do worker do server.\n",
    "        </li>\n",
    "    </ul>\n",
    " </div>"
   ]
  },
  {
   "cell_type": "markdown",
   "id": "2e301aa0-edf3-4811-b1ec-6e82c562affd",
   "metadata": {},
   "source": [
    "<h2 style='font-size:30px'> \n",
    "    Reapplying a Batch of Config Files\n",
    "</h2>\n",
    "<div> \n",
    "    <ul style='font-size:20px'> \n",
    "        <li>\n",
    "            Aplicação das configurações escritas até o momento.\n",
    "        </li>\n",
    "        <li>\n",
    "            Criei o arquivo `start.sh` para facilitar os applys.\n",
    "        </li>\n",
    "    </ul>\n",
    " </div>"
   ]
  },
  {
   "cell_type": "markdown",
   "id": "0b116820-27ae-4fab-b738-58d7abba140b",
   "metadata": {},
   "source": [
    "<h2 style='font-size:30px'> \n",
    "    The Need for Volumes with Databases\n",
    "</h2>\n",
    "<div> \n",
    "    <ul style='font-size:20px'> \n",
    "        <li>\n",
    "            Como vimos no decorrer do curso, é totalmente possível termos que realizar manunteções nos objetos de nosso cluster. Nessa situação, existe a chance de o Master deletar a versão antiga do componente e substitui-la pela nova.\n",
    "        </li>\n",
    "        <li>\n",
    "            No caso de containers de bases de dados, isso é extremamente perigoso para a nossa aplicação, uma vez que a exclusão do container implicará na perda de seus dados armazenados nele.\n",
    "        </li>\n",
    "        <li>\n",
    "            Tendo isso em vista, é uma boa prática armazenarmos os dados numa estrutura externa ao Pod da DB. Nesse caso, a chamamos de \"Volume\". Com ele, podemos manter as nossas informações seguras de qualquer deleção feita em nosso cluster.\n",
    "        </li>\n",
    "    </ul>\n",
    " </div>"
   ]
  },
  {
   "attachments": {},
   "cell_type": "markdown",
   "id": "b64ddfea-1c88-4297-8f73-aee9a82fbcb4",
   "metadata": {},
   "source": [
    "<figure>\n",
    "        <center style='margin-top:20px'>\n",
    "            <img src='img/14_volume.png'>\n",
    "                <figcaption>  Esquematização do funcionamento do Volume.</figcaption>\n",
    "        </center>\n",
    "    </figure>"
   ]
  },
  {
   "cell_type": "markdown",
   "id": "2f2b5a47-f8fc-4123-b7a2-29bab6f9ab5d",
   "metadata": {},
   "source": [
    "<h2 style='font-size:30px'> \n",
    "    Kubernetes Volumes\n",
    "</h2>\n",
    "<div> \n",
    "    <ul style='font-size:20px'> \n",
    "        <li>\n",
    "            O Kubernetes oferece três tipos de objetos Volumes que podemos usar em nossas aplicações. Exploraremos cada um deles. \n",
    "        </li>\n",
    "        <li>\n",
    "            O objeto mais básico é o \"Volume\". Ele fica associado a um container de um certo Pod. É extremamente vulnerável, já que será deletado caso o Pod ou Deployment sejam apagados.\n",
    "        </li>\n",
    "    </ul>\n",
    " </div>"
   ]
  },
  {
   "attachments": {},
   "cell_type": "markdown",
   "id": "251963ed-6612-42bd-ac88-8d26caeff387",
   "metadata": {},
   "source": [
    "<figure>\n",
    "        <center style='margin-top:20px'>\n",
    "            <img src='img/14_volume_types.png'>\n",
    "                <figcaption>  Relação dos tipos de Volumes disponíveis no Kubernetes</figcaption>\n",
    "        </center>\n",
    "    </figure>"
   ]
  },
  {
   "cell_type": "markdown",
   "id": "13b46981-043b-4827-91dd-36c0e7422b85",
   "metadata": {},
   "source": [
    "<h2 style='font-size:30px'> \n",
    "    <a href='https://bluexp.netapp.com/blog/cvo-blg-5-types-of-kubernetes-volumes-and-how-to-work-with-them'>\n",
    "        Kubernetes Volumes\n",
    "    </a>\n",
    "</h2>\n",
    "<div> \n",
    "    <ul style='font-size:20px'> \n",
    "        <li>\n",
    "            O artigo do link acima aprofunda o entendimento dos Volumes do Kubernetes. Eles são sistemas de arquivos que oferecem um espaço adicional de armazenamento para os containers.\n",
    "        </li>\n",
    "        <li>\n",
    "            Na geração do container, os Volumes são associados a ele por meio de um `mount`.\n",
    "        </li>\n",
    "        <li>\n",
    "            Os Volumes podem ser classificados em dois tipos: Efêmeros e Persistentes. Na primeira categoria, os dados estão atrelados ao tempo de vida de um Pod, enquanto que na segunda não.\n",
    "        </li>\n",
    "    </ul>\n",
    " </div>"
   ]
  },
  {
   "cell_type": "markdown",
   "id": "abf20ad2-aafd-4ea1-9f4d-25adc16059ff",
   "metadata": {},
   "source": [
    "<h3 style='font-size:30px;font-style:italic'> Tipos de Persistent Volumes</h3>"
   ]
  },
  {
   "cell_type": "markdown",
   "id": "116d637d-cfca-46b4-9afe-73f35fbbf044",
   "metadata": {
    "tags": []
   },
   "source": [
    "<h4 style='font-size:30px;font-style:italic;text-decoration:underline'> PersistentVolume (PV) </h4>\n",
    "<div> \n",
    "    <ul style='font-size:20px'> \n",
    "        <li>\n",
    "            PV's são objetos de armazenamento presentes no Cluster, com a capacidade de persistir os dados independentemente do ciclo de vida dos Pods que o consomem.\n",
    "        </li>\n",
    "    </ul>\n",
    "</div>"
   ]
  },
  {
   "cell_type": "markdown",
   "id": "95100e06-81a1-4415-8e9a-902bc6355252",
   "metadata": {
    "tags": []
   },
   "source": [
    "<h4 style='font-size:30px;font-style:italic;text-decoration:underline'> PersistentVolumeClaim (PVC) </h4>\n",
    "<div> \n",
    "    <ul style='font-size:20px'> \n",
    "        <li>\n",
    "            PVC's são requisições por espaço de PV's feitas por Pods de nosso cluster. Com eles, podemos solicitar uma certa quantia de armazenamento, com um determinado modo de acesso.\n",
    "        </li>\n",
    "        <li>\n",
    "            O tipo de armazenamento requisitado não precisa, necessariamente, já existir em seu cluster como um PV. Caso não exista um Volume com as características desejadas, o Kubernetes o criará automaticamente.\n",
    "        </li>\n",
    "        <li>\n",
    "            Existem 3 tipos de modos de acesso suportados pelos PVC's, como menciona a imagem abaixo:\n",
    "        </li>\n",
    "    </ul>\n",
    "</div>"
   ]
  },
  {
   "attachments": {},
   "cell_type": "markdown",
   "id": "d9f66c03-5fb2-41b0-b34d-1139eae12cad",
   "metadata": {},
   "source": [
    "<figure>\n",
    "        <center style='margin-top:20px'>\n",
    "            <img src='img/14_pvc_modes.png'>\n",
    "                <figcaption>  Access Modes suportados pelo K8s.</figcaption>\n",
    "        </center>\n",
    "    </figure>"
   ]
  },
  {
   "cell_type": "markdown",
   "id": "6720effc-b984-40ab-a4bc-fab859603615",
   "metadata": {},
   "source": [
    "<h3 style='font-size:30px;font-style:italic'> Tipos de Ephemeral Volumes</h3>"
   ]
  },
  {
   "cell_type": "markdown",
   "id": "2708615b-5864-47c8-bf7b-f8c35ef3ea10",
   "metadata": {
    "tags": []
   },
   "source": [
    "<h4 style='font-size:30px;font-style:italic;text-decoration:underline'> emptyDir </h4>\n",
    "<div> \n",
    "    <ul style='font-size:20px'> \n",
    "        <li>\n",
    "            emptyDir's são usados assim que um Pod é criado dentro do Cluster.\n",
    "        </li>\n",
    "        <li>\n",
    "            Podemos estabelecê-los tanto no Disco Rígido, quanto na memória de nossa máquina \n",
    "        </li>\n",
    "    </ul>\n",
    "</div>"
   ]
  },
  {
   "cell_type": "markdown",
   "id": "32535855-be97-4710-8c6b-64d0fff5a670",
   "metadata": {
    "tags": []
   },
   "source": [
    "<h4 style='font-size:30px;font-style:italic;text-decoration:underline'> hostPath</h4>\n",
    "<div> \n",
    "    <ul style='font-size:20px'> \n",
    "        <li>\n",
    "            Tipo de volume que aponta para um diretório ou arquivo do sistema de arquivos do nó que contém o Pod.\n",
    "        </li>\n",
    "        <li>\n",
    "            Recomenda-se usá-lo apenas quando for necessário, pois pode abrir vulnerabilidades na sua aplicação.\n",
    "        </li>\n",
    "    </ul>\n",
    "</div>"
   ]
  },
  {
   "cell_type": "markdown",
   "id": "1ee369a2-bec6-4fb2-ae7e-0a225c990ce0",
   "metadata": {},
   "source": [
    "<h3 style='font-size:30px;font-style:italic'> Declaração de Volumes</h3>\n",
    "<div> \n",
    "    <ul style='font-size:20px'> \n",
    "        <li>\n",
    "            Criamos os Volumes nos arquivos de configuração de Pods ou Deployments na seção \"volumes\".\n",
    "        </li>\n",
    "        <li>\n",
    "            Para realizar o mount desse mesmo volume, declare a seção \"volumeMounts\", em seguida.\n",
    "        </li>\n",
    "    </ul>\n",
    "</div>"
   ]
  },
  {
   "cell_type": "markdown",
   "id": "25b2080c-1d8e-47c3-b4b9-061f904317db",
   "metadata": {},
   "source": [
    "<h2 style='font-size:30px'> \n",
    "    Claim Config Files\n",
    "</h2>\n",
    "<div> \n",
    "    <ul style='font-size:20px'> \n",
    "        <li>\n",
    "            Escrita do arquivo de configuração do Persistent Volume Claim a ser utilizado pela base de dados da aplicação.\n",
    "        </li>\n",
    "        <li>\n",
    "            O instrutor afirma que o Kubernetes decide de onde obter espaço para construir os seus Volumes com base no ambiente do cluster. Caso seja em máquina local, o disco será usado. No entanto, em ambientes de nuvem, um Storage Class específico será invocado.            \n",
    "        </li>\n",
    "    </ul>\n",
    " </div>"
   ]
  },
  {
   "cell_type": "code",
   "execution_count": 8,
   "id": "8786b6bb-eb2d-4972-9539-46e972bf8a79",
   "metadata": {},
   "outputs": [
    {
     "name": "stdout",
     "output_type": "stream",
     "text": [
      "NAME                 PROVISIONER                RECLAIMPOLICY   VOLUMEBINDINGMODE   ALLOWVOLUMEEXPANSION   AGE\n",
      "standard (default)   k8s.io/minikube-hostpath   Delete          Immediate           false                  76d\n"
     ]
    }
   ],
   "source": [
    "# Use o comando abaixo para adivinhar a Storage Class default do seu cluster.\n",
    "! kubectl get storageclass"
   ]
  },
  {
   "cell_type": "markdown",
   "id": "c6cb3202-14c6-42b4-82c3-82f884a4b56c",
   "metadata": {},
   "source": [
    "<h2 style='font-size:30px'> \n",
    "    Designating a PVC in a Pod Template\n",
    "</h2>\n",
    "<div> \n",
    "    <ul style='font-size:20px'> \n",
    "        <li>   \n",
    "            Nessa aula, associamos o PVC criado na aula anterior ao Postgres Deployment.\n",
    "        </li>\n",
    "        <li>\n",
    "            Para instanciar um Volume baseado no PVC, redija um bloco <i>volumes</i> em <i>spec</i>. Uma vez feito isso, você deverá vincular o Volume criado ao Deployment.\n",
    "        </li>\n",
    "        <li>\n",
    "            Em <i>containers</i>, crie um bloco <i>volumeMounts</i>, onde você especificará o diretório de montagem do Volume. Opcionalmente, você consegue especificar o diretório onde os dados ficarão alocados, dentro de seu Volume, com o argumento <i> subPath</i>.\n",
    "        </li>\n",
    "    </ul>\n",
    " </div>"
   ]
  },
  {
   "cell_type": "markdown",
   "id": "649b8629-80e2-4cb4-91e9-50ea131e3101",
   "metadata": {},
   "source": [
    "```Dockerfile\n",
    "    spec:\n",
    "      volumes:\n",
    "      - name: postgres-storage\n",
    "        persistentVolumeClaim:\n",
    "          claimName: database-persistent-volume-claim\n",
    "      containers:\n",
    "      - name: postgres \n",
    "        image: postgres\n",
    "        volumeMounts:\n",
    "        - name: postgres-storage\n",
    "          mountPath: /var/lib/postgresql/data\n",
    "          subPath: postgres\n",
    "        resources:\n",
    "          limits:\n",
    "            memory: \"128Mi\"\n",
    "            cpu: \"500m\"\n",
    "        ports:\n",
    "        - containerPort: 5432 \n",
    "```"
   ]
  },
  {
   "cell_type": "markdown",
   "id": "cc16512c-66dd-4053-8265-bd999074f264",
   "metadata": {},
   "source": [
    "<h2 style='font-size:30px'> \n",
    "    Defining Environment Variables\n",
    "</h2>\n",
    "<div> \n",
    "    <ul style='font-size:20px'> \n",
    "        <li>   \n",
    "            Para efetivarmos as conexões dos Deployments entre si, precisaremos definir algumas variáveis de ambiente em seus arquivos de configuração.\n",
    "        </li>\n",
    "        <li>\n",
    "            Para criá-las, abra um bloco <i>env</i> dentro de <i> containers</i>. Você deverá passar um array de dicionários com chaves \"name\" e \"value\".\n",
    "        </li>\n",
    "    </ul>\n",
    " </div>"
   ]
  },
  {
   "cell_type": "markdown",
   "id": "b595a3de-2b71-4f64-bc31-41f404a9dca2",
   "metadata": {},
   "source": [
    "```Dockerfile\n",
    "    # Exemplo de bloco `env`\n",
    "    env:\n",
    "          - name: REDIS_HOST\n",
    "            value: redis-cluster-ip-service\n",
    "          - name: REDIS_PORT\n",
    "            value: 6379\n",
    "```"
   ]
  },
  {
   "cell_type": "code",
   "execution_count": 10,
   "id": "5426b315-3917-4e2d-b5ee-ed1e8b04ba86",
   "metadata": {},
   "outputs": [
    {
     "name": "stdout",
     "output_type": "stream",
     "text": [
      "[master b96b411] Aula 231\n",
      " 4 files changed, 133 insertions(+), 29 deletions(-)\n",
      "Enumerating objects: 19, done.\n",
      "Counting objects: 100% (19/19), done.\n",
      "Delta compression using up to 24 threads\n",
      "Compressing objects: 100% (10/10), done.\n",
      "Writing objects: 100% (10/10), 1.79 KiB | 1.79 MiB/s, done.\n",
      "Total 10 (delta 8), reused 0 (delta 0), pack-reused 0\n",
      "remote: Resolving deltas: 100% (8/8), completed with 8 local objects.\u001b[K\n",
      "To https://github.com/felipesveiga/docker.git\n",
      "   9d38396..b96b411  master -> master\n"
     ]
    }
   ],
   "source": [
    "! git add .\n",
    "! git commit -m 'Aula 233'\n",
    "! git push"
   ]
  },
  {
   "cell_type": "markdown",
   "id": "c86d5723-8395-4b00-9ac5-9fad73e9ec2d",
   "metadata": {
    "editable": true,
    "slideshow": {
     "slide_type": ""
    },
    "tags": []
   },
   "source": [
    "<p style='color:red'> Vi Aula 231 e 232; Aula 233</p>"
   ]
  }
 ],
 "metadata": {
  "kernelspec": {
   "display_name": "Python 3 (ipykernel)",
   "language": "python",
   "name": "python3"
  },
  "language_info": {
   "codemirror_mode": {
    "name": "ipython",
    "version": 3
   },
   "file_extension": ".py",
   "mimetype": "text/x-python",
   "name": "python",
   "nbconvert_exporter": "python",
   "pygments_lexer": "ipython3",
   "version": "3.10.12"
  }
 },
 "nbformat": 4,
 "nbformat_minor": 5
}
