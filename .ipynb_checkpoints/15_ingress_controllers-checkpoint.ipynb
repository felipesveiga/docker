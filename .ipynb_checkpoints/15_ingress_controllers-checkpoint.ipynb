{
 "cells": [
  {
   "cell_type": "markdown",
   "id": "2153e22d-0f9f-4da4-a901-1f540542bac7",
   "metadata": {},
   "source": [
    "<h1 style='font-size:40px'> Handling Traffic Ingress Controllers</h1>"
   ]
  },
  {
   "cell_type": "markdown",
   "id": "3733fe1b-872f-4625-b922-9440a845caea",
   "metadata": {},
   "source": [
    "<h2 style='font-size:30px'> \n",
    "    A Quick Note on Ingresses\n",
    "</h2>\n",
    "<div> \n",
    "    <ul style='font-size:20px'> \n",
    "        <li>\n",
    "            O último componente que resta em nosso ambiente é um objeto Ingress. \n",
    "        </li>\n",
    "        <li>\n",
    "            Ele será o balanceador de nossa aplicação. No nosso caso, usaremos uma <a href='https://github.com/kubernetes/ingress-nginx'>versão específica</a> desse objeto, que funciona com o Nginx.\n",
    "        </li>\n",
    "    </ul>\n",
    " </div>"
   ]
  },
  {
   "cell_type": "code",
   "execution_count": 2,
   "id": "66c39fef-26b6-49e6-aa06-39887922a5d6",
   "metadata": {},
   "outputs": [
    {
     "name": "stdout",
     "output_type": "stream",
     "text": [
      "[master b705d9f] Aula 240\n",
      " 4 files changed, 82 insertions(+), 24 deletions(-)\n",
      "Enumerating objects: 8, done.\n",
      "Counting objects: 100% (8/8), done.\n",
      "Delta compression using up to 24 threads\n",
      "Compressing objects: 100% (5/5), done.\n",
      "Writing objects: 100% (5/5), 1.90 KiB | 1.90 MiB/s, done.\n",
      "Total 5 (delta 3), reused 0 (delta 0), pack-reused 0\n",
      "remote: Resolving deltas: 100% (3/3), completed with 3 local objects.\u001b[K\n",
      "To https://github.com/felipesveiga/docker.git\n",
      "   cb88b81..b705d9f  master -> master\n"
     ]
    }
   ],
   "source": [
    "! git add .\n",
    "! git commit -m 'Aula 246'\n",
    "! git push"
   ]
  },
  {
   "cell_type": "markdown",
   "id": "8691601f-28ec-428d-9a87-9812140b244f",
   "metadata": {
    "editable": true,
    "slideshow": {
     "slide_type": ""
    },
    "tags": []
   },
   "source": [
    "<p style='color:red'> Vi Aula 240 a 245; Aula 246</p>"
   ]
  }
 ],
 "metadata": {
  "kernelspec": {
   "display_name": "Python 3 (ipykernel)",
   "language": "python",
   "name": "python3"
  },
  "language_info": {
   "codemirror_mode": {
    "name": "ipython",
    "version": 3
   },
   "file_extension": ".py",
   "mimetype": "text/x-python",
   "name": "python",
   "nbconvert_exporter": "python",
   "pygments_lexer": "ipython3",
   "version": "3.10.12"
  }
 },
 "nbformat": 4,
 "nbformat_minor": 5
}
