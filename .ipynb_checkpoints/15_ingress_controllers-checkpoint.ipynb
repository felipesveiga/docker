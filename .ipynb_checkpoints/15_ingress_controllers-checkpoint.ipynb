{
 "cells": [
  {
   "cell_type": "markdown",
   "id": "2153e22d-0f9f-4da4-a901-1f540542bac7",
   "metadata": {},
   "source": [
    "<h1 style='font-size:40px'> Handling Traffic Ingress Controllers</h1>"
   ]
  },
  {
   "cell_type": "markdown",
   "id": "3733fe1b-872f-4625-b922-9440a845caea",
   "metadata": {},
   "source": [
    "<h2 style='font-size:30px'> \n",
    "    A Quick Note on Ingresses\n",
    "</h2>\n",
    "<div> \n",
    "    <ul style='font-size:20px'> \n",
    "        <li>\n",
    "            O último componente que resta em nosso ambiente é um objeto Ingress. \n",
    "        </li>\n",
    "        <li>\n",
    "            Ele será o balanceador de nossa aplicação. No nosso caso, usaremos uma <a href='https://github.com/kubernetes/ingress-nginx'>versão específica</a> desse objeto, que funciona com o Nginx.\n",
    "        </li>\n",
    "    </ul>\n",
    " </div>"
   ]
  },
  {
   "cell_type": "markdown",
   "id": "c303afca-93a6-4255-ad48-be4295cccf5c",
   "metadata": {},
   "source": [
    "<h2 style='font-size:30px'> \n",
    "    <a href='https://spacelift.io/blog/kubernetes-ingress'>\n",
    "        Creating the Ingress Configuration\n",
    "    </a>\n",
    "</h2>\n",
    "<div> \n",
    "    <ul style='font-size:20px'> \n",
    "        <li>\n",
    "            Aula em que configuramos o Ingress de nossa aplicação.\n",
    "        </li>\n",
    "        <li>\n",
    "            De forma geral, estabelecemos um conjunto de critérios que definem para qual serviço o objeto encaminhará a sua requisição.\n",
    "        </li>\n",
    "    </ul>\n",
    " </div>"
   ]
  },
  {
   "cell_type": "markdown",
   "id": "68dd511c-dd65-4934-8818-fb5dfc51752b",
   "metadata": {},
   "source": [
    "```yaml\n",
    "apiVersion: networking.k8s.io/v1\n",
    "kind: Ingress\n",
    "metadata:\n",
    "  name: ingress-service\n",
    "  annotations:\n",
    "    nginx.ingress.kubernetes.io/use-regex: 'true'\n",
    "    nginx.ingress.kubernetes.io/rewrite-target: /$1\n",
    "spec:\n",
    "  ingressClassName: nginx\n",
    "  rules:\n",
    "    - http:\n",
    "        paths:\n",
    "          - path: /?(.*) \n",
    "            pathType: ImplementationSpecific\n",
    "            backend:\n",
    "              service:\n",
    "                name: client-cluster-ip-service\n",
    "                port: \n",
    "                  number: 3000\n",
    "          - path: /api/?(.*)\n",
    "            pathType: ImplementationSpecific\n",
    "            backend:\n",
    "              service:\n",
    "                name: server-cluster-ip-service\n",
    "                port: \n",
    "                  number: 5000\n",
    "\n",
    "```\n",
    "Exemplo de arquivo de configuração de um Ingress. Observe que o destino da requisição é definido com base no caminho informado."
   ]
  },
  {
   "cell_type": "markdown",
   "id": "44e26b48-42bf-4c68-8b2c-453362ba4aab",
   "metadata": {},
   "source": [
    "<h3 style='font-size:30px;font-style:italic'> Campos Especiais do Ingress</h3>\n",
    "<div> \n",
    "    <ul style='font-size:20px'> \n",
    "        <li>\n",
    "            Podemos observar que o arquivo acima possui certos campos que não costumavam ser declarados para os demais objetos. Por isso, vamos explicar abaixo o papel de cada um deles.\n",
    "        </li>\n",
    "    </ul>\n",
    " </div>"
   ]
  },
  {
   "cell_type": "markdown",
   "id": "d43bd0e9-8c85-4d0c-99cd-cd1d7f4e8fe4",
   "metadata": {
    "tags": []
   },
   "source": [
    "<h4 style='font-size:30px;font-style:italic;text-decoration:underline'> annotations</h4>\n",
    "<div> \n",
    "    <ul style='font-size:20px'>\n",
    "        <li> \n",
    "            Esse campo especifica algumas configurações gerais do nosso objeto. No nosso caso, permitimos a aplicação de RegEx sobre os paths das requisições, e os redefinimos como o primeiro padrão encontrado, antes de as encaminharmos ao objeto de destino.\n",
    "        </li>\n",
    "     </ul>\n",
    "</div>"
   ]
  },
  {
   "cell_type": "markdown",
   "id": "fc8c57b7-a522-45d8-85bc-5ec8d7d4b504",
   "metadata": {
    "tags": []
   },
   "source": [
    "<h4 style='font-size:30px;font-style:italic;text-decoration:underline'> ingressClassName</h4>\n",
    "<div> \n",
    "    <ul style='font-size:20px'>\n",
    "        <li> \n",
    "            Nome do sub-tipo de classe Ingress a ser utilizada.\n",
    "        </li>\n",
    "     </ul>\n",
    "</div>"
   ]
  },
  {
   "cell_type": "markdown",
   "id": "85b177ce-b7a6-4e2a-b5f8-b90589843041",
   "metadata": {
    "editable": true,
    "slideshow": {
     "slide_type": ""
    },
    "tags": []
   },
   "source": [
    "<h4 style='font-size:30px;font-style:italic;text-decoration:underline'> pathType</h4>\n",
    "<div> \n",
    "    <ul style='font-size:20px'>\n",
    "        <li> \n",
    "            Se refere a como o Ingress interpretará o path de uma requisição como válido. \n",
    "        </li>\n",
    "        <li>\n",
    "            Existem três categorias admitidas para o `pathType`:\n",
    "            <ul> \n",
    "                <li> \n",
    "                    <i> Exact</i>: O path informado deve se igualar examatamente à regra especificada. \n",
    "                </li>\n",
    "                <li> \n",
    "                    <i> Prefix</i>: Opção mais flexível. O Ingress direcionará a requisição, caso algum prefixo se enquadre com as regras. \n",
    "                </li>\n",
    "                <li> \n",
    "                    <i> ImplementationSpecific</i>: A validez da requisição é determinada pela IngressClass.\n",
    "                </li>\n",
    "            </ul>\n",
    "        </li>\n",
    "        <li>\n",
    "            Abaixo, segue uma tabela com alguns exemplos que irão facilitar a compreensão:\n",
    "        </li>\n",
    "     </ul>\n",
    "</div>"
   ]
  },
  {
   "cell_type": "markdown",
   "id": "82c04ee0-d394-49bc-9358-9e926ea57d67",
   "metadata": {},
   "source": [
    "<table>\n",
    "    <thead>\n",
    "        <tr>\n",
    "            <th>\n",
    "                pathType            \n",
    "            </th>\n",
    "            <th>\n",
    "                Path Rule\n",
    "            </th>\n",
    "            <th>\n",
    "                Request Path (s)\n",
    "            </th>\n",
    "            <th>\n",
    "                Matches?\n",
    "            </th>\n",
    "        </tr>\n",
    "    </thead>\n",
    "    <tbody>\n",
    "        <tr>\n",
    "            <td>\n",
    "                Exact\n",
    "            </td>\n",
    "            <td>\n",
    "                /foo\n",
    "            </td>\n",
    "            <td>\n",
    "                /foo/\n",
    "            </td>\n",
    "            <td>\n",
    "                No\n",
    "            </td>\n",
    "        </tr>\n",
    "        <tr>\n",
    "            <td>\n",
    "                Prefix\n",
    "            </td>\n",
    "            <td>\n",
    "                /aaa/bbb\n",
    "            </td>\n",
    "            <td>\n",
    "                /aaa/bbbwyz\n",
    "            </td>\n",
    "            <td>\n",
    "                No\n",
    "            </td>\n",
    "        </tr>\n",
    "        <tr>\n",
    "            <td>\n",
    "                Prefix\n",
    "            </td>\n",
    "            <td>\n",
    "                /, /aaa\n",
    "            </td>\n",
    "            <td>\n",
    "                /aaa/ccc\n",
    "            </td>\n",
    "            <td>\n",
    "                Yes, on account of /aaa\n",
    "            </td>\n",
    "        </tr>\n",
    "        <tr>\n",
    "            <td>\n",
    "                Prefix\n",
    "            </td>\n",
    "            <td>\n",
    "                /, /aaa/, /aaa/bbb \n",
    "            </td>\n",
    "            <td>\n",
    "                /ccc\n",
    "            </td>\n",
    "            <td>\n",
    "                Yes, on account of /\n",
    "            </td>\n",
    "        </tr>\n",
    "    </tbody>\n",
    "</table>"
   ]
  },
  {
   "cell_type": "markdown",
   "id": "3238077e-3658-498a-b4c8-eebed5994dc3",
   "metadata": {},
   "source": [
    "<h2 style='font-size:30px'> \n",
    "    The Minikube Dashboard\n",
    "</h2>\n",
    "<div> \n",
    "    <ul style='font-size:20px'> \n",
    "        <li>\n",
    "            O minikube oferece uma interface gráfica com a qual podemos monitorar o status dos componentes de nosso cluster.\n",
    "        </li>\n",
    "        <li>\n",
    "            Nela, nós ainda conseguimos criar e editar itens (por mais que isso não seja recomendado).\n",
    "        </li>\n",
    "        <li>\n",
    "            Para acioná-lo, invoque `minikube dashboard`.\n",
    "        </li>\n",
    "    </ul>\n",
    " </div>"
   ]
  },
  {
   "cell_type": "markdown",
   "id": "b093867d-2383-42b9-aea5-f161b4e657eb",
   "metadata": {},
   "source": [
    "<figure>\n",
    "        <center style='margin-top:20px'>\n",
    "            <img src='img/15_dashboard.png'>\n",
    "                <figcaption> Interface do Minikube Dashboard. </figcaption>\n",
    "        </center>\n",
    "    </figure>"
   ]
  }
 ],
 "metadata": {
  "kernelspec": {
   "display_name": "Python 3 (ipykernel)",
   "language": "python",
   "name": "python3"
  },
  "language_info": {
   "codemirror_mode": {
    "name": "ipython",
    "version": 3
   },
   "file_extension": ".py",
   "mimetype": "text/x-python",
   "name": "python",
   "nbconvert_exporter": "python",
   "pygments_lexer": "ipython3",
   "version": "3.10.12"
  }
 },
 "nbformat": 4,
 "nbformat_minor": 5
}
