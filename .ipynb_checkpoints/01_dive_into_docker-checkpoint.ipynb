{
 "cells": [
  {
   "cell_type": "markdown",
   "id": "f9147ddb-e454-4022-b061-b8a17f034be7",
   "metadata": {},
   "source": [
    "<h1 style='font-size:40px'> Dive Into Docker</h1>"
   ]
  },
  {
   "cell_type": "markdown",
   "id": "5a119867-dbc7-4ada-9cd9-5e2b4f67bacb",
   "metadata": {},
   "source": [
    "<h2 style='font-size:30px'> Finished Code and Diagrams</h2>\n",
    "<div> \n",
    "    <ul style='font-size:20px'> \n",
    "        <li>\n",
    "            O instrutor deixará o código dos projetos em cada aula. Assim, poderei saber como os meus devem estar ao final de cada uma delas.\n",
    "        </li>\n",
    "    </ul>\n",
    " </div>"
   ]
  },
  {
   "cell_type": "markdown",
   "id": "b787fb60-50ea-4833-8a4d-bf5e2ff6da11",
   "metadata": {},
   "source": [
    "<h2 style='font-size:30px'> What is Docker?</h2>\n",
    "<div> \n",
    "    <ul style='font-size:20px'> \n",
    "        <li>\n",
    "            Docker é um software especializado na geração de VM's. Seus dois principais componentes são imagens (como as de OS) e os containers (as próprias VM's).\n",
    "        </li>\n",
    "        <li>\n",
    "            A vantagem de usarmos o Docker é que suas imagens possibilitam o uso imediato de softwares cuja instalação poderia ser difícil demais em nossas máquinas (CUDA, CuDNN...).\n",
    "        </li>\n",
    "    </ul>\n",
    " </div>"
   ]
  }
 ],
 "metadata": {
  "kernelspec": {
   "display_name": "Python 3 (ipykernel)",
   "language": "python",
   "name": "python3"
  },
  "language_info": {
   "codemirror_mode": {
    "name": "ipython",
    "version": 3
   },
   "file_extension": ".py",
   "mimetype": "text/x-python",
   "name": "python",
   "nbconvert_exporter": "python",
   "pygments_lexer": "ipython3",
   "version": "3.10.12"
  }
 },
 "nbformat": 4,
 "nbformat_minor": 5
}
