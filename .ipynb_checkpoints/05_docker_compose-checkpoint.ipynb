{
 "cells": [
  {
   "cell_type": "markdown",
   "id": "38f58594-775f-4c91-940e-40a0b93dc615",
   "metadata": {},
   "source": [
    "<h1 style='font-size:40px'> \n",
    " Docker Compose with Multiple Local Containers</h1>"
   ]
  },
  {
   "cell_type": "markdown",
   "id": "c69407fe-b383-4e39-9535-b3e9b69d0518",
   "metadata": {},
   "source": [
    "<h2 style='font-size:30px'> App Overview</h2>\n",
    "<div> \n",
    "    <ul style='font-size:20px'> \n",
    "        <li>\n",
    "            O projeto desta seção envolverá a criação de dois containers. O primeiro hospedará um site, enquanto o segundo uma base de dados Redis com a contagem de visitas à página. \n",
    "        </li>\n",
    "    </ul>\n",
    " </div>"
   ]
  },
  {
   "cell_type": "code",
   "execution_count": 4,
   "id": "085947e5-c076-432d-bb4f-a0daa1a8cf2a",
   "metadata": {},
   "outputs": [
    {
     "name": "stdout",
     "output_type": "stream",
     "text": [
      "[master ec807a4] Aula 46\n",
      " 4 files changed, 95 insertions(+), 64 deletions(-)\n",
      " delete mode 100644 projects/simpleweb/.Dockerfile.swp\n",
      "Enumerating objects: 13, done.\n",
      "Counting objects: 100% (13/13), done.\n",
      "Delta compression using up to 24 threads\n",
      "Compressing objects: 100% (7/7), done.\n",
      "Writing objects: 100% (7/7), 1.51 KiB | 1.51 MiB/s, done.\n",
      "Total 7 (delta 4), reused 0 (delta 0), pack-reused 0\n",
      "remote: Resolving deltas: 100% (4/4), completed with 4 local objects.\u001b[K\n",
      "To https://github.com/felipesveiga/docker.git\n",
      "   518f0ef..ec807a4  master -> master\n"
     ]
    }
   ],
   "source": [
    "! git add .\n",
    "! git commit -am 'Aula 49 (2:40)'\n",
    "! git push"
   ]
  },
  {
   "cell_type": "markdown",
   "id": "c5fb07f2-f597-40eb-be62-8b03591992fd",
   "metadata": {
    "editable": true,
    "slideshow": {
     "slide_type": ""
    },
    "tags": []
   },
   "source": [
    "<p style='color:red'> Vi Aulas 46 a 48; Iniciei 49; Aula 49 (2:40)</p>"
   ]
  }
 ],
 "metadata": {
  "kernelspec": {
   "display_name": "Python 3 (ipykernel)",
   "language": "python",
   "name": "python3"
  },
  "language_info": {
   "codemirror_mode": {
    "name": "ipython",
    "version": 3
   },
   "file_extension": ".py",
   "mimetype": "text/x-python",
   "name": "python",
   "nbconvert_exporter": "python",
   "pygments_lexer": "ipython3",
   "version": "3.10.12"
  }
 },
 "nbformat": 4,
 "nbformat_minor": 5
}
