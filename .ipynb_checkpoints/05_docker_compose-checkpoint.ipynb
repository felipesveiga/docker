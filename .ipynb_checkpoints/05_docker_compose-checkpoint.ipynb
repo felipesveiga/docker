{
 "cells": [
  {
   "cell_type": "markdown",
   "id": "38f58594-775f-4c91-940e-40a0b93dc615",
   "metadata": {},
   "source": [
    "<h1 style='font-size:40px'> \n",
    " Docker Compose with Multiple Local Containers</h1>"
   ]
  },
  {
   "cell_type": "markdown",
   "id": "c69407fe-b383-4e39-9535-b3e9b69d0518",
   "metadata": {},
   "source": [
    "<h2 style='font-size:30px'> App Overview</h2>\n",
    "<div> \n",
    "    <ul style='font-size:20px'> \n",
    "        <li>\n",
    "            O projeto desta seção envolverá a criação de dois containers. O primeiro hospedará um site, enquanto o segundo uma base de dados Redis com a contagem de visitas à página. \n",
    "        </li>\n",
    "    </ul>\n",
    " </div>"
   ]
  },
  {
   "cell_type": "markdown",
   "id": "91b82d1e-1f0a-4bf7-aff1-b5cd090e41e6",
   "metadata": {},
   "source": [
    "<h2 style='font-size:30px'>  App Server Starter Code</h2>\n",
    "<div> \n",
    "    <ul style='font-size:20px'> \n",
    "        <li>\n",
    "            Aula em que escrevemos os arquivos de nosso servidor web.\n",
    "        </li>\n",
    "    </ul>\n",
    " </div>"
   ]
  },
  {
   "cell_type": "markdown",
   "id": "5fb5ca50-3ba4-4547-9774-79765a0daad6",
   "metadata": {},
   "source": [
    "<h2 style='font-size:30px'>  Introducing Docker Compose</h2>\n",
    "<div> \n",
    "    <ul style='font-size:20px'> \n",
    "        <li>\n",
    "            A comunicação entre dois containers deverá se dar por meio de uma rede. Para criá-la, utilizaremos a CLI `docker-compose`.\n",
    "        </li>\n",
    "        <li>\n",
    "            O objetivo dessa CLI é simplificar execução de tarefas complexas em nossas aplicações Docker. Com ela, nós prontamente criaremos os dois containers, com uma rede interna.\n",
    "        </li>\n",
    "    </ul>\n",
    " </div>"
   ]
  },
  {
   "cell_type": "markdown",
   "id": "2cb172ca-b578-4602-8f6f-a1519724e44e",
   "metadata": {},
   "source": [
    "<h2 style='font-size:30px'> Docker Compose Files</h2>\n",
    "<div> \n",
    "    <ul style='font-size:20px'> \n",
    "        <li>\n",
    "            A execução do `docker-compose` é configurada dentro de um arquivo docker-compose.yml.\n",
    "        </li>\n",
    "        <li>\n",
    "            Em essência, você deverá especificar duas chaves principais: \"version\", com a versão do docker-compose que queremos utilizar, e \"services\", que, em essência, contém as configurações de cada container desejado.\n",
    "        </li>\n",
    "    </ul>\n",
    "    <center style='margin-top:20px'> \n",
    "        <figure>\n",
    "            <img src='img/05_docker_compose.png'>\n",
    "            <figcaption> Exemplo de um docker-compose.yml</figcaption>\n",
    "        </figure>\n",
    "    </center>\n",
    " </div>"
   ]
  },
  {
   "cell_type": "code",
   "execution_count": 2,
   "id": "085947e5-c076-432d-bb4f-a0daa1a8cf2a",
   "metadata": {},
   "outputs": [
    {
     "name": "stdout",
     "output_type": "stream",
     "text": [
      "[master 892060a] Aula 51\n",
      " 8 files changed, 96 insertions(+), 26 deletions(-)\n",
      " delete mode 100644 projects/visits/.index.js.swp\n",
      " delete mode 100644 projects/visits/.package.json.swp\n",
      " create mode 100644 projects/visits/Dockerfile\n",
      " create mode 100644 projects/visits/index.js\n",
      "Enumerating objects: 14, done.\n",
      "Counting objects: 100% (14/14), done.\n",
      "Delta compression using up to 24 threads\n",
      "Compressing objects: 100% (9/9), done.\n",
      "Writing objects: 100% (9/9), 2.38 KiB | 2.38 MiB/s, done.\n",
      "Total 9 (delta 4), reused 0 (delta 0), pack-reused 0\n",
      "remote: Resolving deltas: 100% (4/4), completed with 4 local objects.\u001b[K\n",
      "To https://github.com/felipesveiga/docker.git\n",
      "   7bee814..892060a  master -> master\n"
     ]
    }
   ],
   "source": [
    "! git add .\n",
    "! git commit -am 'Aula 51'\n",
    "! git push"
   ]
  },
  {
   "cell_type": "markdown",
   "id": "c5fb07f2-f597-40eb-be62-8b03591992fd",
   "metadata": {
    "editable": true,
    "slideshow": {
     "slide_type": ""
    },
    "tags": []
   },
   "source": [
    "<p style='color:red'> Vi Aulas 51 e 52; Aula 53</p>"
   ]
  }
 ],
 "metadata": {
  "kernelspec": {
   "display_name": "Python 3 (ipykernel)",
   "language": "python",
   "name": "python3"
  },
  "language_info": {
   "codemirror_mode": {
    "name": "ipython",
    "version": 3
   },
   "file_extension": ".py",
   "mimetype": "text/x-python",
   "name": "python",
   "nbconvert_exporter": "python",
   "pygments_lexer": "ipython3",
   "version": "3.10.12"
  }
 },
 "nbformat": 4,
 "nbformat_minor": 5
}
