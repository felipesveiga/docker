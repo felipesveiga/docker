{
 "cells": [
  {
   "cell_type": "markdown",
   "id": "a5b6bcb2-ae74-474a-9b79-7e9d20eb6be2",
   "metadata": {},
   "source": [
    "<h1 style='font-size:40px'> Continuous Integration and Deployment with AWS</h1>"
   ]
  },
  {
   "cell_type": "markdown",
   "id": "dacf9434-ea0a-4814-8866-301b3bf807f1",
   "metadata": {},
   "source": [
    "<h2 style='font-size:30px'>  Travis YML File Configuration</h2>\n",
    "<div> \n",
    "    <ul style='font-size:20px'> \n",
    "        <li>\n",
    "            Nossa esteira do Travis CI/GitHub Actions deverá criar um container do Dockerfile.dev e acionar os seus testes. Estando tudo bem, permitiremos o deploy do código na AWS. \n",
    "        </li>\n",
    "    </ul>\n",
    " </div>"
   ]
  },
  {
   "cell_type": "markdown",
   "id": "c69a152a-6297-49e0-a823-5069c1fccc46",
   "metadata": {},
   "source": [
    "<h2 style='font-size:30px'> Exposing Ports Through the Dockerfile</h2>\n",
    "<div> \n",
    "    <ul style='font-size:20px'> \n",
    "        <li>\n",
    "            Como sabemos, devemos expor nossa aplicação Docker por alguma porta para que nossos clientes possam acessá-la. \n",
    "        </li>\n",
    "        <li>\n",
    "            No entanto, o Elastic Beanstalk não o fará por si mesmo. O que deveremos fazer é utilizar o comando EXPOSE em nosso Dockerfile. Por padrão, ele serve apenas como um aviso ao leitor para que ele exponha a referida porta, quando for criar um container. Porém, o Beanstalk utiliza essa informação para automaticamente realizar essa operação.\n",
    "        </li>\n",
    "    </ul>\n",
    " </div>"
   ]
  },
  {
   "cell_type": "markdown",
   "id": "7c6ee37d-f11c-403a-89d6-1e55f5ced4c8",
   "metadata": {},
   "source": [
    " <center style='margin-top:20px'> \n",
    "        <figure>\n",
    "            <img src='img/07_expose.png'>\n",
    "            <figcaption> Trecho em que declaramos EXPOSE no Dockerfile.</figcaption>\n",
    "        </figure>\n",
    "    </center>"
   ]
  },
  {
   "cell_type": "code",
   "execution_count": 3,
   "id": "7fba7ece-3a85-4e84-8748-308e1c869873",
   "metadata": {},
   "outputs": [
    {
     "name": "stdout",
     "output_type": "stream",
     "text": [
      "[master 0596fa9] Aula 97\n",
      " 8 files changed, 118 insertions(+), 17 deletions(-)\n",
      " create mode 100644 img/07_expose.png\n",
      " delete mode 160000 projects/front\n",
      " create mode 100644 projects/frontend/.github/worflows-not/deploy.yml\n",
      "Enumerating objects: 25, done.\n",
      "Counting objects: 100% (25/25), done.\n",
      "Delta compression using up to 24 threads\n",
      "Compressing objects: 100% (13/13), done.\n",
      "Writing objects: 100% (15/15), 24.02 KiB | 24.02 MiB/s, done.\n",
      "Total 15 (delta 9), reused 0 (delta 0), pack-reused 0\n",
      "remote: Resolving deltas: 100% (9/9), completed with 9 local objects.\u001b[K\n",
      "To https://github.com/felipesveiga/docker.git\n",
      "   c0e1a80..0596fa9  master -> master\n"
     ]
    }
   ],
   "source": [
    "! git add .\n",
    "! git commit -am 'GitHub Actions Tech with Tim'\n",
    "! git push"
   ]
  },
  {
   "cell_type": "markdown",
   "id": "9eb3f8df-3e3c-4d14-9b3d-7892a690efca",
   "metadata": {
    "editable": true,
    "slideshow": {
     "slide_type": ""
    },
    "tags": []
   },
   "source": [
    "<p style='color:red'> Vi Aulas 97 a 101; GitHub Actions Tech with Tim</p>"
   ]
  },
  {
   "cell_type": "markdown",
   "id": "55e49a6e-19e8-4251-bd2e-dc14e3215580",
   "metadata": {
    "editable": true,
    "slideshow": {
     "slide_type": ""
    },
    "tags": []
   },
   "source": [
    "<p style='color:red'> Buscar por um curso rápido de GitHub Actions, ao final da seção</p>"
   ]
  }
 ],
 "metadata": {
  "kernelspec": {
   "display_name": "Python 3 (ipykernel)",
   "language": "python",
   "name": "python3"
  },
  "language_info": {
   "codemirror_mode": {
    "name": "ipython",
    "version": 3
   },
   "file_extension": ".py",
   "mimetype": "text/x-python",
   "name": "python",
   "nbconvert_exporter": "python",
   "pygments_lexer": "ipython3",
   "version": "3.10.12"
  }
 },
 "nbformat": 4,
 "nbformat_minor": 5
}
