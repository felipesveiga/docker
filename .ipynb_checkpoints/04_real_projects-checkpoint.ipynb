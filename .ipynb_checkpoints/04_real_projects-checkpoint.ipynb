{
 "cells": [
  {
   "cell_type": "markdown",
   "id": "3032e1dc-f8f1-4017-b4ed-30cdbf00e072",
   "metadata": {},
   "source": [
    "<h1 style='font-size:40px'> \n",
    "Making Real Projects with Docker</h1>"
   ]
  },
  {
   "cell_type": "markdown",
   "id": "4e1d8cf5-ff2a-47d1-beb5-fdfd1ff3c599",
   "metadata": {},
   "source": [
    "<h2 style='font-size:30px'> Project Outline</h2>\n",
    "<div> \n",
    "    <ul style='font-size:20px'> \n",
    "        <li>\n",
    "            Nós montaremos nesta seção uma imagem voltada à hospedagem de um servidor web Node JS.\n",
    "        </li>\n",
    "        <li>\n",
    "            Observe que, na criação de nosso Dockerfile, escreveremos alguns erros de propósito a fim de aprendermos boas práticas na construção de imagens.\n",
    "        </li>\n",
    "    </ul>\n",
    " </div>"
   ]
  },
  {
   "cell_type": "code",
   "execution_count": 5,
   "id": "210f1a79-d8fc-4f9a-8694-be413c19cea6",
   "metadata": {},
   "outputs": [
    {
     "name": "stdout",
     "output_type": "stream",
     "text": [
      "[master 0dcd628] Aula 36\n",
      " 3 files changed, 74 insertions(+), 27 deletions(-)\n",
      "Enumerating objects: 13, done.\n",
      "Counting objects: 100% (13/13), done.\n",
      "Delta compression using up to 24 threads\n",
      "Compressing objects: 100% (5/5), done.\n",
      "Writing objects: 100% (7/7), 1.11 KiB | 1.11 MiB/s, done.\n",
      "Total 7 (delta 4), reused 0 (delta 0), pack-reused 0\n",
      "remote: Resolving deltas: 100% (4/4), completed with 4 local objects.\u001b[K\n",
      "To https://github.com/felipesveiga/docker.git\n",
      "   b1a18b2..0dcd628  master -> master\n"
     ]
    }
   ],
   "source": [
    "! git add .\n",
    "! git commit -am 'Aula 38'\n",
    "! git push"
   ]
  },
  {
   "cell_type": "markdown",
   "id": "a0add06f-2b21-4e40-aac6-d1f2696dec13",
   "metadata": {
    "editable": true,
    "slideshow": {
     "slide_type": ""
    },
    "tags": []
   },
   "source": [
    "<p style='color:red'> Vi Aulas 36 e 37; Aula 38</p>"
   ]
  }
 ],
 "metadata": {
  "kernelspec": {
   "display_name": "Python 3 (ipykernel)",
   "language": "python",
   "name": "python3"
  },
  "language_info": {
   "codemirror_mode": {
    "name": "ipython",
    "version": 3
   },
   "file_extension": ".py",
   "mimetype": "text/x-python",
   "name": "python",
   "nbconvert_exporter": "python",
   "pygments_lexer": "ipython3",
   "version": "3.10.12"
  }
 },
 "nbformat": 4,
 "nbformat_minor": 5
}
