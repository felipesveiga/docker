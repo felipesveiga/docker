{
 "cells": [
  {
   "cell_type": "markdown",
   "id": "3032e1dc-f8f1-4017-b4ed-30cdbf00e072",
   "metadata": {},
   "source": [
    "<h1 style='font-size:40px'> \n",
    "Making Real Projects with Docker</h1>"
   ]
  },
  {
   "cell_type": "markdown",
   "id": "4e1d8cf5-ff2a-47d1-beb5-fdfd1ff3c599",
   "metadata": {},
   "source": [
    "<h2 style='font-size:30px'> Project Outline</h2>\n",
    "<div> \n",
    "    <ul style='font-size:20px'> \n",
    "        <li>\n",
    "            Nós montaremos nesta seção uma imagem voltada à hospedagem de um servidor web Node JS.\n",
    "        </li>\n",
    "        <li>\n",
    "            Observe que, na criação de nosso Dockerfile, escreveremos alguns erros de propósito a fim de aprendermos boas práticas na construção de imagens.\n",
    "        </li>\n",
    "    </ul>\n",
    " </div>"
   ]
  },
  {
   "cell_type": "markdown",
   "id": "0131cfce-8a97-497d-9d97-f9711f90bc92",
   "metadata": {},
   "source": [
    "<h2 style='font-size:30px'> Node Server Setup</h2>\n",
    "<div> \n",
    "    <ul style='font-size:20px'> \n",
    "        <li>\n",
    "            Escrevemos as configurações de nosso servidor Node JS.\n",
    "        </li>\n",
    "    </ul>\n",
    " </div>"
   ]
  },
  {
   "cell_type": "markdown",
   "id": "f8b67943-f8ee-4a56-9a7a-6bb767c9b769",
   "metadata": {},
   "source": [
    "<h2 style='font-size:30px'> Base Image Issues</h2>\n",
    "<div> \n",
    "    <ul style='font-size:20px'> \n",
    "        <li>\n",
    "            Para garantir o sucesso do build da imagem, devemos garantir que ela tenha os programas necessários para o seu funcionamento.\n",
    "        </li>\n",
    "        <li>\n",
    "            O Docker Hub é composto por repositórios de imagens. Quando executamos `docker run &lt;image_name&gt;`, estamos na verdade instalando a imagem padrão do repositório &lt;image_name&gt;.\n",
    "        </li>\n",
    "        <li>\n",
    "            Caso deseje uma imagem específica do repositório, você pode passar como argumento &lt;image_name:version_name&gt;\n",
    "        </li>\n",
    "    </ul>\n",
    " </div>"
   ]
  },
  {
   "cell_type": "markdown",
   "id": "88050f9a-eba4-45ee-807a-dc83f51aa878",
   "metadata": {},
   "source": [
    "<h2 style='font-size:30px'> Copying Build Files</h2>\n",
    "<div> \n",
    "    <ul style='font-size:20px'> \n",
    "        <li>\n",
    "            Como uma VM, nossos containers não têm acesso aos arquivos de nosso projeto para executá-los, por padrão.\n",
    "        </li>\n",
    "        <li>\n",
    "            Caso o build de sua imagem necessite do uso de algum arquivo local, copie-o utilizando o comando COPY. Ele receberá o caminho de seu arquivo (em relação ao Dockerfile) e o path de destino, dentro de sua VM.\n",
    "        </li>\n",
    "    </ul>\n",
    "    <center style='margin-top:20px'> \n",
    "        <figure>\n",
    "            <img src='img/04_copy.png'>\n",
    "            <figcaption> Copiando todos os arquivos de nosso dirertório atual para o diretório padrão da imagem-base.</figcaption>\n",
    "        </figure>\n",
    "    </center>\n",
    " </div>"
   ]
  },
  {
   "cell_type": "markdown",
   "id": "b65162b9-b440-4228-9b59-07e57d34eb84",
   "metadata": {},
   "source": [
    "<h2 style='font-size:30px'> Container Port Mapping</h2>\n",
    "<div> \n",
    "    <ul style='font-size:20px'> \n",
    "        <li>\n",
    "            Observe, nosso servidor web está hospedado localmente em nossa VM. Portanto, qualquer tentativa de entrada no site em nosso browser padrão resultará em erro.\n",
    "        </li>\n",
    "        <li>\n",
    "            Para evitar esse problema, podemos configurar a nossa máquina para que qualquer requisição a uma determinada porta local seja redirecionada a uma outra porta de nosso container!\n",
    "        </li>\n",
    "        <li>\n",
    "            Em `run`, acrescente a flag `-p &lt;porta_requisitada&gt;:&lt;porta_destino&gt;` para permitir esse ajuste! Repare que os números das portas não precisam ser iguais! \n",
    "        </li>\n",
    "    </ul>\n",
    " </div>"
   ]
  },
  {
   "cell_type": "markdown",
   "id": "e3494ead-3db3-4f5a-80c9-85d6123adb92",
   "metadata": {},
   "source": [
    "<h2 style='font-size:30px'> Specifying a Working Directory</h2>\n",
    "<div> \n",
    "    <ul style='font-size:20px'> \n",
    "        <li>\n",
    "            Por padrão, todos os comandos de nosso Dockerfile serão executados no diretório / do nosso container. Isso não é uma boa prática, uma vez que podemos afetar arquivos de nosso OS sem querer. \n",
    "        </li>\n",
    "        <li>\n",
    "            Para evitar isso, usamos o comando WORKDIR. Ele definirá o diretório onde todos os comandos do script serão executados. A pasta será criada automaticamente, se não existir.\n",
    "        </li>\n",
    "    </ul>\n",
    " </div>"
   ]
  },
  {
   "cell_type": "markdown",
   "id": "fb7f2549-f07f-42eb-99a2-8f61045bbf8f",
   "metadata": {},
   "source": [
    "<h2 style='font-size:30px'>  Minimizing Cache Busting and Rebuilds</h2>\n",
    "<div> \n",
    "    <ul style='font-size:20px'> \n",
    "        <li>\n",
    "            Aula em que se enfatiza o cuidado na ordenação dos comandos do Dockerfile, para otimização do uso do cache.\n",
    "        </li>\n",
    "        <li>\n",
    "            Ao escrever o script, sempre pense em ordenar os comandos de maneira a aproveitar ao máximo o conteúdo em memória. Isso é algo bastante importante, principalmente em projetos grandes!\n",
    "        </li>\n",
    "    </ul>\n",
    " </div>"
   ]
  }
 ],
 "metadata": {
  "kernelspec": {
   "display_name": "Python 3 (ipykernel)",
   "language": "python",
   "name": "python3"
  },
  "language_info": {
   "codemirror_mode": {
    "name": "ipython",
    "version": 3
   },
   "file_extension": ".py",
   "mimetype": "text/x-python",
   "name": "python",
   "nbconvert_exporter": "python",
   "pygments_lexer": "ipython3",
   "version": "3.10.12"
  }
 },
 "nbformat": 4,
 "nbformat_minor": 5
}
