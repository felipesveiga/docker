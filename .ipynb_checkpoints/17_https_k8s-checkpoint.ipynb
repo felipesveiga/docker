{
 "cells": [
  {
   "cell_type": "markdown",
   "id": "87e8143d-f4d0-4822-aefd-84122e2a6b78",
   "metadata": {},
   "source": [
    "<h1 style='font-size:40px'> HTTPS Setup with Kubernetes</h1>"
   ]
  },
  {
   "cell_type": "markdown",
   "id": "ce7b7598-d43d-486f-8e1c-e14d98c34624",
   "metadata": {},
   "source": [
    "<h2 style='font-size:30px'> \n",
    "    HTTPS Setup Overview\n",
    "</h2>\n",
    "<div> \n",
    "    <ul style='font-size:20px'> \n",
    "        <li>\n",
    "            Para habilitarmos conexões HTTPS em nossa aplicação, nosso site deverá ter um certificado que habilite o uso desse protocolo. Usaremos o serviço LetsEncrypt para obtê-lo. Ele é um Automatic Certificate Management Environment (ACME) gratuito.\n",
    "        </li>\n",
    "        <li>\n",
    "            De maneira geral, quando invocarmos o LetsEncrypt, este fará uma requisição a um endereço específico do nosso site. Caso esta seja bem sucedida, receberemos o certificado.\n",
    "        </li>\n",
    "    </ul>\n",
    " </div>"
   ]
  },
  {
   "cell_type": "markdown",
   "id": "232e7c46-c839-4fde-aa8d-8fd6370a365c",
   "metadata": {},
   "source": [
    "<figure>\n",
    "        <center style='margin-top:20px'>\n",
    "            <img src='img/17_https_flow.png'>\n",
    "                <figcaption> Ilustração do ciclo de obtenção do certificado.</figcaption>\n",
    "        </center>\n",
    "    </figure>"
   ]
  },
  {
   "cell_type": "markdown",
   "id": "2b3a9be5-070a-4ad1-bea5-4a242bb2982d",
   "metadata": {},
   "source": [
    "<h2 style='font-size:30px'> \n",
    "    Domain Purchase\n",
    "</h2>\n",
    "<div> \n",
    "    <ul style='font-size:20px'> \n",
    "        <li>\n",
    "            Aula em que compramos um nome de domínio para o nosso site. Em seguida, configuramos o site para apontar para o IP de nosso cluster.\n",
    "        </li>\n",
    "    </ul>\n",
    " </div>"
   ]
  },
  {
   "cell_type": "markdown",
   "id": "8522b053-2ad9-4aec-9e82-c45328aab246",
   "metadata": {},
   "source": [
    "<h2 style='font-size:30px'> \n",
    "    How to Wire Up Cert Manager\n",
    "</h2>\n",
    "<div> \n",
    "    <ul style='font-size:20px'> \n",
    "        <li>\n",
    "            O fluxo de gerenciamento de certificados envolve três objetos do Kubernetes.\n",
    "        </li>\n",
    "        <li>\n",
    "            O primeiro seria o Cert Manager, instalado com o Helm. Ele seria o responsável por se comunicar com a API do LetsEncrypt, obter o certificado e armazená-lo num objeto Secret.\n",
    "        </li>\n",
    "        <li>\n",
    "            O segundo seria o Issuer, que basicamente informa ao CertManager o onde deverá solicitar o certificado. Já o último, o Certificate, conterá dados que o certificado deverá carregar.\n",
    "        </li>\n",
    "    </ul>\n",
    " </div>"
   ]
  },
  {
   "cell_type": "markdown",
   "id": "72a29362-8088-4898-9de4-ab5b03af62d0",
   "metadata": {},
   "source": [
    "<figure>\n",
    "        <center style='margin-top:20px'>\n",
    "            <img src='img/17_certificate_objects.png'>\n",
    "        </center>\n",
    "    </figure>"
   ]
  },
  {
   "cell_type": "markdown",
   "id": "4038e756-c801-42aa-9662-86abd9051d8a",
   "metadata": {},
   "source": [
    "```sh\n",
    "helm repo add jetstack https://charts.jetstack.io\n",
    "helm repo update\n",
    "helm install \\\n",
    "  cert-manager jetstack/cert-manager \\\n",
    "  --namespace cert-manager \\\n",
    "  --create-namespace \\\n",
    "  --version v1.8.0 \\\n",
    "  --set installCRDs=true\n",
    "```\n",
    "Comando usado para a instalação do CertManager no GKE."
   ]
  },
  {
   "cell_type": "markdown",
   "id": "67ed2995-46ed-4ec8-9763-b57fef175ad9",
   "metadata": {},
   "source": [
    "<h2 style='font-size:30px'> \n",
    "    Issuer Config File\n",
    "</h2>\n",
    "<div> \n",
    "    <ul style='font-size:20px'> \n",
    "        <li>\n",
    "            Aula em que implantamos o arquivo de configuração de nosso Issuer.\n",
    "        </li>\n",
    "        <li>\n",
    "            Sua estrutura se assemelha bastante com a de outros arquivos já feitos, com exceção de dois campos:\n",
    "        </li>\n",
    "    </ul>\n",
    " </div>"
   ]
  },
  {
   "cell_type": "markdown",
   "id": "a978da46-5b3f-44d6-ad73-68dbb476e120",
   "metadata": {
    "tags": []
   },
   "source": [
    "<h4 style='font-size:30px;font-style:italic;text-decoration:underline'> acme</h4>\n",
    "<div> \n",
    "    <ul style='font-size:20px'> \n",
    "        <li>\n",
    "            Campo em que declaramos o servidor do ACME a ser utilizado, junto com um email para identificação. \n",
    "        </li>\n",
    "        <li>\n",
    "            Além disso, declaramos um objeto Secret onde a chave privada de conexão ao ACME será armazenada. \n",
    "        </li>\n",
    "    </ul>\n",
    " </div>"
   ]
  },
  {
   "cell_type": "markdown",
   "id": "347e21ea-56ce-4a06-bc5c-2858429c4d7f",
   "metadata": {
    "tags": []
   },
   "source": [
    "<h4 style='font-size:30px;font-style:italic;text-decoration:underline'> solvers</h4>\n",
    "<div> \n",
    "    <ul style='font-size:20px'> \n",
    "        <li>\n",
    "            Lista as metodologias de desafios que o ACME deverá realizar em nossa plataforma. No caso, o serviço criará um Ingress Service dentro do qual o desafio será conduzido.\n",
    "        </li>\n",
    "        <li>\n",
    "            Deve-se ressaltar que o tipo de Ingress do desafio deverá ser o mesmo do da aplicação real.\n",
    "        </li>\n",
    "    </ul>\n",
    " </div>"
   ]
  },
  {
   "cell_type": "code",
   "execution_count": 5,
   "id": "8d7fb55a-95e9-49a1-b44f-8540f8e7e4d4",
   "metadata": {
    "editable": true,
    "slideshow": {
     "slide_type": ""
    },
    "tags": []
   },
   "outputs": [
    {
     "name": "stdout",
     "output_type": "stream",
     "text": [
      "[master 7d35632]  Explicar o campo http01 do yaml do Issuer\n",
      " 2 files changed, 144 insertions(+), 26 deletions(-)\n",
      "Enumerating objects: 7, done.\n",
      "Counting objects: 100% (7/7), done.\n",
      "Delta compression using up to 24 threads\n",
      "Compressing objects: 100% (4/4), done.\n",
      "Writing objects: 100% (4/4), 1.23 KiB | 1.23 MiB/s, done.\n",
      "Total 4 (delta 3), reused 0 (delta 0), pack-reused 0\n",
      "remote: Resolving deltas: 100% (3/3), completed with 3 local objects.\u001b[K\n",
      "To https://github.com/felipesveiga/docker.git\n",
      "   922d89f..7d35632  master -> master\n"
     ]
    }
   ],
   "source": [
    "! git add .\n",
    "! git commit -m ' Explicar o campo http01 do yaml do Issuer'\n",
    "! git push"
   ]
  },
  {
   "cell_type": "markdown",
   "id": "6f5a38cd-9754-48b0-b4a7-a8f0e8d8539f",
   "metadata": {
    "editable": true,
    "slideshow": {
     "slide_type": ""
    },
    "tags": []
   },
   "source": [
    "<p style='color:red'> Iniciei Aula 298; Explicar o campo http01 do yaml do Issuer; Aula 299</p>"
   ]
  },
  {
   "cell_type": "markdown",
   "id": "1ec3ad1c-5998-4601-9670-d554c9e12520",
   "metadata": {
    "editable": true,
    "slideshow": {
     "slide_type": ""
    },
    "tags": []
   },
   "source": [
    "<p style='color:red'> Visite a Aula 307, caso deseje deletar o seu cluster!</p>"
   ]
  }
 ],
 "metadata": {
  "kernelspec": {
   "display_name": "Python 3 (ipykernel)",
   "language": "python",
   "name": "python3"
  },
  "language_info": {
   "codemirror_mode": {
    "name": "ipython",
    "version": 3
   },
   "file_extension": ".py",
   "mimetype": "text/x-python",
   "name": "python",
   "nbconvert_exporter": "python",
   "pygments_lexer": "ipython3",
   "version": "3.10.12"
  }
 },
 "nbformat": 4,
 "nbformat_minor": 5
}
