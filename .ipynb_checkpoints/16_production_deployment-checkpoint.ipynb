{
 "cells": [
  {
   "cell_type": "markdown",
   "id": "c2a4a2a4-1c61-4dff-9f9c-adf331d318b7",
   "metadata": {},
   "source": [
    "<h1 style='font-size:40px'> Kubernetes Production Deployment</h1>"
   ]
  },
  {
   "cell_type": "markdown",
   "id": "72abb186-3a02-43f4-ae5a-4f25e8002d0e",
   "metadata": {},
   "source": [
    "<h2 style='font-size:30px'> \n",
    "    The Deployment Process\n",
    "</h2>\n",
    "<div> \n",
    "    <ul style='font-size:20px'> \n",
    "        <li>\n",
    "            Esta seção será focada em levar a aplicação web desenvolvida ao longo do curso ao Google Cloud. \n",
    "        </li>\n",
    "        <li>\n",
    "            O instrutor nos adverte que o projeto incorrerá <strong>custos</strong>. Por isso, procure desligá-lo após terminar as aulas. \n",
    "        </li>\n",
    "    </ul>\n",
    " </div>"
   ]
  },
  {
   "cell_type": "markdown",
   "id": "e55f656b-d850-4808-8b1f-c3051b05c458",
   "metadata": {},
   "source": [
    "<h2 style='font-size:30px'> \n",
    "    Creating a Google Cloud Project\n",
    "</h2>\n",
    "<div> \n",
    "    <ul style='font-size:20px'> \n",
    "        <li>\n",
    "            O GCP demanda que, para cada projeto criado em seu ambiente, um workspace novo seja gerado. Esse recebe o nome de \"Project\".\n",
    "        </li>\n",
    "        <li>\n",
    "            Nessa aula, criamos o Project de nossa aplicação.\n",
    "        </li>\n",
    "    </ul>\n",
    " </div>"
   ]
  },
  {
   "cell_type": "markdown",
   "id": "dc8116e5-44d1-4953-9d2e-231d93631468",
   "metadata": {},
   "source": [
    "<h2 style='font-size:30px'> \n",
    "    Kubernetes Dashboard on Google Cloud\n",
    "</h2>\n",
    "<div> \n",
    "    <ul style='font-size:20px'> \n",
    "        <li>\n",
    "            Explicação geral da interface gráfica do GKE.\n",
    "        </li>\n",
    "    </ul>\n",
    " </div>"
   ]
  },
  {
   "cell_type": "markdown",
   "id": "b0af568d-bb96-4bec-bf4d-94c8c67fcf21",
   "metadata": {},
   "source": [
    "<h2 style='font-size:30px'> \n",
    "     Travis Deployment Overview\n",
    "</h2>\n",
    "<div> \n",
    "    <ul style='font-size:20px'> \n",
    "        <li>\n",
    "            Nessa aula, é explicada a lógica do arquivo .yml a ser utilizado pelo Travis CI.\n",
    "        </li>\n",
    "        <li>\n",
    "            De maneira geral, deveremos rodar alguns testes de confiabilidade. Se esses forem bem sucedidos, encaminharemos nossas imagens ao Docker Hub para, em seguida, criarmos os componentes do cluster.\n",
    "        </li>\n",
    "        <li>\n",
    "            No início da execução, teremos que instalar a CLI do GCP e logar no Docker CLI. Isso porque o fluxo é rodado num servidor terceiro.\n",
    "        </li>\n",
    "    </ul>\n",
    " </div>"
   ]
  },
  {
   "cell_type": "markdown",
   "id": "8854ff10-9acc-4761-add4-a6a93b8ad9de",
   "metadata": {},
   "source": [
    "<h2 style='font-size:30px'> \n",
    "     Running Travis CLI in a Container\n",
    "</h2>\n",
    "<div> \n",
    "    <ul style='font-size:20px'> \n",
    "        <li>\n",
    "            Aula em que criamos um container com a CLI do Travis CI.\n",
    "        </li>\n",
    "        <li>\n",
    "            Usamos a instância para encriptar o arquivo com as credenciais do Google Cloud.\n",
    "        </li>\n",
    "    </ul>\n",
    " </div>"
   ]
  },
  {
   "cell_type": "markdown",
   "id": "b9c44493-bc64-4f8c-866c-67b3abd5e06f",
   "metadata": {},
   "source": [
    "<figure>\n",
    "        <center style='margin-top:20px'>\n",
    "            <img src='img/16_travis_container.png'>\n",
    "                <figcaption> Jornada de configuração de nosso container.</figcaption>\n",
    "        </center>\n",
    "    </figure>"
   ]
  },
  {
   "cell_type": "markdown",
   "id": "1a272057-7b14-49e0-be23-50bb3937728a",
   "metadata": {},
   "source": [
    "<h2 style='font-size:30px'> \n",
    "     More Google Cloud CLI Config\n",
    "</h2>\n",
    "<div> \n",
    "    <ul style='font-size:20px'> \n",
    "        <li>\n",
    "            Aula em que acrescentamos mais algumas configurações na CLI do GCP que será usada pelo Travis CI.\n",
    "        </li>\n",
    "        <li>\n",
    "            A fim de consumirmos propriamente a CLI do GCP, teremos que especificar qual projeto e zona os comandos deverão ser encaminhados.\n",
    "        </li>\n",
    "        <li>\n",
    "            Ainda, para que possamos rodar os testes, deveremos nos logar na CLI do Docker, montando a devida imagem no Docker Hub.\n",
    "        </li>\n",
    "    </ul>\n",
    " </div>"
   ]
  },
  {
   "cell_type": "markdown",
   "id": "6b9066eb-b4ea-41cb-a3b0-181b98b0463c",
   "metadata": {},
   "source": [
    "<h2 style='font-size:30px'> \n",
    "     Unique Tags for Built Images\n",
    "</h2>\n",
    "<div> \n",
    "    <ul style='font-size:20px'> \n",
    "        <li>\n",
    "            O kubectl possui um problema com atualizações imperativas de imagens. Como ele compara a imagem atual e a desejada somente com base na tag informada, a CLI se recusará em realizar a atualização, caso ambas sejam referenciadas como <i> latest</i>.\n",
    "        </li>\n",
    "        <li>\n",
    "            Nessa situação, o programa entenderá que as imagens são as mesmas. Com isso, recomenda-se associarmos uma hash a cada nova imagem, de modo a torná-la distinguível à CLI.\n",
    "        </li>\n",
    "        <li>\n",
    "            O instrutor nos orienta a usarmos a hash do commit no qual a versão foi configurada. Isso torna tarefas de debugging mais fáceis, inclusive.\n",
    "        </li>\n",
    "    </ul>\n",
    " </div>"
   ]
  },
  {
   "cell_type": "markdown",
   "id": "fa77e410-3d7f-4643-9d74-19330b673600",
   "metadata": {},
   "source": [
    "<h2 style='font-size:30px'> \n",
    "     Configuring the GCloud CLI on Cloud Console\n",
    "</h2>\n",
    "<div> \n",
    "    <ul style='font-size:20px'> \n",
    "        <li>\n",
    "            Antes de aplicarmos nossa infraestrutura no GCP, devemos nos lembrar que nosso cluster utiliza um objeto Secret para armazenamento de uma senha. No caso dele, teremos que criá-lo imperativamente no ambiente.\n",
    "        </li>\n",
    "        <li>\n",
    "            Conseguimos fazer isso no terminal do GCP, com a CLI `kubectl`, que já vem pré-instalada. Importante ressaltar que, antes de executarmos qualquer comando, devemos configurar a CLI do `gcloud` para que ela aponte para o projeto, região e cluster adequados.\n",
    "        </li>\n",
    "        <li>\n",
    "            Uma vez realizada a configuração, podemos criar o Secret com o comando `kubectl create`.\n",
    "        </li>\n",
    "    </ul>\n",
    " </div>"
   ]
  },
  {
   "cell_type": "markdown",
   "id": "63e2b5d7-ba8b-47c6-a943-a2e170a35d64",
   "metadata": {},
   "source": [
    "<h2 style='font-size:30px'> \n",
    "     Helm Setup\n",
    "</h2>\n",
    "<div> \n",
    "    <ul style='font-size:20px'> \n",
    "        <li>\n",
    "            Devemos nos lembrar que nosso projeto utiliza um objeto Ingress de terceiros (nginx), que não vem pré-instalado no Kubernetes do GCP.\n",
    "        </li>\n",
    "        <li>\n",
    "            A fim de obtê-lo e manipulá-lo, utilizaremos o software Helm. Este é uma ferramenta voltada à manipulação de objetos terceiros em clusters Kubernetes.\n",
    "        </li>\n",
    "        <li>\n",
    "            Assim, nesta aula, instalaremos o Helm seguindo as orientações de sua <a href='https://helm.sh/docs/intro/install/'> documentação</a>.\n",
    "        </li>\n",
    "    </ul>\n",
    " </div>"
   ]
  },
  {
   "cell_type": "markdown",
   "id": "8f85e4b0-84cc-4e5e-96b8-ac865e363f76",
   "metadata": {},
   "source": [
    "<h2 style='font-size:30px'> \n",
    "     Ingress-Nginx with Helm\n",
    "</h2>\n",
    "<div> \n",
    "    <ul style='font-size:20px'> \n",
    "        <li>\n",
    "            Aula em que instalamos o Load Balancer Nginx, com o uso do Helm. \n",
    "        </li>\n",
    "        <li>\n",
    "            Lembrando: esse objeto exporá a nossa aplicação para o ambiente exterior ao nosso cluster. Nós poderemos acessá-la com o endereço de IP fornecido por ele.\n",
    "        </li>\n",
    "    </ul>\n",
    " </div>"
   ]
  },
  {
   "cell_type": "markdown",
   "id": "9b98a8d4-46d8-4649-aaee-ce40aae85588",
   "metadata": {},
   "source": [
    "<figure>\n",
    "        <center style='margin-top:20px'>\n",
    "            <img src='img/16_nginx_ip.png'>\n",
    "                <figcaption> Exemplo de IP disponibilizado no console do GCP.</figcaption>\n",
    "        </center>\n",
    "    </figure>"
   ]
  },
  {
   "cell_type": "markdown",
   "id": "56149134-697d-43f9-84eb-b7d56a3caa6f",
   "metadata": {},
   "source": [
    "<h2 style='font-size:30px'> \n",
    "     Finally - Deployment!\n",
    "</h2>\n",
    "<div> \n",
    "    <ul style='font-size:20px'> \n",
    "        <li>\n",
    "            Com todas as configurações e ambiente prontos, podemos encaminhar o código de nosso repo ao GitHub. Uma vez feito o push, nossa esteira especificada em `.travis.yml` deverá aplicar o deployment no GKE.\n",
    "        </li>\n",
    "    </ul>\n",
    " </div>"
   ]
  },
  {
   "cell_type": "markdown",
   "id": "1c19b635-f04a-4c8e-9c7e-e8729174c524",
   "metadata": {},
   "source": [
    "<figure>\n",
    "        <center style='margin-top:20px'>\n",
    "            <img src='img/16_travis_complete.png'>\n",
    "                <figcaption> Retorno do Travis com o Deployment bem sucedido.</figcaption>\n",
    "        </center>\n",
    "    </figure>"
   ]
  },
  {
   "cell_type": "markdown",
   "id": "5ae961ce-4d98-458d-85a1-a8573ad1cefe",
   "metadata": {},
   "source": [
    "<h2 style='font-size:30px'> \n",
    "     A Workflow for Changing in Prod\n",
    "</h2>\n",
    "<div> \n",
    "    <ul style='font-size:20px'> \n",
    "        <li>\n",
    "            Aula em que experimentamos a jornada de atualização de nosso ambiente produtivo. Nela, abrimos uma nova branch no repo, onde fazemos uma atualização de um script. Uma vez feito o push, criamos um Pull Request para fazermos o merge da alteração com a branch master.\n",
    "        </li>\n",
    "        <li>\n",
    "            Uma vez feito o merge, uma nova execução do fluxo Travis ocorrerá, levando nossa modificação ao GKE.\n",
    "        </li>\n",
    "    </ul>\n",
    " </div>"
   ]
  }
 ],
 "metadata": {
  "kernelspec": {
   "display_name": "Python 3 (ipykernel)",
   "language": "python",
   "name": "python3"
  },
  "language_info": {
   "codemirror_mode": {
    "name": "ipython",
    "version": 3
   },
   "file_extension": ".py",
   "mimetype": "text/x-python",
   "name": "python",
   "nbconvert_exporter": "python",
   "pygments_lexer": "ipython3",
   "version": "3.10.12"
  }
 },
 "nbformat": 4,
 "nbformat_minor": 5
}
