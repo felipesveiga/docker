{
 "cells": [
  {
   "cell_type": "markdown",
   "id": "c2a4a2a4-1c61-4dff-9f9c-adf331d318b7",
   "metadata": {},
   "source": [
    "<h1 style='font-size:40px'> Kubernetes Production Deployment</h1>"
   ]
  },
  {
   "cell_type": "markdown",
   "id": "72abb186-3a02-43f4-ae5a-4f25e8002d0e",
   "metadata": {},
   "source": [
    "<h2 style='font-size:30px'> \n",
    "    The Deployment Process\n",
    "</h2>\n",
    "<div> \n",
    "    <ul style='font-size:20px'> \n",
    "        <li>\n",
    "            Esta seção será focada em levar a aplicação web desenvolvida ao longo do curso ao Google Cloud. \n",
    "        </li>\n",
    "        <li>\n",
    "            O instrutor nos adverte que o projeto incorrerá <strong>custos</strong>. Por isso, procure desligá-lo após terminar as aulas. \n",
    "        </li>\n",
    "    </ul>\n",
    " </div>"
   ]
  },
  {
   "cell_type": "markdown",
   "id": "e55f656b-d850-4808-8b1f-c3051b05c458",
   "metadata": {},
   "source": [
    "<h2 style='font-size:30px'> \n",
    "    Creating a Google Cloud Project\n",
    "</h2>\n",
    "<div> \n",
    "    <ul style='font-size:20px'> \n",
    "        <li>\n",
    "            O GCP demanda que, para cada projeto criado em seu ambiente, um workspace novo seja gerado. Esse recebe o nome de \"Project\".\n",
    "        </li>\n",
    "        <li>\n",
    "            Nessa aula, criamos o Project de nossa aplicação.\n",
    "        </li>\n",
    "    </ul>\n",
    " </div>"
   ]
  },
  {
   "cell_type": "markdown",
   "id": "dc8116e5-44d1-4953-9d2e-231d93631468",
   "metadata": {},
   "source": [
    "<h2 style='font-size:30px'> \n",
    "    Kubernetes Dashboard on Google Cloud\n",
    "</h2>\n",
    "<div> \n",
    "    <ul style='font-size:20px'> \n",
    "        <li>\n",
    "            Explicação geral da interface gráfica do GKE.\n",
    "        </li>\n",
    "    </ul>\n",
    " </div>"
   ]
  },
  {
   "cell_type": "markdown",
   "id": "b0af568d-bb96-4bec-bf4d-94c8c67fcf21",
   "metadata": {},
   "source": [
    "<h2 style='font-size:30px'> \n",
    "     Travis Deployment Overview\n",
    "</h2>\n",
    "<div> \n",
    "    <ul style='font-size:20px'> \n",
    "        <li>\n",
    "            Nessa aula, é explicada a lógica do arquivo .yml a ser utilizado pelo Travis CI.\n",
    "        </li>\n",
    "        <li>\n",
    "            De maneira geral, deveremos rodar alguns testes de confiabilidade. Se esses forem bem sucedidos, encaminharemos nossas imagens ao Docker Hub para, em seguida, criarmos os componentes do cluster.\n",
    "        </li>\n",
    "        <li>\n",
    "            No início da execução, teremos que instalar a CLI do GCP e logar no Docker CLI. Isso porque o fluxo é rodado num servidor terceiro.\n",
    "        </li>\n",
    "    </ul>\n",
    " </div>"
   ]
  },
  {
   "cell_type": "markdown",
   "id": "8854ff10-9acc-4761-add4-a6a93b8ad9de",
   "metadata": {},
   "source": [
    "<h2 style='font-size:30px'> \n",
    "     Running Travis CLI in a Container\n",
    "</h2>\n",
    "<div> \n",
    "    <ul style='font-size:20px'> \n",
    "        <li>\n",
    "            Aula em que criamos um container com a CLI do Travis CI.\n",
    "        </li>\n",
    "        <li>\n",
    "            Usamos a instância para encriptar o arquivo com as credenciais do Google Cloud.\n",
    "        </li>\n",
    "    </ul>\n",
    " </div>"
   ]
  },
  {
   "cell_type": "markdown",
   "id": "b9c44493-bc64-4f8c-866c-67b3abd5e06f",
   "metadata": {},
   "source": [
    "<figure>\n",
    "        <center style='margin-top:20px'>\n",
    "            <img src='img/16_travis_container.png'>\n",
    "                <figcaption> Jornada de configuração de nosso container.</figcaption>\n",
    "        </center>\n",
    "    </figure>"
   ]
  },
  {
   "cell_type": "markdown",
   "id": "1a272057-7b14-49e0-be23-50bb3937728a",
   "metadata": {},
   "source": [
    "<h2 style='font-size:30px'> \n",
    "     More Google Cloud CLI Config\n",
    "</h2>\n",
    "<div> \n",
    "    <ul style='font-size:20px'> \n",
    "        <li>\n",
    "            Aula em que acrescentamos mais algumas configurações na CLI do GCP que será usada pelo Travis CI.\n",
    "        </li>\n",
    "        <li>\n",
    "            A fim de consumirmos propriamente a CLI do GCP, teremos que especificar qual projeto e zona os comandos deverão ser encaminhados.\n",
    "        </li>\n",
    "        <li>\n",
    "            Ainda, para que possamos rodar os testes, deveremos nos logar na CLI do Docker, montando a devida imagem no Docker Hub.\n",
    "        </li>\n",
    "    </ul>\n",
    " </div>"
   ]
  },
  {
   "cell_type": "markdown",
   "id": "6b9066eb-b4ea-41cb-a3b0-181b98b0463c",
   "metadata": {},
   "source": [
    "<h2 style='font-size:30px'> \n",
    "     Unique Tags for Built Images\n",
    "</h2>\n",
    "<div> \n",
    "    <ul style='font-size:20px'> \n",
    "        <li>\n",
    "            O kubectl possui um problema com atualizações imperativas de imagens. Como ele compara a imagem atual e a desejada somente com base na tag informada, a CLI se recusará em realizar a atualização, caso ambas sejam referenciadas como <i> latest</i>.\n",
    "        </li>\n",
    "        <li>\n",
    "            Nessa situação, o programa entenderá que as imagens são as mesmas. Com isso, recomenda-se associarmos uma hash a cada nova imagem, de modo a torná-la distinguível à CLI.\n",
    "        </li>\n",
    "        <li>\n",
    "            O instrutor nos orienta a usarmos a hash do commit no qual a versão foi configurada. Isso torna tarefas de debugging mais fáceis, inclusive.\n",
    "        </li>\n",
    "    </ul>\n",
    " </div>"
   ]
  },
  {
   "cell_type": "markdown",
   "id": "fa77e410-3d7f-4643-9d74-19330b673600",
   "metadata": {},
   "source": [
    "<h2 style='font-size:30px'> \n",
    "     Configuring the GCloud CLI on Cloud Console\n",
    "</h2>\n",
    "<div> \n",
    "    <ul style='font-size:20px'> \n",
    "        <li>\n",
    "            Antes de aplicarmos nossa infraestrutura no GCP, devemos nos lembrar que nosso cluster utiliza um objeto Secret para armazenamento de uma senha. No caso dele, teremos que criá-lo imperativamente no ambiente.\n",
    "        </li>\n",
    "        <li>\n",
    "            Conseguimos fazer isso no terminal do GCP, com a CLI `kubectl`, que já vem pré-instalada. Importante ressaltar que, antes de executarmos qualquer comando, devemos configurar a CLI do `gcloud` para que ela aponte para o projeto, região e cluster adequados.\n",
    "        </li>\n",
    "        <li>\n",
    "            Uma vez realizada a configuração, podemos criar o Secret com o comando `kubectl create`.\n",
    "        </li>\n",
    "    </ul>\n",
    " </div>"
   ]
  },
  {
   "cell_type": "markdown",
   "id": "63e2b5d7-ba8b-47c6-a943-a2e170a35d64",
   "metadata": {},
   "source": [
    "<h2 style='font-size:30px'> \n",
    "     Helm Setup\n",
    "</h2>\n",
    "<div> \n",
    "    <ul style='font-size:20px'> \n",
    "        <li>\n",
    "            Devemos nos lembrar que nosso projeto utiliza um objeto Ingress de terceiros (nginx), que não vem pré-instalado no Kubernetes do GCP.\n",
    "        </li>\n",
    "        <li>\n",
    "            A fim de obtê-lo e manipulá-lo, utilizaremos o software Helm. Este é uma ferramenta voltada à manipulação de objetos terceiros em clusters Kubernetes.\n",
    "        </li>\n",
    "        <li>\n",
    "            Assim, nesta aula, instalaremos o Helm seguindo as orientações de sua <a href='https://helm.sh/docs/intro/install/'> documentação</a>.\n",
    "        </li>\n",
    "    </ul>\n",
    " </div>"
   ]
  },
  {
   "cell_type": "markdown",
   "id": "8f85e4b0-84cc-4e5e-96b8-ac865e363f76",
   "metadata": {},
   "source": [
    "<h2 style='font-size:30px'> \n",
    "     Ingress-Nginx with Helm\n",
    "</h2>\n",
    "<div> \n",
    "    <ul style='font-size:20px'> \n",
    "        <li>\n",
    "            Aula em que instalamos o Load Balancer Nginx, com o uso do Helm. \n",
    "        </li>\n",
    "        <li>\n",
    "            Lembrando: esse objeto exporá a nossa aplicação para o ambiente exterior ao nosso cluster. Nós poderemos acessá-la com o endereço de IP fornecido por ele.\n",
    "        </li>\n",
    "    </ul>\n",
    " </div>"
   ]
  },
  {
   "cell_type": "markdown",
   "id": "9b98a8d4-46d8-4649-aaee-ce40aae85588",
   "metadata": {},
   "source": [
    "<figure>\n",
    "        <center style='margin-top:20px'>\n",
    "            <img src='img/16_nginx_ip.png'>\n",
    "                <figcaption> Exemplo de IP disponibilizado no console do GCP.</figcaption>\n",
    "        </center>\n",
    "    </figure>"
   ]
  },
  {
   "cell_type": "code",
   "execution_count": 3,
   "id": "e84f6e8f-6d63-430a-9c87-96386fe3de13",
   "metadata": {},
   "outputs": [],
   "source": [
    "! code projects/complex-gh/"
   ]
  },
  {
   "cell_type": "code",
   "execution_count": 9,
   "id": "39079c38-9b0a-47ce-b1f7-4c35c5618bef",
   "metadata": {
    "editable": true,
    "slideshow": {
     "slide_type": ""
    },
    "tags": []
   },
   "outputs": [
    {
     "name": "stdout",
     "output_type": "stream",
     "text": [
      "[master 4424a74] Tive um erro no fluxo do Travis, por conta da versão do Python da VM; Verificar se a nova invocação funcionou\n",
      " 4 files changed, 28 insertions(+), 24 deletions(-)\n",
      "Enumerating objects: 15, done.\n",
      "Counting objects: 100% (15/15), done.\n",
      "Delta compression using up to 24 threads\n",
      "Compressing objects: 100% (8/8), done.\n",
      "Writing objects: 100% (8/8), 1.06 KiB | 1.06 MiB/s, done.\n",
      "Total 8 (delta 7), reused 0 (delta 0), pack-reused 0\n",
      "remote: Resolving deltas: 100% (7/7), completed with 7 local objects.\u001b[K\n",
      "To https://github.com/felipesveiga/docker.git\n",
      "   9b3b87d..4424a74  master -> master\n"
     ]
    }
   ],
   "source": [
    "! git add .\n",
    "! git commit -m 'Login na CLI Docker falhou'\n",
    "! git push"
   ]
  },
  {
   "cell_type": "markdown",
   "id": "857938f0-5c63-4673-a6c9-d08ae0beae16",
   "metadata": {
    "editable": true,
    "slideshow": {
     "slide_type": ""
    },
    "tags": []
   },
   "source": [
    "<p style='color:red'> Login na CLI Docker falhou; Revisar variáveis do Travis; Aula 286</p>"
   ]
  },
  {
   "cell_type": "markdown",
   "id": "bbc998a9-d0dd-49b6-bf7e-b9d8724d12b5",
   "metadata": {
    "editable": true,
    "slideshow": {
     "slide_type": ""
    },
    "tags": []
   },
   "source": [
    "<p style='color:red'> Visite a Aula 307, caso deseje deletar o seu cluster!</p>"
   ]
  }
 ],
 "metadata": {
  "kernelspec": {
   "display_name": "Python 3 (ipykernel)",
   "language": "python",
   "name": "python3"
  },
  "language_info": {
   "codemirror_mode": {
    "name": "ipython",
    "version": 3
   },
   "file_extension": ".py",
   "mimetype": "text/x-python",
   "name": "python",
   "nbconvert_exporter": "python",
   "pygments_lexer": "ipython3",
   "version": "3.10.12"
  }
 },
 "nbformat": 4,
 "nbformat_minor": 5
}
