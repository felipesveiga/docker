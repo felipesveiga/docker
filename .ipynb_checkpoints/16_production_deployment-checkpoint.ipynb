{
 "cells": [
  {
   "cell_type": "markdown",
   "id": "c2a4a2a4-1c61-4dff-9f9c-adf331d318b7",
   "metadata": {},
   "source": [
    "<h1 style='font-size:40px'> Kubernetes Production Deployment</h1>"
   ]
  },
  {
   "cell_type": "markdown",
   "id": "72abb186-3a02-43f4-ae5a-4f25e8002d0e",
   "metadata": {},
   "source": [
    "<h2 style='font-size:30px'> \n",
    "    The Deployment Process\n",
    "</h2>\n",
    "<div> \n",
    "    <ul style='font-size:20px'> \n",
    "        <li>\n",
    "            Esta seção será focada em levar a aplicação web desenvolvida ao longo do curso ao Google Cloud. \n",
    "        </li>\n",
    "        <li>\n",
    "            O instrutor nos adverte que o projeto incorrerá <strong>custos</strong>. Por isso, procure desligá-lo após terminar as aulas. \n",
    "        </li>\n",
    "    </ul>\n",
    " </div>"
   ]
  },
  {
   "cell_type": "markdown",
   "id": "e55f656b-d850-4808-8b1f-c3051b05c458",
   "metadata": {},
   "source": [
    "<h2 style='font-size:30px'> \n",
    "    Creating a Google Cloud Project\n",
    "</h2>\n",
    "<div> \n",
    "    <ul style='font-size:20px'> \n",
    "        <li>\n",
    "            O GCP demanda que, para cada projeto criado em seu ambiente, um workspace novo seja gerado. Esse recebe o nome de \"Project\".\n",
    "        </li>\n",
    "        <li>\n",
    "            Nessa aula, criamos o Project de nossa aplicação.\n",
    "        </li>\n",
    "    </ul>\n",
    " </div>"
   ]
  },
  {
   "cell_type": "markdown",
   "id": "dc8116e5-44d1-4953-9d2e-231d93631468",
   "metadata": {},
   "source": [
    "<h2 style='font-size:30px'> \n",
    "    Kubernetes Dashboard on Google Cloud\n",
    "</h2>\n",
    "<div> \n",
    "    <ul style='font-size:20px'> \n",
    "        <li>\n",
    "            Explicação geral da interface gráfica do GKE.\n",
    "        </li>\n",
    "    </ul>\n",
    " </div>"
   ]
  },
  {
   "cell_type": "markdown",
   "id": "b0af568d-bb96-4bec-bf4d-94c8c67fcf21",
   "metadata": {},
   "source": [
    "<h2 style='font-size:30px'> \n",
    "     Travis Deployment Overview\n",
    "</h2>\n",
    "<div> \n",
    "    <ul style='font-size:20px'> \n",
    "        <li>\n",
    "            Nessa aula, é explicada a lógica do arquivo .yml a ser utilizado pelo Travis CI.\n",
    "        </li>\n",
    "        <li>\n",
    "            De maneira geral, deveremos rodar alguns testes de confiabilidade. Se esses forem bem sucedidos, encaminharemos nossas imagens ao Docker Hub para, em seguida, criarmos os componentes do cluster.\n",
    "        </li>\n",
    "        <li>\n",
    "            No início da execução, teremos que instalar a CLI do GCP e logar no Docker CLI. Isso porque o fluxo é rodado num servidor terceiro.\n",
    "        </li>\n",
    "    </ul>\n",
    " </div>"
   ]
  },
  {
   "cell_type": "code",
   "execution_count": 3,
   "id": "39079c38-9b0a-47ce-b1f7-4c35c5618bef",
   "metadata": {
    "editable": true,
    "slideshow": {
     "slide_type": ""
    },
    "tags": []
   },
   "outputs": [
    {
     "name": "stdout",
     "output_type": "stream",
     "text": [
      "[master 7c8b529] Continuar do passo 7 Aula 258\n",
      " 2 files changed, 64 insertions(+), 30 deletions(-)\n",
      "Enumerating objects: 7, done.\n",
      "Counting objects: 100% (7/7), done.\n",
      "Delta compression using up to 24 threads\n",
      "Compressing objects: 100% (4/4), done.\n",
      "Writing objects: 100% (4/4), 844 bytes | 844.00 KiB/s, done.\n",
      "Total 4 (delta 3), reused 0 (delta 0), pack-reused 0\n",
      "remote: Resolving deltas: 100% (3/3), completed with 3 local objects.\u001b[K\n",
      "To https://github.com/felipesveiga/docker.git\n",
      "   b923802..7c8b529  master -> master\n"
     ]
    }
   ],
   "source": [
    "! git add .\n",
    "! git commit -m 'Aula 267'\n",
    "! git push"
   ]
  },
  {
   "cell_type": "markdown",
   "id": "857938f0-5c63-4673-a6c9-d08ae0beae16",
   "metadata": {
    "editable": true,
    "slideshow": {
     "slide_type": ""
    },
    "tags": []
   },
   "source": [
    "<p style='color:red'> Vi Aula 264 a 266; Aula 267</p>"
   ]
  },
  {
   "cell_type": "markdown",
   "id": "bbc998a9-d0dd-49b6-bf7e-b9d8724d12b5",
   "metadata": {
    "editable": true,
    "slideshow": {
     "slide_type": ""
    },
    "tags": []
   },
   "source": [
    "<p style='color:red'> Visite a Aula 307, caso deseje deletar o seu cluster!</p>"
   ]
  }
 ],
 "metadata": {
  "kernelspec": {
   "display_name": "Python 3 (ipykernel)",
   "language": "python",
   "name": "python3"
  },
  "language_info": {
   "codemirror_mode": {
    "name": "ipython",
    "version": 3
   },
   "file_extension": ".py",
   "mimetype": "text/x-python",
   "name": "python",
   "nbconvert_exporter": "python",
   "pygments_lexer": "ipython3",
   "version": "3.10.12"
  }
 },
 "nbformat": 4,
 "nbformat_minor": 5
}
