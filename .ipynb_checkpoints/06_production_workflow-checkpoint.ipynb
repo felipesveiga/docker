{
 "cells": [
  {
   "cell_type": "markdown",
   "id": "6f21aa47-cb73-4eed-8f8b-73c38aa48b3a",
   "metadata": {},
   "source": [
    "<h1 style='font-size:40px'> \n",
    " Creating a Production-Grade Workflow</h1>"
   ]
  },
  {
   "cell_type": "markdown",
   "id": "d1d3b8e6-4ec8-468a-b70a-f897e69a9005",
   "metadata": {},
   "source": [
    "<h2 style='font-size:30px'> Development Workflow</h2>\n",
    "<div> \n",
    "    <ul style='font-size:20px'> \n",
    "        <li>\n",
    "        </li>\n",
    "    </ul>\n",
    " </div>"
   ]
  },
  {
   "cell_type": "code",
   "execution_count": 5,
   "id": "7fba7ece-3a85-4e84-8748-308e1c869873",
   "metadata": {},
   "outputs": [
    {
     "name": "stdout",
     "output_type": "stream",
     "text": [
      "[master a4acfc1] Aula 57\n",
      " 5 files changed, 106 insertions(+), 32 deletions(-)\n",
      " delete mode 100644 projects/visits/.docker-compose.yml.swp\n",
      " delete mode 100644 projects/visits/.index.js.swp\n",
      "Enumerating objects: 13, done.\n",
      "Counting objects: 100% (13/13), done.\n",
      "Delta compression using up to 24 threads\n",
      "Compressing objects: 100% (7/7), done.\n",
      "Writing objects: 100% (7/7), 1.21 KiB | 1.21 MiB/s, done.\n",
      "Total 7 (delta 6), reused 0 (delta 0), pack-reused 0\n",
      "remote: Resolving deltas: 100% (6/6), completed with 6 local objects.\u001b[K\n",
      "To https://github.com/felipesveiga/docker.git\n",
      "   4e7e831..a4acfc1  master -> master\n"
     ]
    }
   ],
   "source": [
    "! git add .\n",
    "! git commit -am 'Iniciar seção 6'\n",
    "! git push"
   ]
  },
  {
   "cell_type": "markdown",
   "id": "e59a2ff2-0939-4b04-baa4-6c09dd62814e",
   "metadata": {
    "editable": true,
    "slideshow": {
     "slide_type": ""
    },
    "tags": []
   },
   "source": [
    "<p style='color:red'> Vi Aulas 57 e 58; Iniciar seção 6</p>"
   ]
  }
 ],
 "metadata": {
  "kernelspec": {
   "display_name": "Python 3 (ipykernel)",
   "language": "python",
   "name": "python3"
  },
  "language_info": {
   "codemirror_mode": {
    "name": "ipython",
    "version": 3
   },
   "file_extension": ".py",
   "mimetype": "text/x-python",
   "name": "python",
   "nbconvert_exporter": "python",
   "pygments_lexer": "ipython3",
   "version": "3.10.12"
  }
 },
 "nbformat": 4,
 "nbformat_minor": 5
}
