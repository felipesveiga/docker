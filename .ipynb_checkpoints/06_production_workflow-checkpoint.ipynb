{
 "cells": [
  {
   "cell_type": "markdown",
   "id": "6f21aa47-cb73-4eed-8f8b-73c38aa48b3a",
   "metadata": {},
   "source": [
    "<h1 style='font-size:40px'> \n",
    " Creating a Production-Grade Workflow</h1>"
   ]
  },
  {
   "cell_type": "markdown",
   "id": "d1d3b8e6-4ec8-468a-b70a-f897e69a9005",
   "metadata": {},
   "source": [
    "<h2 style='font-size:30px'> Development Workflow</h2>\n",
    "<div> \n",
    "    <ul style='font-size:20px'> \n",
    "        <li>\n",
    "            Vamos agora criar um projeto de uma maneira mais profissional. Ele envolverá um deploy em um provdedor de nuvem (AWS), e a concepção de uma esteira de CI/CD.\n",
    "        </li>\n",
    "    </ul>\n",
    " </div>"
   ]
  },
  {
   "cell_type": "markdown",
   "id": "a5d51307-08ac-4a19-9989-aca347ee3b5f",
   "metadata": {},
   "source": [
    "<h2 style='font-size:30px'> Flow Specifics</h2>\n",
    "<div> \n",
    "    <ul style='font-size:20px'> \n",
    "        <li>\n",
    "            Nós desenvolveremos nosso software num repo de duas branches (feature e master). Quando atualizarmos nossa feature, criaremos um Pull Request para fazermos um merge com a master. \n",
    "        </li>\n",
    "        <li>\n",
    "            Para o merge ser permitido, passaremos o código da feature num pequeno fluxo de testes no Travis CI. Esse fará o deploy na master e AWS, caso tudo esteja certo.\n",
    "        </li>\n",
    "        <li> \n",
    "            Utilizaremos o Docker como ferramenta auxiliadora nessas tarefas.\n",
    "        </li>\n",
    "    </ul>\n",
    " </div>"
   ]
  },
  {
   "cell_type": "markdown",
   "id": "f62fd8d5-c43f-45c9-807e-8082c004b084",
   "metadata": {},
   "source": [
    "<h2 style='font-size:30px'> Project Generation</h2>\n",
    "<div> \n",
    "    <ul style='font-size:20px'> \n",
    "        <li>\n",
    "            Toda a arquitetura de desenvolvimento apresentada será baseada num projeto NodeJS. Você deverá tê-lo instalado para iniciar o trabalho.\n",
    "        </li>\n",
    "    </ul>\n",
    " </div>"
   ]
  },
  {
   "cell_type": "markdown",
   "id": "c60a8eba-c90b-45a7-817b-fc30fc85f59c",
   "metadata": {},
   "source": [
    "<h2 style='font-size:30px'> Necessary Commands</h2>\n",
    "<div> \n",
    "    <ul style='font-size:20px'> \n",
    "        <li>\n",
    "            Somos apresentados aos principais comandos npm que devem ser executados por nós, ao longo do projeto.\n",
    "            <ul> \n",
    "                <li>\n",
    "                    <i> npm run start:</i> inicializa um servidor de desenvolvimento.\n",
    "                </li>\n",
    "                <li>\n",
    "                    <i> npm run test:</i> acionamento de testes do projeto.\n",
    "                </li>\n",
    "                <li>\n",
    "                    <i> npm run build:</i> cria uma versão para produção da aplicação.\n",
    "                </li>\n",
    "            </ul>\n",
    "        </li>\n",
    "    </ul>\n",
    " </div>"
   ]
  },
  {
   "cell_type": "markdown",
   "id": "ceffbd36-a4af-40ff-80fc-4aae0c350000",
   "metadata": {},
   "source": [
    "<h2 style='font-size:30px'> Creating the Dev Dockerfile</h2>\n",
    "<div> \n",
    "    <ul style='font-size:20px'> \n",
    "        <li>\n",
    "            Vamos desenvolver um arquivo Dockerfile.dev, que conterá o código do container em DEV. Basicamente, sua principal diferença com o de PROD é o acionamento de `npm run start`.\n",
    "        </li>\n",
    "        <li>\n",
    "            Como não se trata de um Dockerfile pleno, o build padrão falhará. Para que o Docker construa nossa imagem com o arquivo provisório, deveremos fazer o build com `docker build -f Dockerfile.dev .`  \n",
    "        </li>\n",
    "    </ul>\n",
    " </div>"
   ]
  },
  {
   "cell_type": "markdown",
   "id": "1f578acb-4206-4507-95d0-6757dec785db",
   "metadata": {},
   "source": [
    "<h2 style='font-size:30px'> Duplicating Dependencies</h2>\n",
    "<div> \n",
    "    <ul style='font-size:20px'> \n",
    "        <li>\n",
    "            Antes de construir sua imagem, certifique-se de que o Docker não copiará qualquer diretório que já contenha as dependências do seu projeto, como .venv ou node_modules. \n",
    "        </li>\n",
    "    </ul>\n",
    " </div>"
   ]
  },
  {
   "cell_type": "markdown",
   "id": "fada48ba-4c7d-452d-a44b-a5dc1d6f80ac",
   "metadata": {},
   "source": [
    "<h2 style='font-size:30px'> Docker Volumes</h2>\n",
    "<div> \n",
    "    <ul style='font-size:20px'> \n",
    "        <li>\n",
    "            Como ainda estamos em fase de desenvolvimento, é possível que desejemos editar o código-fonte da nossa aplicação e verificar como ela se reflete.\n",
    "        </li>\n",
    "        <li>\n",
    "            Uma solução para isso seria fazermos um `docker exec -it &lt;container_id&gt; sh` e modificarmos os arquivos. No entanto, ainda teríamos que reiniciar o container para enxergarmos as alterações.\n",
    "        </li>\n",
    "        <li>\n",
    "            Para evitar essa situação, podemos utilizar os chamados Docker Volumes. Eles, basicamente, criam uma referência a certos diretórios de nossa máquina local. Com isso, poderemos editar livremente nossos arquivos em nosso repo e visualizar as alterações na aplicação.\n",
    "            <center style='margin-top:20px'>\n",
    "                <img src='img/06_docker_volume.png'>\n",
    "            </center>\n",
    "        </li>\n",
    "    </ul>\n",
    " </div>"
   ]
  },
  {
   "cell_type": "markdown",
   "id": "14e40269-5079-4bd2-bb80-dbf45bfb6387",
   "metadata": {},
   "source": [
    "<h2 style='font-size:30px'> Bookmarking Volumes</h2>\n",
    "<div> \n",
    "    <ul style='font-size:20px'> \n",
    "        <li>\n",
    "            A criação dessas referências ocorre por meio da flag `-v`. Nela, especificamos o diretório local para onde o Docker apontará, assim como a pasta do container que assumirá o papel de proxy.\n",
    "        </li>\n",
    "        <li>\n",
    "            Você informará `&dollar;(&lt;diretorio_local&gt;):&lt;diretorio_proxy&gt;`. Ademais, caso uma sub-pasta do proxy não se encontre em nossa máquina, passe `-v &lt;path_diretorio&gt;`, também! Note que, nesse último caso, não passamos outro caminho com :.\n",
    "        </li>\n",
    "    </ul>\n",
    " </div>"
   ]
  },
  {
   "cell_type": "markdown",
   "id": "c81514d4-ab35-44b5-95f6-ad189c54fcf5",
   "metadata": {},
   "source": [
    "* Exemplo do comando utilizado:\n",
    "```sh\n",
    "docker run -it -p 3000:3000 -v /home/node/app/node_modules -v $(pwd):/home/node/app frontend:dev\n",
    "```"
   ]
  },
  {
   "cell_type": "markdown",
   "id": "b0452e36-5b11-47ea-9b6a-c54b758d544c",
   "metadata": {},
   "source": [
    "<div> \n",
    "    <ul style='font-size:20px'> \n",
    "        <li>\n",
    "            Uma vez acionando o run com essas flags, as alterações de seus arquivos do projeto serão refletidas prontamente na aplicação.\n",
    "        </li>\n",
    "    </ul>\n",
    " </div>"
   ]
  },
  {
   "cell_type": "markdown",
   "id": "646b4794-668c-41f3-83e6-dbef75a20f6f",
   "metadata": {},
   "source": [
    "<h2 style='font-size:30px'> Shorthand with Docker Compose</h2>\n",
    "<div> \n",
    "    <ul style='font-size:20px'> \n",
    "        <li>\n",
    "            O comando atual para criação do container é bastante extenso. A fim de simplificá-lo, podemos especificar todas as configurações desejadas num docker-compose.yml. Assim, tudo o que precisaremos fazer será invocar `docker-compose up` para ligarmos a nossa aplicação.\n",
    "        </li>\n",
    "    </ul>\n",
    " </div>"
   ]
  },
  {
   "cell_type": "markdown",
   "id": "d5e12c6e-e71c-4f58-9ba1-8d1a8f8243db",
   "metadata": {},
   "source": [
    " <center style='margin-top:20px'> \n",
    "        <figure>\n",
    "            <img src='img/06_docker_compose.png'>\n",
    "            <figcaption> Como não usamos um Dockerfile pleno, temos que passar alguns argumentos a mais. </figcaption>\n",
    "        </figure>\n",
    "    </center>"
   ]
  },
  {
   "cell_type": "markdown",
   "id": "d408c585-6752-4570-9d4d-70392b380335",
   "metadata": {},
   "source": [
    "<h2 style='font-size:30px'> Executing Tests</h2>\n",
    "<div> \n",
    "    <ul style='font-size:20px'> \n",
    "        <li>\n",
    "            Para o acionamento de testes, somos apresentados a duas metodologias. A primeira seria rodando um `docker exec` que acione o `npm run test`. A desvantagem dessa metodologia seria o caráter manual dessa execução.\n",
    "        </li>\n",
    "        <li>\n",
    "            A outra forma seria criando um segundo container idêntico ao da aplicação web, mas que rode o `npm run test` como comando principal. Sua vantagem  é que o teste será acionado sempre que modificarmos algum arquivo (por conta do volume). No entanto, nosso projeto dobrará de tamanho.  \n",
    "        </li>\n",
    "        <li>\n",
    "            No nosso caso, ficaremos com a segunda estratégia.\n",
    "        </li>\n",
    "    </ul>\n",
    " </div>"
   ]
  },
  {
   "cell_type": "markdown",
   "id": "7be6ebbd-5e4b-457b-a595-6bdd287a20ef",
   "metadata": {},
   "source": [
    " <center style='margin-top:20px'> \n",
    "        <figure>\n",
    "            <img src='img/06_tests_container.png'>\n",
    "            <figcaption> No container de testes, apenas não informaremos uma porta e declararemos o comando principal (sobrescrevendo o do Dockerfile).</figcaption>\n",
    "        </figure>\n",
    "    </center>"
   ]
  },
  {
   "cell_type": "markdown",
   "id": "a700f70f-7f06-464b-93df-cac92d39a284",
   "metadata": {},
   "source": [
    "<h2 style='font-size:30px'> Need for Nginx</h2>\n",
    "<div> \n",
    "    <ul style='font-size:20px'> \n",
    "        <li>\n",
    "            Nos concentraremos, agora,  na montagem  de nosso servidor de produção. Nele, desejamos que o usuário tenha acesso a apenas uma versão estática dos arquivos do nosso projeto.\n",
    "        </li>\n",
    "        <li>\n",
    "            O nginx será a tecnologia que intermediará a interação do usuário com  os arquivos.\n",
    "        </li>\n",
    "    </ul>\n",
    " </div>"
   ]
  },
  {
   "cell_type": "code",
   "execution_count": 2,
   "id": "7fba7ece-3a85-4e84-8748-308e1c869873",
   "metadata": {},
   "outputs": [
    {
     "name": "stdout",
     "output_type": "stream",
     "text": [
      "[master 411ade8] Informar o segundo container em Dockerfile.dev\n",
      " 2 files changed, 70 insertions(+), 30 deletions(-)\n",
      "Enumerating objects: 7, done.\n",
      "Counting objects: 100% (7/7), done.\n",
      "Delta compression using up to 24 threads\n",
      "Compressing objects: 100% (4/4), done.\n",
      "Writing objects: 100% (4/4), 1.05 KiB | 1.05 MiB/s, done.\n",
      "Total 4 (delta 3), reused 0 (delta 0), pack-reused 0\n",
      "remote: Resolving deltas: 100% (3/3), completed with 3 local objects.\u001b[K\n",
      "To https://github.com/felipesveiga/docker.git\n",
      "   ce983e8..411ade8  master -> master\n"
     ]
    }
   ],
   "source": [
    "! git add .\n",
    "! git commit -am 'Aula 79'\n",
    "! git push"
   ]
  },
  {
   "cell_type": "markdown",
   "id": "e59a2ff2-0939-4b04-baa4-6c09dd62814e",
   "metadata": {
    "editable": true,
    "slideshow": {
     "slide_type": ""
    },
    "tags": []
   },
   "source": [
    "<p style='color:red'> Terminei a declaração do container de testes em Dockerfile.dev; Vi Aula 78; Aula 79</p>"
   ]
  }
 ],
 "metadata": {
  "kernelspec": {
   "display_name": "Python 3 (ipykernel)",
   "language": "python",
   "name": "python3"
  },
  "language_info": {
   "codemirror_mode": {
    "name": "ipython",
    "version": 3
   },
   "file_extension": ".py",
   "mimetype": "text/x-python",
   "name": "python",
   "nbconvert_exporter": "python",
   "pygments_lexer": "ipython3",
   "version": "3.10.12"
  }
 },
 "nbformat": 4,
 "nbformat_minor": 5
}
