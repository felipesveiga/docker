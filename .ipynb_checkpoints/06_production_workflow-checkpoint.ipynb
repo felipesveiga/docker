{
 "cells": [
  {
   "cell_type": "markdown",
   "id": "6f21aa47-cb73-4eed-8f8b-73c38aa48b3a",
   "metadata": {},
   "source": [
    "<h1 style='font-size:40px'> \n",
    " Creating a Production-Grade Workflow</h1>"
   ]
  },
  {
   "cell_type": "markdown",
   "id": "d1d3b8e6-4ec8-468a-b70a-f897e69a9005",
   "metadata": {},
   "source": [
    "<h2 style='font-size:30px'> Development Workflow</h2>\n",
    "<div> \n",
    "    <ul style='font-size:20px'> \n",
    "        <li>\n",
    "            Vamos agora criar um projeto de uma maneira mais profissional. Ele envolverá um deploy em um provdedor de nuvem (AWS), e a concepção de uma esteira de CI/CD.\n",
    "        </li>\n",
    "    </ul>\n",
    " </div>"
   ]
  },
  {
   "cell_type": "markdown",
   "id": "a5d51307-08ac-4a19-9989-aca347ee3b5f",
   "metadata": {},
   "source": [
    "<h2 style='font-size:30px'> Flow Specifics</h2>\n",
    "<div> \n",
    "    <ul style='font-size:20px'> \n",
    "        <li>\n",
    "            Nós desenvolveremos nosso software num repo de duas branches (feature e master). Quando atualizarmos nossa feature, criaremos um Pull Request para fazermos um merge com a master. \n",
    "        </li>\n",
    "        <li>\n",
    "            Para o merge ser permitido, passaremos o código da feature num pequeno fluxo de testes no Travis CI. Esse fará o deploy na master e AWS, caso tudo esteja certo.\n",
    "        </li>\n",
    "        <li> \n",
    "            Utilizaremos o Docker como ferramenta auxiliadora nessas tarefas.\n",
    "        </li>\n",
    "    </ul>\n",
    " </div>"
   ]
  },
  {
   "cell_type": "markdown",
   "id": "f62fd8d5-c43f-45c9-807e-8082c004b084",
   "metadata": {},
   "source": [
    "<h2 style='font-size:30px'> Project Generation</h2>\n",
    "<div> \n",
    "    <ul style='font-size:20px'> \n",
    "        <li>\n",
    "            Toda a arquitetura de desenvolvimento apresentada será baseada num projeto NodeJS. Você deverá tê-lo instalado para iniciar o trabalho.\n",
    "        </li>\n",
    "    </ul>\n",
    " </div>"
   ]
  },
  {
   "cell_type": "markdown",
   "id": "c60a8eba-c90b-45a7-817b-fc30fc85f59c",
   "metadata": {},
   "source": [
    "<h2 style='font-size:30px'> Necessary Commands</h2>\n",
    "<div> \n",
    "    <ul style='font-size:20px'> \n",
    "        <li>\n",
    "            Somos apresentados aos principais comandos npm que devem ser executados por nós, ao longo do projeto.\n",
    "            <ul> \n",
    "                <li>\n",
    "                    <i> npm run start:</i> inicializa um servidor de desenvolvimento.\n",
    "                </li>\n",
    "                <li>\n",
    "                    <i> npm run test:</i> acionamento de testes do projeto.\n",
    "                </li>\n",
    "                <li>\n",
    "                    <i> npm run build:</i> cria uma versão para produção da aplicação.\n",
    "                </li>\n",
    "            </ul>\n",
    "        </li>\n",
    "    </ul>\n",
    " </div>"
   ]
  },
  {
   "cell_type": "markdown",
   "id": "ceffbd36-a4af-40ff-80fc-4aae0c350000",
   "metadata": {},
   "source": [
    "<h2 style='font-size:30px'> Creating the Dev Dockerfile</h2>\n",
    "<div> \n",
    "    <ul style='font-size:20px'> \n",
    "        <li>\n",
    "            Vamos desenvolver um arquivo Dockerfile.dev, que conterá o código do container em DEV. Basicamente, sua principal diferença com o de PROD é o acionamento de `npm run start`.\n",
    "        </li>\n",
    "        <li>\n",
    "            Como não se trata de um Dockerfile pleno, o build padrão falhará. Para que o Docker construa nossa imagem com o arquivo provisório, deveremos fazer o build com `docker build -f Dockerfile.dev .`  \n",
    "        </li>\n",
    "    </ul>\n",
    " </div>"
   ]
  },
  {
   "cell_type": "markdown",
   "id": "1f578acb-4206-4507-95d0-6757dec785db",
   "metadata": {},
   "source": [
    "<h2 style='font-size:30px'> Duplicating Dependencies</h2>\n",
    "<div> \n",
    "    <ul style='font-size:20px'> \n",
    "        <li>\n",
    "            Antes de construir sua imagem, certifique-se de que o Docker não copiará qualquer diretório que já contenha as dependências do seu projeto, como .venv ou node_modules. \n",
    "        </li>\n",
    "    </ul>\n",
    " </div>"
   ]
  },
  {
   "cell_type": "markdown",
   "id": "fada48ba-4c7d-452d-a44b-a5dc1d6f80ac",
   "metadata": {},
   "source": [
    "<h2 style='font-size:30px'> Docker Volumes</h2>\n",
    "<div> \n",
    "    <ul style='font-size:20px'> \n",
    "        <li>\n",
    "            Como ainda estamos em fase de desenvolvimento, é possível que desejemos editar o código-fonte da nossa aplicação e verificar como ela se reflete.\n",
    "        </li>\n",
    "        <li>\n",
    "            Uma solução para isso seria fazermos um `docker exec -it &lt;container_id&gt; sh` e modificarmos os arquivos. No entanto, ainda teríamos que reiniciar o container para enxergarmos as alterações.\n",
    "        </li>\n",
    "        <li>\n",
    "            Para evitar essa situação, podemos utilizar os chamados Docker Volumes. Eles, basicamente, criam uma referência a certos diretórios de nossa máquina local. Com isso, poderemos editar livremente nossos arquivos em nosso repo e visualizar as alterações na aplicação.\n",
    "            <center style='margin-top:20px'>\n",
    "                <img src='img/06_docker_volume.png'>\n",
    "            </center>\n",
    "        </li>\n",
    "    </ul>\n",
    " </div>"
   ]
  },
  {
   "cell_type": "markdown",
   "id": "14e40269-5079-4bd2-bb80-dbf45bfb6387",
   "metadata": {},
   "source": [
    "<h2 style='font-size:30px'> Bookmarking Volumes</h2>\n",
    "<div> \n",
    "    <ul style='font-size:20px'> \n",
    "        <li>\n",
    "            A criação dessas referências ocorre por meio da flag `-v`. Nela, especificamos o diretório local para onde o Docker apontará, assim como a pasta do container que assumirá o papel de proxy.\n",
    "        </li>\n",
    "    </ul>\n",
    " </div>"
   ]
  },
  {
   "cell_type": "code",
   "execution_count": null,
   "id": "7fba7ece-3a85-4e84-8748-308e1c869873",
   "metadata": {},
   "outputs": [
    {
     "name": "stdout",
     "output_type": "stream",
     "text": [
      "[master a694a07] Aula 70\n",
      " 3 files changed, 48 insertions(+), 40 deletions(-)\n",
      " create mode 100644 projects/frontend/.Dockerfile.dev.swp\n"
     ]
    }
   ],
   "source": [
    "! git add .\n",
    "! git commit -am 'Aula 70'\n",
    "! git push"
   ]
  },
  {
   "cell_type": "markdown",
   "id": "e59a2ff2-0939-4b04-baa4-6c09dd62814e",
   "metadata": {
    "editable": true,
    "slideshow": {
     "slide_type": ""
    },
    "tags": []
   },
   "source": [
    "<p style='color:red'> VI Aulas 68, 69; Iniciei Aula 70; Explicar o uso de `-v` no `docker run`; Aula 70</p>"
   ]
  }
 ],
 "metadata": {
  "kernelspec": {
   "display_name": "Python 3 (ipykernel)",
   "language": "python",
   "name": "python3"
  },
  "language_info": {
   "codemirror_mode": {
    "name": "ipython",
    "version": 3
   },
   "file_extension": ".py",
   "mimetype": "text/x-python",
   "name": "python",
   "nbconvert_exporter": "python",
   "pygments_lexer": "ipython3",
   "version": "3.10.12"
  }
 },
 "nbformat": 4,
 "nbformat_minor": 5
}
