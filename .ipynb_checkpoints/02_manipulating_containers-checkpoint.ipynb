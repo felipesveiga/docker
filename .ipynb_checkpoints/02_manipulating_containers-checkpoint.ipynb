{
 "cells": [
  {
   "cell_type": "markdown",
   "id": "76b4c2a3-3071-4289-b407-b28ddaf53e4b",
   "metadata": {},
   "source": [
    "<h1 style='font-size:40px'> \n",
    "Manipulating Containers with the Docker Client</h1>"
   ]
  },
  {
   "cell_type": "markdown",
   "id": "b266c818-9565-47e6-92bd-b4424323e51b",
   "metadata": {},
   "source": [
    "<h2 style='font-size:30px'>Overriding Default Commands</h2>\n",
    "<div> \n",
    "    <ul style='font-size:20px'> \n",
    "        <li>\n",
    "            O comando `run`, por padrão, executará um arquivo contido no sistema de arquivos da imagem - como se fosse o __main__.py de um módulo em Python. \n",
    "        </li>\n",
    "        <li>\n",
    "            Nós podemos sobrescrever esse acionamento adicionando um comando logo ao final do `run`. No entanto, note que esse comando deverá existir no sistema de arquivos da imagem - não adianta invocar `python`, se Python não está instalado, por exemplo...\n",
    "        </li>\n",
    "    </ul>\n",
    " </div>"
   ]
  },
  {
   "cell_type": "markdown",
   "id": "ede38d5c-00ff-4c74-a4c1-6a519383a865",
   "metadata": {},
   "source": [
    "<h2 style='font-size:30px'>  Listing Running Containers</h2>\n",
    "<div> \n",
    "    <ul style='font-size:20px'> \n",
    "        <li>\n",
    "            O comando `docker ps` menciona todos os containers em execução na sua máquina. Ele deve retornar uma tabela com os principais dados do processo.\n",
    "            <center style='margin-top:20px'> \n",
    "                <img src='img/02_docker_ps.png'>\n",
    "            </center>\n",
    "        </li>\n",
    "        <li style='margin-top:20px'>\n",
    "            Adicione a flag `--all` para obter uma relação de todos os containers já criados.\n",
    "            <center style='margin-top:20px'> \n",
    "                <img src='img/02_docker_ps_a.png'>\n",
    "            </center>\n",
    "        </li>\n",
    "    </ul>\n",
    " </div>"
   ]
  },
  {
   "cell_type": "markdown",
   "id": "97e9f2ab-fcc0-48c5-bb05-edb421fb4dc3",
   "metadata": {},
   "source": [
    "<h2 style='font-size:30px'> Container Lifecycle</h2>\n",
    "<div> \n",
    "    <ul style='font-size:20px'> \n",
    "        <li>\n",
    "            O comando `run`, por si só, cria um container e o aciona. \n",
    "        </li>\n",
    "        <li>\n",
    "            Você pode executar essas ações em paralelo com os comandos `create` e `start`.\n",
    "        </li>\n",
    "        <li>\n",
    "            `create` retornará o ID do container criado, enquanto `start` o executará.\n",
    "        </li>\n",
    "    </ul>\n",
    " </div>\n",
    " <center style='margin-top:20px'> \n",
    "                <figure>\n",
    "                    <img src='img/02_docker_start.png'>\n",
    "                    <figcaption> Você deverá acrescentar a flag `-a` em  `start`, caso queira enxergar os outputs da execução</figcaption>\n",
    "                </figure>\n",
    "            </center>"
   ]
  },
  {
   "cell_type": "code",
   "execution_count": 1,
   "id": "31d936a8-0827-4895-bd4b-0029e42d8dcd",
   "metadata": {},
   "outputs": [
    {
     "name": "stdout",
     "output_type": "stream",
     "text": [
      "[master b194438] Aula 11\n",
      " 2 files changed, 62 insertions(+), 30 deletions(-)\n",
      "Enumerating objects: 7, done.\n",
      "Counting objects: 100% (7/7), done.\n",
      "Delta compression using up to 24 threads\n",
      "Compressing objects: 100% (4/4), done.\n",
      "Writing objects: 100% (4/4), 1008 bytes | 1008.00 KiB/s, done.\n",
      "Total 4 (delta 1), reused 0 (delta 0), pack-reused 0\n",
      "remote: Resolving deltas: 100% (1/1), completed with 1 local object.\u001b[K\n",
      "To https://github.com/felipesveiga/docker.git\n",
      "   b8c3678..b194438  master -> master\n"
     ]
    }
   ],
   "source": [
    "! git add .\n",
    "! git commit -am 'Aula 15'\n",
    "! git push"
   ]
  },
  {
   "cell_type": "markdown",
   "id": "2dcd397d-eb91-4aa0-b56d-54f5858d51ad",
   "metadata": {
    "editable": true,
    "slideshow": {
     "slide_type": ""
    },
    "tags": []
   },
   "source": [
    "<p style='color:red'> Vi Aula 13 e 14; Aula 15</p>"
   ]
  }
 ],
 "metadata": {
  "kernelspec": {
   "display_name": "Python 3 (ipykernel)",
   "language": "python",
   "name": "python3"
  },
  "language_info": {
   "codemirror_mode": {
    "name": "ipython",
    "version": 3
   },
   "file_extension": ".py",
   "mimetype": "text/x-python",
   "name": "python",
   "nbconvert_exporter": "python",
   "pygments_lexer": "ipython3",
   "version": "3.10.12"
  }
 },
 "nbformat": 4,
 "nbformat_minor": 5
}
