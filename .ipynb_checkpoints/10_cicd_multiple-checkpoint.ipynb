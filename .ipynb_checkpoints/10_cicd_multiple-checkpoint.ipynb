{
 "cells": [
  {
   "cell_type": "markdown",
   "id": "1518c6ee-d6f8-4ec9-ab8a-d39ae8837da2",
   "metadata": {},
   "source": [
    "<h1 style='font-size:40px'> A Continuous Integration Workflow for Multiple Images</h1>"
   ]
  },
  {
   "cell_type": "markdown",
   "id": "4f28fd7b-80a4-4bf6-8d59-4990ed6466dc",
   "metadata": {},
   "source": [
    "<h2 style='font-size:30px'> Production Multi-Container Deployments</h2>\n",
    "<div> \n",
    "    <ul style='font-size:20px'> \n",
    "        <li>\n",
    "            Nesta seção, criaremos o fluxo de deployment de nossa aplicação para o ambiente de produção. Uma vez feito o push, o Travis criará uma imagem de testes para realizar experimentos no código.\n",
    "        </li>\n",
    "        <li>\n",
    "            Caso os testes passem, o Travis construirá uma imagem de produção e a encaminhará ao Docker Hub. O código da aplicação será levado ao AWS EB, o qual fará o download da imagem do Docker Hub.\n",
    "        </li>\n",
    "    </ul>\n",
    " </div>"
   ]
  },
  {
   "cell_type": "code",
   "execution_count": 1,
   "id": "dd990a3c-93ff-4f02-a40c-582d280a779a",
   "metadata": {
    "scrolled": true
   },
   "outputs": [
    {
     "name": "stdout",
     "output_type": "stream",
     "text": [
      "[master c91511d] ; Iniciar seção 10\n",
      " 6 files changed, 74 insertions(+), 99 deletions(-)\n",
      " create mode 100644 .ipynb_checkpoints/10_cicd_multiple-checkpoint.ipynb\n",
      " create mode 100644 10_cicd_multiple.ipynb\n",
      "Enumerating objects: 20, done.\n",
      "Counting objects: 100% (20/20), done.\n",
      "Delta compression using up to 24 threads\n",
      "Compressing objects: 100% (11/11), done.\n",
      "Writing objects: 100% (11/11), 1.13 KiB | 1.13 MiB/s, done.\n",
      "Total 11 (delta 9), reused 0 (delta 0), pack-reused 0\n",
      "remote: Resolving deltas: 100% (9/9), completed with 8 local objects.\u001b[K\n",
      "To https://github.com/felipesveiga/docker.git\n",
      "   615cd8f..c91511d  master -> master\n"
     ]
    }
   ],
   "source": [
    "! git add .\n",
    "! git commit -am 'Aula 138'\n",
    "! git push"
   ]
  },
  {
   "cell_type": "markdown",
   "id": "f1bf4c6e-66c8-48b0-9292-0c023caf1f7e",
   "metadata": {
    "editable": true,
    "slideshow": {
     "slide_type": ""
    },
    "tags": []
   },
   "source": [
    "<p style='color:red'> Vi Aula 137; Aula 138</p>"
   ]
  }
 ],
 "metadata": {
  "kernelspec": {
   "display_name": "Python 3 (ipykernel)",
   "language": "python",
   "name": "python3"
  },
  "language_info": {
   "codemirror_mode": {
    "name": "ipython",
    "version": 3
   },
   "file_extension": ".py",
   "mimetype": "text/x-python",
   "name": "python",
   "nbconvert_exporter": "python",
   "pygments_lexer": "ipython3",
   "version": "3.10.12"
  }
 },
 "nbformat": 4,
 "nbformat_minor": 5
}
