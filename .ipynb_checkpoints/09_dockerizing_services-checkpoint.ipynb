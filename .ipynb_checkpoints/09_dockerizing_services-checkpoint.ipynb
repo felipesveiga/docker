{
 "cells": [
  {
   "cell_type": "markdown",
   "id": "72998a83-129e-44a0-8d9e-480058434d98",
   "metadata": {},
   "source": [
    "<h1 style='font-size:40px'> Dockerizing Multiple Services</h1>"
   ]
  },
  {
   "cell_type": "markdown",
   "id": "dc216b10-120c-4672-844a-f72a2afb78e6",
   "metadata": {},
   "source": [
    "<h2 style='font-size:30px'> Environment Variables with Docker Compose</h2>\n",
    "<div> \n",
    "    <ul style='font-size:20px'> \n",
    "        <li>\n",
    "            O container de nosso servidor web depende do uso de algumas variáveis de ambiente. Deveremos defini-las no arquivo <i> docker-compose.yml</i>, para que elas existam em runtime.\n",
    "        </li>\n",
    "        <li>\n",
    "            Podemos defini-las de duas maneiras: &lt;variable_name=value&gt;, ou apenas informando &lt; variable_name&gt;. Neste último caso, o Docker tentará resgatar a variável do sistema de sua máquina.\n",
    "        </li>\n",
    "    </ul>\n",
    " </div>"
   ]
  },
  {
   "cell_type": "markdown",
   "id": "dc70d18c-5bbe-429b-8af2-bf800c4191cd",
   "metadata": {},
   "source": [
    "<h2 style='font-size:30px'> Nginx Path Routing</h2>\n",
    "<div> \n",
    "    <ul style='font-size:20px'> \n",
    "        <li>\n",
    "            O próximo passo do nosso projeto será criar um servidor Ngnix para direcionamento de requisições. A regra será, basicamente, encaminhar pedidos a caminhos com \"api\" ao nosso servidor espresso, enquanto os demais ao servidor React.\n",
    "        </li>\n",
    "    </ul>\n",
    " </div>"
   ]
  },
  {
   "cell_type": "markdown",
   "id": "8fb08773-8129-4f4c-b975-96f75083fc63",
   "metadata": {},
   "source": [
    " <center style='margin-top:20px'> \n",
    "        <figure>\n",
    "            <img src='img/09_nginx_routing.png'>\n",
    "            <figcaption> Arquitetura da Solução Nginx.</figcaption>\n",
    "        </figure>\n",
    "    </center>"
   ]
  },
  {
   "cell_type": "code",
   "execution_count": 7,
   "id": "dd990a3c-93ff-4f02-a40c-582d280a779a",
   "metadata": {
    "scrolled": true
   },
   "outputs": [
    {
     "name": "stdout",
     "output_type": "stream",
     "text": [
      "[master 8f02ede] Aula 130\n",
      " 5 files changed, 86 insertions(+), 32 deletions(-)\n",
      " create mode 100644 img/09_nginx_routing.png\n",
      "Enumerating objects: 11, done.\n",
      "Counting objects: 100% (11/11), done.\n",
      "Delta compression using up to 24 threads\n",
      "Compressing objects: 100% (7/7), done.\n",
      "Writing objects: 100% (7/7), 55.20 KiB | 55.20 MiB/s, done.\n",
      "Total 7 (delta 4), reused 0 (delta 0), pack-reused 0\n",
      "remote: Resolving deltas: 100% (4/4), completed with 4 local objects.\u001b[K\n",
      "To https://github.com/felipesveiga/docker.git\n",
      "   72a69ea..8f02ede  master -> master\n"
     ]
    }
   ],
   "source": [
    "! git add .\n",
    "! git commit -am 'Aula 132'\n",
    "! git push"
   ]
  },
  {
   "cell_type": "markdown",
   "id": "869c37b7-d411-41b5-b845-46ee261cf410",
   "metadata": {
    "editable": true,
    "slideshow": {
     "slide_type": ""
    },
    "tags": []
   },
   "source": [
    "<p style='color:red'> Vi Aula 130 e 131; Aula 132</p>"
   ]
  }
 ],
 "metadata": {
  "kernelspec": {
   "display_name": "Python 3 (ipykernel)",
   "language": "python",
   "name": "python3"
  },
  "language_info": {
   "codemirror_mode": {
    "name": "ipython",
    "version": 3
   },
   "file_extension": ".py",
   "mimetype": "text/x-python",
   "name": "python",
   "nbconvert_exporter": "python",
   "pygments_lexer": "ipython3",
   "version": "3.10.12"
  }
 },
 "nbformat": 4,
 "nbformat_minor": 5
}
