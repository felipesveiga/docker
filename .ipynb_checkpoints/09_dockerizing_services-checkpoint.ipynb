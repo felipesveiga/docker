{
 "cells": [
  {
   "cell_type": "markdown",
   "id": "72998a83-129e-44a0-8d9e-480058434d98",
   "metadata": {},
   "source": [
    "<h1 style='font-size:40px'> Dockerizing Multiple Services</h1>"
   ]
  },
  {
   "cell_type": "markdown",
   "id": "dc216b10-120c-4672-844a-f72a2afb78e6",
   "metadata": {},
   "source": [
    "<h2 style='font-size:30px'> Dockerizing a React App - Again!</h2>\n",
    "<div> \n",
    "    <ul style='font-size:20px'> \n",
    "        <li>\n",
    "        </li>\n",
    "    </ul>\n",
    " </div>"
   ]
  },
  {
   "cell_type": "code",
   "execution_count": 1,
   "id": "dd990a3c-93ff-4f02-a40c-582d280a779a",
   "metadata": {
    "collapsed": true,
    "jupyter": {
     "outputs_hidden": true
    },
    "scrolled": true
   },
   "outputs": [
    {
     "name": "stdout",
     "output_type": "stream",
     "text": [
      "[master 31f3303] Pôr conteúdo Aula 120 num .md\n",
      " 30 files changed, 30224 insertions(+), 40 deletions(-)\n",
      " create mode 100644 .ipynb_checkpoints/09_dockerizing_services-checkpoint.ipynb\n",
      " create mode 100644 09_dockerizing_services.ipynb\n",
      " create mode 100644 img/08_fibonacci.png\n",
      " create mode 100644 projects/complex/client/.gitignore\n",
      " create mode 100644 projects/complex/client/README.md\n",
      " create mode 100644 projects/complex/client/package-lock.json\n",
      " create mode 100644 projects/complex/client/package.json\n",
      " create mode 100644 projects/complex/client/public/favicon.ico\n",
      " create mode 100644 projects/complex/client/public/index.html\n",
      " create mode 100644 projects/complex/client/public/logo192.png\n",
      " create mode 100644 projects/complex/client/public/logo512.png\n",
      " create mode 100644 projects/complex/client/public/manifest.json\n",
      " create mode 100644 projects/complex/client/public/robots.txt\n",
      " create mode 100644 projects/complex/client/src/App.css\n",
      " create mode 100644 projects/complex/client/src/App.js\n",
      " create mode 100644 projects/complex/client/src/App.test.js\n",
      " create mode 100644 projects/complex/client/src/Fib.js\n",
      " create mode 100644 projects/complex/client/src/OtherPage.js\n",
      " create mode 100644 projects/complex/client/src/index.css\n",
      " create mode 100644 projects/complex/client/src/index.js\n",
      " create mode 100644 projects/complex/client/src/logo.svg\n",
      " create mode 100644 projects/complex/client/src/reportWebVitals.js\n",
      " create mode 100644 projects/complex/client/src/setupTests.js\n",
      " create mode 100644 projects/complex/server/index.js\n",
      " create mode 100644 projects/complex/server/keys.js\n",
      " create mode 100644 projects/complex/server/package.json\n",
      " create mode 100644 projects/complex/worker/index.js\n",
      " create mode 100644 projects/complex/worker/keys.js\n",
      " create mode 100644 projects/complex/worker/package.json\n",
      "Enumerating objects: 45, done.\n",
      "Counting objects: 100% (45/45), done.\n",
      "Delta compression using up to 24 threads\n",
      "Compressing objects: 100% (40/40), done.\n",
      "Writing objects: 100% (40/40), 364.79 KiB | 17.37 MiB/s, done.\n",
      "Total 40 (delta 6), reused 14 (delta 0), pack-reused 0\n",
      "remote: Resolving deltas: 100% (6/6), completed with 5 local objects.\u001b[K\n",
      "To https://github.com/felipesveiga/docker.git\n",
      "   4b64ffa..31f3303  master -> master\n"
     ]
    }
   ],
   "source": [
    "! git add .\n",
    "! git commit -am 'Aula 122 (2:10)'\n",
    "! git push"
   ]
  },
  {
   "cell_type": "markdown",
   "id": "869c37b7-d411-41b5-b845-46ee261cf410",
   "metadata": {
    "editable": true,
    "slideshow": {
     "slide_type": ""
    },
    "tags": []
   },
   "source": [
    "<p style='color:red'> Vi Aula 121; Iniciei 122; Aula 122 (2:10)</p>"
   ]
  }
 ],
 "metadata": {
  "kernelspec": {
   "display_name": "Python 3 (ipykernel)",
   "language": "python",
   "name": "python3"
  },
  "language_info": {
   "codemirror_mode": {
    "name": "ipython",
    "version": 3
   },
   "file_extension": ".py",
   "mimetype": "text/x-python",
   "name": "python",
   "nbconvert_exporter": "python",
   "pygments_lexer": "ipython3",
   "version": "3.10.12"
  }
 },
 "nbformat": 4,
 "nbformat_minor": 5
}
