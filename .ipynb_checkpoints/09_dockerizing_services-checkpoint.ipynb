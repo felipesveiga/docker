{
 "cells": [
  {
   "cell_type": "markdown",
   "id": "72998a83-129e-44a0-8d9e-480058434d98",
   "metadata": {},
   "source": [
    "<h1 style='font-size:40px'> Dockerizing Multiple Services</h1>"
   ]
  },
  {
   "cell_type": "markdown",
   "id": "dc216b10-120c-4672-844a-f72a2afb78e6",
   "metadata": {},
   "source": [
    "<h2 style='font-size:30px'> Environment Variables with Docker Compose</h2>\n",
    "<div> \n",
    "    <ul style='font-size:20px'> \n",
    "        <li>\n",
    "            O container de nosso servidor web depende do uso de algumas variáveis de ambiente. Deveremos defini-las no arquivo <i> docker-compose.yml</i>, para que elas existam em runtime.\n",
    "        </li>\n",
    "        <li>\n",
    "            Podemos defini-las de duas maneiras: &lt;variable_name=value&gt;, ou apenas informando &lt; variable_name&gt;. Neste último caso, o Docker tentará resgatar a variável do sistema de sua máquina.\n",
    "        </li>\n",
    "    </ul>\n",
    " </div>"
   ]
  },
  {
   "cell_type": "code",
   "execution_count": 3,
   "id": "dd990a3c-93ff-4f02-a40c-582d280a779a",
   "metadata": {
    "scrolled": true
   },
   "outputs": [
    {
     "name": "stdout",
     "output_type": "stream",
     "text": [
      "[master 3985d9e] Aula 125 (1:40)\n",
      " 5 files changed, 210 insertions(+), 252 deletions(-)\n",
      " rewrite .ipynb_checkpoints/09_dockerizing_services-checkpoint.ipynb (62%)\n",
      " rewrite 09_dockerizing_services.ipynb (62%)\n",
      " create mode 100644 projects/complex/docker-compose.yml\n",
      " delete mode 100644 projects/complex/server/.Dockerfile.dev.swp\n",
      " create mode 100644 projects/complex/worker/Dockerfile.dev\n",
      "Enumerating objects: 16, done.\n",
      "Counting objects: 100% (16/16), done.\n",
      "Delta compression using up to 24 threads\n",
      "Compressing objects: 100% (9/9), done.\n",
      "Writing objects: 100% (9/9), 1.23 KiB | 1.23 MiB/s, done.\n",
      "Total 9 (delta 5), reused 0 (delta 0), pack-reused 0\n",
      "remote: Resolving deltas: 100% (5/5), completed with 5 local objects.\u001b[K\n",
      "To https://github.com/felipesveiga/docker.git\n",
      "   0e5c63e..3985d9e  master -> master\n"
     ]
    }
   ],
   "source": [
    "! git add .\n",
    "! git commit -am 'Aula 129'\n",
    "! git push"
   ]
  },
  {
   "cell_type": "markdown",
   "id": "869c37b7-d411-41b5-b845-46ee261cf410",
   "metadata": {
    "editable": true,
    "slideshow": {
     "slide_type": ""
    },
    "tags": []
   },
   "source": [
    "<p style='color:red'> Vi Aula 125 a 128; Aula 129</p>"
   ]
  }
 ],
 "metadata": {
  "kernelspec": {
   "display_name": "Python 3 (ipykernel)",
   "language": "python",
   "name": "python3"
  },
  "language_info": {
   "codemirror_mode": {
    "name": "ipython",
    "version": 3
   },
   "file_extension": ".py",
   "mimetype": "text/x-python",
   "name": "python",
   "nbconvert_exporter": "python",
   "pygments_lexer": "ipython3",
   "version": "3.10.12"
  }
 },
 "nbformat": 4,
 "nbformat_minor": 5
}
