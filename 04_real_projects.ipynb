{
 "cells": [
  {
   "cell_type": "markdown",
   "id": "3032e1dc-f8f1-4017-b4ed-30cdbf00e072",
   "metadata": {},
   "source": [
    "<h1 style='font-size:40px'> \n",
    "Making Real Projects with Docker</h1>"
   ]
  },
  {
   "cell_type": "markdown",
   "id": "4e1d8cf5-ff2a-47d1-beb5-fdfd1ff3c599",
   "metadata": {},
   "source": [
    "<h2 style='font-size:30px'> Project Outline</h2>\n",
    "<div> \n",
    "    <ul style='font-size:20px'> \n",
    "        <li>\n",
    "            Nós montaremos nesta seção uma imagem voltada à hospedagem de um servidor web Node JS.\n",
    "        </li>\n",
    "        <li>\n",
    "            Observe que, na criação de nosso Dockerfile, escreveremos alguns erros de propósito a fim de aprendermos boas práticas na construção de imagens.\n",
    "        </li>\n",
    "    </ul>\n",
    " </div>"
   ]
  },
  {
   "cell_type": "markdown",
   "id": "0131cfce-8a97-497d-9d97-f9711f90bc92",
   "metadata": {},
   "source": [
    "<h2 style='font-size:30px'> Node Server Setup</h2>\n",
    "<div> \n",
    "    <ul style='font-size:20px'> \n",
    "        <li>\n",
    "            Escrevemos as configurações de nosso servidor Node JS.\n",
    "        </li>\n",
    "    </ul>\n",
    " </div>"
   ]
  },
  {
   "cell_type": "markdown",
   "id": "f8b67943-f8ee-4a56-9a7a-6bb767c9b769",
   "metadata": {},
   "source": [
    "<h2 style='font-size:30px'> Base Image Issues</h2>\n",
    "<div> \n",
    "    <ul style='font-size:20px'> \n",
    "        <li>\n",
    "            Para garantir o sucesso do build da imagem, devemos garantir que ela tenha os programas necessários para o seu funcionamento.\n",
    "        </li>\n",
    "        <li>\n",
    "            O Docker Hub= é composto por repositórios de imagens. Quando executamos `docker run &lt;image_name&gt;`, estamos na verdade instalando a imagem padrão do repositório &lt;image_name&gt;.\n",
    "        </li>\n",
    "        <li>\n",
    "            Caso deseje uma imagem específica do repositório, você pode passar como argumento &lt;image_name:version_name&gt;\n",
    "        </li>\n",
    "    </ul>\n",
    " </div>"
   ]
  },
  {
   "cell_type": "markdown",
   "id": "cd6be77d-a671-42b3-a751-d5d108893335",
   "metadata": {},
   "source": [
    "<h2 style='font-size:30px'> Base Image Issues</h2>\n",
    "<div> \n",
    "    <ul style='font-size:20px'> \n",
    "        <li>\n",
    "            Para garantir o sucesso do build da imagem, devemos garantir que ela tenha os programas necessários para o seu funcionamento.\n",
    "        </li>\n",
    "        <li>\n",
    "            O Docker Hub= é composto por repositórios de imagens. Quando executamos `docker run &lt;image_name&gt;`, estamos na verdade instalando a imagem padrão do repositório &lt;image_name&gt;.\n",
    "        </li>\n",
    "        <li>\n",
    "            Caso deseje uma imagem específica do repositório, você pode passar como argumento &lt;image_name:version_name&gt;\n",
    "        </li>\n",
    "    </ul>\n",
    " </div>"
   ]
  },
  {
   "cell_type": "markdown",
   "id": "88050f9a-eba4-45ee-807a-dc83f51aa878",
   "metadata": {},
   "source": [
    "<h2 style='font-size:30px'> Copying Build Files</h2>\n",
    "<div> \n",
    "    <ul style='font-size:20px'> \n",
    "        <li>\n",
    "            Como uma VM, nossos containers não têm acesso aos arquivos de nosso projeto para executá-los, por padrão.\n",
    "        </li>\n",
    "        <li>\n",
    "            Caso o build de sua imagem necessite do uso de algum arquivo local, copie-o utilizando o comando COPY. Ele receberá o caminho de seu arquivo (em relação ao Dockerfile) e o path de destino, dentro de sua VM.\n",
    "        </li>\n",
    "    </ul>\n",
    "    <center style='margin-top:20px'> \n",
    "        <figure>\n",
    "            <img src='img/04_copy.png'>\n",
    "            <figcaption> Copiando todos os arquivos de nosso dirertório atual para o diretório padrão da imagem-base.</figcaption>\n",
    "        </figure>\n",
    "    </center>\n",
    " </div>"
   ]
  },
  {
   "cell_type": "code",
   "execution_count": 2,
   "id": "210f1a79-d8fc-4f9a-8694-be413c19cea6",
   "metadata": {},
   "outputs": [
    {
     "name": "stdout",
     "output_type": "stream",
     "text": [
      "[master 8041942] terminar anotações da aula 48, explicando como baixamos a imagem node\n",
      " 9 files changed, 155 insertions(+), 20 deletions(-)\n",
      " create mode 100644 buildkit_reminder.md\n",
      " create mode 100644 projects/simpleweb/.Dockerfile.swp\n",
      " create mode 100644 projects/simpleweb/Dockerfile\n",
      " create mode 100644 projects/simpleweb/index.js\n",
      " create mode 100644 projects/simpleweb/package.json\n",
      "Enumerating objects: 18, done.\n",
      "Counting objects: 100% (18/18), done.\n",
      "Delta compression using up to 24 threads\n",
      "Compressing objects: 100% (13/13), done.\n",
      "Writing objects: 100% (13/13), 3.43 KiB | 3.43 MiB/s, done.\n",
      "Total 13 (delta 4), reused 0 (delta 0), pack-reused 0\n",
      "remote: Resolving deltas: 100% (4/4), completed with 3 local objects.\u001b[K\n",
      "To https://github.com/felipesveiga/docker.git\n",
      "   a458528..8041942  master -> master\n"
     ]
    }
   ],
   "source": [
    "! git add .\n",
    "! git commit -am 'Aula 44'\n",
    "! git push"
   ]
  },
  {
   "cell_type": "markdown",
   "id": "a0add06f-2b21-4e40-aac6-d1f2696dec13",
   "metadata": {
    "editable": true,
    "slideshow": {
     "slide_type": ""
    },
    "tags": []
   },
   "source": [
    "<p style='color:red'> Vi Aulas 41 a 43; Aula 44</p>"
   ]
  }
 ],
 "metadata": {
  "kernelspec": {
   "display_name": "Python 3 (ipykernel)",
   "language": "python",
   "name": "python3"
  },
  "language_info": {
   "codemirror_mode": {
    "name": "ipython",
    "version": 3
   },
   "file_extension": ".py",
   "mimetype": "text/x-python",
   "name": "python",
   "nbconvert_exporter": "python",
   "pygments_lexer": "ipython3",
   "version": "3.10.12"
  }
 },
 "nbformat": 4,
 "nbformat_minor": 5
}
