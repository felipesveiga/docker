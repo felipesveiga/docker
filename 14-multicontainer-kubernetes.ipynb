{
 "cells": [
  {
   "cell_type": "markdown",
   "id": "2073cb28-b29d-4337-b977-edaf60c46340",
   "metadata": {},
   "source": [
    "<h1 style='font-size:40px'> A Multi-Container App with Kubernetes</h1>"
   ]
  },
  {
   "cell_type": "markdown",
   "id": "c0a40281-f398-48d0-92f3-a9336c137b60",
   "metadata": {},
   "source": [
    "<h2 style='font-size:30px'> \n",
    "    The Path to Production\n",
    "</h2>\n",
    "<div> \n",
    "    <ul style='font-size:20px'> \n",
    "        <li>\n",
    "            Esse capítulo do curso será dedicado à implantação do projeto desenvolvido na seção 8 para um cluster Kubernetes.\n",
    "        </li>\n",
    "    </ul>\n",
    " </div>"
   ]
  },
  {
   "attachments": {},
   "cell_type": "markdown",
   "id": "4af2d2bd-b0ff-4a32-a9a4-0666a975ac1c",
   "metadata": {},
   "source": [
    "<figure>\n",
    "        <center style='margin-top:20px'>\n",
    "            <img src='img/14_project_diagram.png'>\n",
    "                <figcaption>  Diagrama do projeto.</figcaption>\n",
    "        </center>\n",
    "    </figure>"
   ]
  },
  {
   "cell_type": "markdown",
   "id": "4ecaa578-0c2a-48a4-9795-69e8a58885cc",
   "metadata": {},
   "source": [
    "<h2 style='font-size:30px'> \n",
    "    Recreating the Deployment\n",
    "</h2>\n",
    "<div> \n",
    "    <ul style='font-size:20px'> \n",
    "        <li>\n",
    "            Aula em que configuramos o .yaml do Deployment dos Pods com as imagens \"multi-client\".\n",
    "        </li>\n",
    "    </ul>\n",
    " </div>"
   ]
  },
  {
   "cell_type": "markdown",
   "id": "4e6aa442-dd20-49b1-a0d7-b8923eac64bb",
   "metadata": {},
   "source": [
    "<h2 style='font-size:30px'> \n",
    "    The ClusterIP Config\n",
    "</h2>\n",
    "<div> \n",
    "    <ul style='font-size:20px'> \n",
    "        <li>\n",
    "            Configuração do .yaml do Cluster IP do Deployment Client.\n",
    "        </li>\n",
    "        <li>\n",
    "            Por questão de organização, os arquivos de cada Deployment e seus respectivos CluaterIP's ficarão em pastas distintas. \n",
    "        </li>\n",
    "    </ul>\n",
    " </div>"
   ]
  },
  {
   "cell_type": "markdown",
   "id": "40feb141-0d3b-47ca-9931-e1a45b1920c2",
   "metadata": {},
   "source": [
    "<h2 style='font-size:30px'> \n",
    "    Applying Multiple Files with Kubectl\n",
    "</h2>\n",
    "<div> \n",
    "    <ul style='font-size:20px'> \n",
    "        <li>\n",
    "            Aplicação dos arquivos relacionados ao Deployment da imagem \"multi-client\".\n",
    "        </li>\n",
    "        <li>\n",
    "            <i> Dica:</i> O comando `kubectl apply -f` admite passarmos o nome do diretório com os arquivos de configuração.\n",
    "        </li>\n",
    "    </ul>\n",
    " </div>"
   ]
  },
  {
   "cell_type": "code",
   "execution_count": 2,
   "id": "1e52e364-081d-43bc-8789-9a529eea9bda",
   "metadata": {},
   "outputs": [],
   "source": [
    "# Exemplo de apply baseado num diretório.\n",
    "! kubectl apply -f k8s/client/"
   ]
  },
  {
   "cell_type": "markdown",
   "id": "3aa6461b-8951-4dbe-80f2-cbbd51beb15b",
   "metadata": {},
   "source": [
    "<h2 style='font-size:30px'> \n",
    "    Express API Deployment Config\n",
    "</h2>\n",
    "<div> \n",
    "    <ul style='font-size:20px'> \n",
    "        <li>\n",
    "            Escrita do arquivo de configuração do Deployment do server.\n",
    "        </li>\n",
    "    </ul>\n",
    " </div>"
   ]
  },
  {
   "cell_type": "markdown",
   "id": "1ea81798-1ca8-486b-9965-9ce5795b880e",
   "metadata": {},
   "source": [
    "<h2 style='font-size:30px'> \n",
    "    ClusterIP for the Express API\n",
    "</h2>\n",
    "<div> \n",
    "    <ul style='font-size:20px'> \n",
    "        <li>\n",
    "            Escrita do arquivo de configuração do ClusterIP do server.\n",
    "        </li>\n",
    "    </ul>\n",
    " </div>"
   ]
  },
  {
   "cell_type": "markdown",
   "id": "e0aeda29-81a3-447b-8c0b-14788f6f07ff",
   "metadata": {},
   "source": [
    "<h2 style='font-size:30px'> \n",
    "    The Worker Deployment\n",
    "</h2>\n",
    "<div> \n",
    "    <ul style='font-size:20px'> \n",
    "        <li>\n",
    "            Escrita do arquivo de configuração do worker do server.\n",
    "        </li>\n",
    "    </ul>\n",
    " </div>"
   ]
  },
  {
   "cell_type": "markdown",
   "id": "2e301aa0-edf3-4811-b1ec-6e82c562affd",
   "metadata": {},
   "source": [
    "<h2 style='font-size:30px'> \n",
    "    Reapplying a Batch of Config Files\n",
    "</h2>\n",
    "<div> \n",
    "    <ul style='font-size:20px'> \n",
    "        <li>\n",
    "            Aplicação das configurações escritas até o momento.\n",
    "        </li>\n",
    "        <li>\n",
    "            Criei o arquivo `start.sh` para facilitar os applys.\n",
    "        </li>\n",
    "    </ul>\n",
    " </div>"
   ]
  },
  {
   "cell_type": "markdown",
   "id": "0b116820-27ae-4fab-b738-58d7abba140b",
   "metadata": {},
   "source": [
    "<h2 style='font-size:30px'> \n",
    "    The Need for Volumes with Databases\n",
    "</h2>\n",
    "<div> \n",
    "    <ul style='font-size:20px'> \n",
    "        <li>\n",
    "            Como vimos no decorrer do curso, é totalmente possível termos que realizar manunteções nos objetos de nosso cluster. Nessa situação, existe a chance de o Master deletar a versão antiga do componente e substitui-la pela nova.\n",
    "        </li>\n",
    "        <li>\n",
    "            No caso de containers de bases de dados, isso é extremamente perigoso para a nossa aplicação, uma vez que a exclusão do container implicará na perda de seus dados armazenados nele.\n",
    "        </li>\n",
    "        <li>\n",
    "            Tendo isso em vista, é uma boa prática armazenarmos os dados numa estrutura externa ao Pod da DB. Nesse caso, a chamamos de \"Volume\". Com ele, podemos manter as nossas informações seguras de qualquer deleção feita em nosso cluster.\n",
    "        </li>\n",
    "    </ul>\n",
    " </div>"
   ]
  },
  {
   "attachments": {},
   "cell_type": "markdown",
   "id": "b64ddfea-1c88-4297-8f73-aee9a82fbcb4",
   "metadata": {},
   "source": [
    "<figure>\n",
    "        <center style='margin-top:20px'>\n",
    "            <img src='img/14_volume.png'>\n",
    "                <figcaption>  Esquematização do funcionamento do Volume.</figcaption>\n",
    "        </center>\n",
    "    </figure>"
   ]
  },
  {
   "cell_type": "markdown",
   "id": "2f2b5a47-f8fc-4123-b7a2-29bab6f9ab5d",
   "metadata": {},
   "source": [
    "<h2 style='font-size:30px'> \n",
    "    Kubernetes Volumes\n",
    "</h2>\n",
    "<div> \n",
    "    <ul style='font-size:20px'> \n",
    "        <li>\n",
    "            O Kubernetes oferece três tipos de objetos Volumes que podemos usar em nossas aplicações. Exploraremos cada um deles. \n",
    "        </li>\n",
    "        <li>\n",
    "            O objeto mais básico é o \"Volume\". Ele fica associado a um container de um certo Pod. É extremamente vulnerável, já que será deletado caso o Pod ou Deployment sejam apagados.\n",
    "        </li>\n",
    "    </ul>\n",
    " </div>"
   ]
  },
  {
   "attachments": {},
   "cell_type": "markdown",
   "id": "251963ed-6612-42bd-ac88-8d26caeff387",
   "metadata": {},
   "source": [
    "<figure>\n",
    "        <center style='margin-top:20px'>\n",
    "            <img src='img/14_volume_types.png'>\n",
    "                <figcaption>  Relação dos tipos de Volumes disponíveis no Kubernetes</figcaption>\n",
    "        </center>\n",
    "    </figure>"
   ]
  },
  {
   "cell_type": "markdown",
   "id": "13b46981-043b-4827-91dd-36c0e7422b85",
   "metadata": {},
   "source": [
    "<h2 style='font-size:30px'> \n",
    "    <a href='https://bluexp.netapp.com/blog/cvo-blg-5-types-of-kubernetes-volumes-and-how-to-work-with-them'>\n",
    "        Kubernetes Volumes\n",
    "    </a>\n",
    "</h2>\n",
    "<div> \n",
    "    <ul style='font-size:20px'> \n",
    "        <li>\n",
    "            O artigo do link acima aprofunda o entendimento dos Volumes do Kubernetes. Eles são sistemas de arquivos que oferecem um espaço adicional de armazenamento para os containers.\n",
    "        </li>\n",
    "        <li>\n",
    "            Na geração do container, os Volumes são associados a ele por meio de um `mount`.\n",
    "        </li>\n",
    "        <li>\n",
    "            Os Volumes podem ser classificados em dois tipos: Efêmeros e Persistentes. Na primeira categoria, os dados estão atrelados ao tempo de vida de um Pod, enquanto que na segunda não.\n",
    "        </li>\n",
    "    </ul>\n",
    " </div>"
   ]
  },
  {
   "cell_type": "markdown",
   "id": "abf20ad2-aafd-4ea1-9f4d-25adc16059ff",
   "metadata": {},
   "source": [
    "<h3 style='font-size:30px;font-style:italic'> Tipos de Persistent Volumes</h3>"
   ]
  },
  {
   "cell_type": "markdown",
   "id": "116d637d-cfca-46b4-9afe-73f35fbbf044",
   "metadata": {
    "tags": []
   },
   "source": [
    "<h4 style='font-size:30px;font-style:italic;text-decoration:underline'> PersistentVolume (PV) </h4>\n",
    "<div> \n",
    "    <ul style='font-size:20px'> \n",
    "        <li>\n",
    "            PV's são objetos de armazenamento presentes no Cluster, com a capacidade de persistir os dados independentemente do ciclo de vida dos Pods que o consomem.\n",
    "        </li>\n",
    "    </ul>\n",
    "</div>"
   ]
  },
  {
   "cell_type": "markdown",
   "id": "95100e06-81a1-4415-8e9a-902bc6355252",
   "metadata": {
    "tags": []
   },
   "source": [
    "<h4 style='font-size:30px;font-style:italic;text-decoration:underline'> PersistentVolumeClaim (PVC) </h4>\n",
    "<div> \n",
    "    <ul style='font-size:20px'> \n",
    "        <li>\n",
    "            PVC's são requisições por espaço de PV's feitas por Pods de nosso cluster. Com eles, podemos solicitar uma certa quantia de armazenamento, com um determinado modo de acesso.\n",
    "        </li>\n",
    "    </ul>\n",
    "</div>"
   ]
  },
  {
   "cell_type": "markdown",
   "id": "6720effc-b984-40ab-a4bc-fab859603615",
   "metadata": {},
   "source": [
    "<h3 style='font-size:30px;font-style:italic'> Tipos de Ephemeral Volumes</h3>"
   ]
  },
  {
   "cell_type": "markdown",
   "id": "2708615b-5864-47c8-bf7b-f8c35ef3ea10",
   "metadata": {
    "tags": []
   },
   "source": [
    "<h4 style='font-size:30px;font-style:italic;text-decoration:underline'> emptyDir </h4>\n",
    "<div> \n",
    "    <ul style='font-size:20px'> \n",
    "        <li>\n",
    "            emptyDir's são usados assim que um Pod é criado dentro do Cluster.\n",
    "        </li>\n",
    "        <li>\n",
    "            Podemos estabelecê-los tanto no Disco Rígido, quanto na memória de nossa máquina \n",
    "        </li>\n",
    "    </ul>\n",
    "</div>"
   ]
  },
  {
   "cell_type": "code",
   "execution_count": 12,
   "id": "5426b315-3917-4e2d-b5ee-ed1e8b04ba86",
   "metadata": {},
   "outputs": [
    {
     "name": "stdout",
     "output_type": "stream",
     "text": [
      "[master 491da2c] Falar sobre os PersistentVolumeClaim`s\n",
      " 2 files changed, 82 insertions(+), 14 deletions(-)\n",
      "Enumerating objects: 7, done.\n",
      "Counting objects: 100% (7/7), done.\n",
      "Delta compression using up to 24 threads\n",
      "Compressing objects: 100% (4/4), done.\n",
      "Writing objects: 100% (4/4), 954 bytes | 954.00 KiB/s, done.\n",
      "Total 4 (delta 3), reused 0 (delta 0), pack-reused 0\n",
      "remote: Resolving deltas: 100% (3/3), completed with 3 local objects.\u001b[K\n",
      "To https://github.com/felipesveiga/docker.git\n",
      "   d90cfcd..491da2c  master -> master\n"
     ]
    }
   ],
   "source": [
    "! git add .\n",
    "! git commit -m 'Falar sobre os hostPath Volumes'\n",
    "! git push"
   ]
  },
  {
   "cell_type": "markdown",
   "id": "eb89864a-b4bc-4d5a-bfc0-0ed5a1f87afe",
   "metadata": {
    "editable": true,
    "slideshow": {
     "slide_type": ""
    },
    "tags": []
   },
   "source": [
    "<p style='color:red'> Falei sobre os PersistentVolumeClaim's e emptyDir's; Falar sobre os hostPath Volumes</p>"
   ]
  }
 ],
 "metadata": {
  "kernelspec": {
   "display_name": "Python 3 (ipykernel)",
   "language": "python",
   "name": "python3"
  },
  "language_info": {
   "codemirror_mode": {
    "name": "ipython",
    "version": 3
   },
   "file_extension": ".py",
   "mimetype": "text/x-python",
   "name": "python",
   "nbconvert_exporter": "python",
   "pygments_lexer": "ipython3",
   "version": "3.10.12"
  }
 },
 "nbformat": 4,
 "nbformat_minor": 5
}
