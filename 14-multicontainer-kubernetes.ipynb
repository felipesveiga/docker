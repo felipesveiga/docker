{
 "cells": [
  {
   "cell_type": "markdown",
   "id": "2073cb28-b29d-4337-b977-edaf60c46340",
   "metadata": {},
   "source": [
    "<h1 style='font-size:40px'> A Multi-Container App with Kubernetes</h1>"
   ]
  },
  {
   "cell_type": "markdown",
   "id": "c0a40281-f398-48d0-92f3-a9336c137b60",
   "metadata": {},
   "source": [
    "<h2 style='font-size:30px'> \n",
    "    The Path to Production\n",
    "</h2>\n",
    "<div> \n",
    "    <ul style='font-size:20px'> \n",
    "        <li>\n",
    "            Esse capítulo do curso será dedicado à implantação do projeto desenvolvido na seção 8 para um cluster Kubernetes.\n",
    "        </li>\n",
    "    </ul>\n",
    " </div>"
   ]
  },
  {
   "attachments": {},
   "cell_type": "markdown",
   "id": "4af2d2bd-b0ff-4a32-a9a4-0666a975ac1c",
   "metadata": {},
   "source": [
    "<figure>\n",
    "        <center style='margin-top:20px'>\n",
    "            <img src='img/14_project_diagram.png'>\n",
    "                <figcaption>  Diagrama do projeto.</figcaption>\n",
    "        </center>\n",
    "    </figure>"
   ]
  },
  {
   "cell_type": "markdown",
   "id": "4ecaa578-0c2a-48a4-9795-69e8a58885cc",
   "metadata": {},
   "source": [
    "<h2 style='font-size:30px'> \n",
    "    Recreating the Deployment\n",
    "</h2>\n",
    "<div> \n",
    "    <ul style='font-size:20px'> \n",
    "        <li>\n",
    "            Aula em que configuramos o .yaml do Deployment dos Pods com as imagens \"multi-client\".\n",
    "        </li>\n",
    "    </ul>\n",
    " </div>"
   ]
  },
  {
   "cell_type": "markdown",
   "id": "4e6aa442-dd20-49b1-a0d7-b8923eac64bb",
   "metadata": {},
   "source": [
    "<h2 style='font-size:30px'> \n",
    "    The ClusterIP Config\n",
    "</h2>\n",
    "<div> \n",
    "    <ul style='font-size:20px'> \n",
    "        <li>\n",
    "            Configuração do .yaml do Cluster IP do Deployment Client.\n",
    "        </li>\n",
    "        <li>\n",
    "            Por questão de organização, os arquivos de cada Deployment e seus respectivos CluaterIP's ficarão em pastas distintas. \n",
    "        </li>\n",
    "    </ul>\n",
    " </div>"
   ]
  },
  {
   "cell_type": "markdown",
   "id": "40feb141-0d3b-47ca-9931-e1a45b1920c2",
   "metadata": {},
   "source": [
    "<h2 style='font-size:30px'> \n",
    "    Applying Multiple Files with Kubectl\n",
    "</h2>\n",
    "<div> \n",
    "    <ul style='font-size:20px'> \n",
    "        <li>\n",
    "            Aplicação dos arquivos relacionados ao Deployment da imagem \"multi-client\".\n",
    "        </li>\n",
    "        <li>\n",
    "            <i> Dica:</i> O comando `kubectl apply -f` admite passarmos o nome do diretório com os arquivos de configuração.\n",
    "        </li>\n",
    "    </ul>\n",
    " </div>"
   ]
  },
  {
   "cell_type": "code",
   "execution_count": 2,
   "id": "1e52e364-081d-43bc-8789-9a529eea9bda",
   "metadata": {},
   "outputs": [],
   "source": [
    "# Exemplo de apply baseado num diretório.\n",
    "! kubectl apply -f k8s/client/"
   ]
  },
  {
   "cell_type": "code",
   "execution_count": 5,
   "id": "5426b315-3917-4e2d-b5ee-ed1e8b04ba86",
   "metadata": {},
   "outputs": [
    {
     "name": "stdout",
     "output_type": "stream",
     "text": [
      "[master 70fc340] Aula 212\n",
      " 2 files changed, 40 insertions(+), 114 deletions(-)\n",
      "Enumerating objects: 7, done.\n",
      "Counting objects: 100% (7/7), done.\n",
      "Delta compression using up to 24 threads\n",
      "Compressing objects: 100% (4/4), done.\n",
      "Writing objects: 100% (4/4), 683 bytes | 683.00 KiB/s, done.\n",
      "Total 4 (delta 3), reused 0 (delta 0), pack-reused 0\n",
      "remote: Resolving deltas: 100% (3/3), completed with 3 local objects.\u001b[K\n",
      "To https://github.com/felipesveiga/docker.git\n",
      "   479ca66..70fc340  master -> master\n"
     ]
    }
   ],
   "source": [
    "! git add .\n",
    "! git commit -m 'Aula 214'\n",
    "! git push"
   ]
  },
  {
   "cell_type": "markdown",
   "id": "eb89864a-b4bc-4d5a-bfc0-0ed5a1f87afe",
   "metadata": {
    "editable": true,
    "slideshow": {
     "slide_type": ""
    },
    "tags": []
   },
   "source": [
    "<p style='color:red'> Vi Aula 212 e 213; Aula 214</p>"
   ]
  }
 ],
 "metadata": {
  "kernelspec": {
   "display_name": "Python 3 (ipykernel)",
   "language": "python",
   "name": "python3"
  },
  "language_info": {
   "codemirror_mode": {
    "name": "ipython",
    "version": 3
   },
   "file_extension": ".py",
   "mimetype": "text/x-python",
   "name": "python",
   "nbconvert_exporter": "python",
   "pygments_lexer": "ipython3",
   "version": "3.10.12"
  }
 },
 "nbformat": 4,
 "nbformat_minor": 5
}
