{
 "cells": [
  {
   "cell_type": "markdown",
   "id": "2073cb28-b29d-4337-b977-edaf60c46340",
   "metadata": {},
   "source": [
    "<h1 style='font-size:40px'> A Multi-Container App with Kubernetes</h1>"
   ]
  },
  {
   "cell_type": "markdown",
   "id": "c0a40281-f398-48d0-92f3-a9336c137b60",
   "metadata": {},
   "source": [
    "<h2 style='font-size:30px'> \n",
    "    The Path to Production\n",
    "</h2>\n",
    "<div> \n",
    "    <ul style='font-size:20px'> \n",
    "        <li>\n",
    "            Esse capítulo do curso será dedicado à implantação do projeto desenvolvido na seção 8 para um cluster Kubernetes.\n",
    "        </li>\n",
    "    </ul>\n",
    " </div>"
   ]
  },
  {
   "attachments": {},
   "cell_type": "markdown",
   "id": "4af2d2bd-b0ff-4a32-a9a4-0666a975ac1c",
   "metadata": {},
   "source": [
    "<figure>\n",
    "        <center style='margin-top:20px'>\n",
    "            <img src='img/14_project_diagram.png'>\n",
    "                <figcaption>  Diagrama do projeto.</figcaption>\n",
    "        </center>\n",
    "    </figure>"
   ]
  },
  {
   "cell_type": "markdown",
   "id": "4ecaa578-0c2a-48a4-9795-69e8a58885cc",
   "metadata": {},
   "source": [
    "<h2 style='font-size:30px'> \n",
    "    Recreating the Deployment\n",
    "</h2>\n",
    "<div> \n",
    "    <ul style='font-size:20px'> \n",
    "        <li>\n",
    "            Aula em que configuramos o .yaml do Deployment dos Pods com as imagens \"multi-client\".\n",
    "        </li>\n",
    "    </ul>\n",
    " </div>"
   ]
  },
  {
   "cell_type": "code",
   "execution_count": 2,
   "id": "5426b315-3917-4e2d-b5ee-ed1e8b04ba86",
   "metadata": {
    "collapsed": true,
    "jupyter": {
     "outputs_hidden": true
    }
   },
   "outputs": [
    {
     "name": "stdout",
     "output_type": "stream",
     "text": [
      "[master c399805] Aula 210\n",
      " 44 files changed, 736 insertions(+), 54 deletions(-)\n",
      " create mode 100644 projects/complex-gh/.DS_Store\n",
      " create mode 100644 projects/complex-gh/client/.gitignore\n",
      " create mode 100644 projects/complex-gh/client/Dockerfile\n",
      " create mode 100644 projects/complex-gh/client/Dockerfile.dev\n",
      " create mode 100644 projects/complex-gh/client/README.md\n",
      " create mode 100644 projects/complex-gh/client/nginx/default.conf\n",
      " create mode 100644 projects/complex-gh/client/package.json\n",
      " create mode 100644 projects/complex-gh/client/public/favicon.ico\n",
      " create mode 100644 projects/complex-gh/client/public/index.html\n",
      " create mode 100644 projects/complex-gh/client/public/logo192.png\n",
      " create mode 100644 projects/complex-gh/client/public/logo512.png\n",
      " create mode 100644 projects/complex-gh/client/public/manifest.json\n",
      " create mode 100644 projects/complex-gh/client/public/robots.txt\n",
      " create mode 100644 projects/complex-gh/client/src/App.css\n",
      " create mode 100644 projects/complex-gh/client/src/App.js\n",
      " create mode 100644 projects/complex-gh/client/src/App.test.js\n",
      " create mode 100644 projects/complex-gh/client/src/Fib.js\n",
      " create mode 100644 projects/complex-gh/client/src/OtherPage.js\n",
      " create mode 100644 projects/complex-gh/client/src/index.css\n",
      " create mode 100644 projects/complex-gh/client/src/index.js\n",
      " create mode 100644 projects/complex-gh/client/src/logo.svg\n",
      " create mode 100644 projects/complex-gh/client/src/reportWebVitals.js\n",
      " create mode 100644 projects/complex-gh/client/src/setupTests.js\n",
      " create mode 100644 projects/complex-gh/docker-compose-dev.yml\n",
      " create mode 100644 projects/complex-gh/docker-compose.yml\n",
      " create mode 100644 projects/complex-gh/nginx/Dockerfile\n",
      " create mode 100644 projects/complex-gh/nginx/Dockerfile.dev\n",
      " create mode 100644 projects/complex-gh/nginx/default.conf\n",
      " create mode 100644 projects/complex-gh/server/Dockerfile\n",
      " create mode 100644 projects/complex-gh/server/Dockerfile.dev\n",
      " create mode 100644 projects/complex-gh/server/index.js\n",
      " create mode 100644 projects/complex-gh/server/keys.js\n",
      " create mode 100644 projects/complex-gh/server/package.json\n",
      " create mode 100644 projects/complex-gh/worker/Dockerfile\n",
      " create mode 100644 projects/complex-gh/worker/Dockerfile.dev\n",
      " create mode 100644 projects/complex-gh/worker/index.js\n",
      " create mode 100644 projects/complex-gh/worker/keys.js\n",
      " create mode 100644 projects/complex-gh/worker/package.json\n",
      " create mode 100644 projects/complex/.docker-compose.yml.swp\n",
      "Enumerating objects: 58, done.\n",
      "Counting objects: 100% (58/58), done.\n",
      "Delta compression using up to 24 threads\n",
      "Compressing objects: 100% (50/50), done.\n",
      "Writing objects: 100% (52/52), 31.62 KiB | 15.81 MiB/s, done.\n",
      "Total 52 (delta 6), reused 11 (delta 0), pack-reused 0\n",
      "remote: Resolving deltas: 100% (6/6), completed with 5 local objects.\u001b[K\n",
      "To https://github.com/felipesveiga/docker.git\n",
      "   4d53b77..c399805  master -> master\n"
     ]
    }
   ],
   "source": [
    "! git add .\n",
    "! git commit -m 'Pesquisar sobre o argumento \"replicas\" dos .yaml\\'s de Deployments'\n",
    "! git push"
   ]
  },
  {
   "cell_type": "markdown",
   "id": "eb89864a-b4bc-4d5a-bfc0-0ed5a1f87afe",
   "metadata": {
    "editable": true,
    "slideshow": {
     "slide_type": ""
    },
    "tags": []
   },
   "source": [
    "<p style='color:red'> Vi Aula 210; Pesquisar sobre o argumento \"replicas\" dos .yaml's de Deployments; Quantos Pods são produzidos quando declaramos mais de um container?; Aula 211</p>"
   ]
  }
 ],
 "metadata": {
  "kernelspec": {
   "display_name": "Python 3 (ipykernel)",
   "language": "python",
   "name": "python3"
  },
  "language_info": {
   "codemirror_mode": {
    "name": "ipython",
    "version": 3
   },
   "file_extension": ".py",
   "mimetype": "text/x-python",
   "name": "python",
   "nbconvert_exporter": "python",
   "pygments_lexer": "ipython3",
   "version": "3.10.12"
  }
 },
 "nbformat": 4,
 "nbformat_minor": 5
}
