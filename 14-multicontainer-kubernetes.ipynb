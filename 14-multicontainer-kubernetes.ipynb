{
 "cells": [
  {
   "cell_type": "markdown",
   "id": "2073cb28-b29d-4337-b977-edaf60c46340",
   "metadata": {},
   "source": [
    "<h1 style='font-size:40px'> A Multi-Container App with Kubernetes</h1>"
   ]
  },
  {
   "cell_type": "markdown",
   "id": "c0a40281-f398-48d0-92f3-a9336c137b60",
   "metadata": {},
   "source": [
    "<h2 style='font-size:30px'> \n",
    "    The Path to Production\n",
    "</h2>\n",
    "<div> \n",
    "    <ul style='font-size:20px'> \n",
    "        <li>\n",
    "            Esse capítulo do curso será dedicada à implantação do projeto desenvolvido na seção 8 para um cluster Kubernetes.\n",
    "        </li>\n",
    "    </ul>\n",
    " </div>"
   ]
  },
  {
   "attachments": {},
   "cell_type": "markdown",
   "id": "4af2d2bd-b0ff-4a32-a9a4-0666a975ac1c",
   "metadata": {},
   "source": [
    "<figure>\n",
    "        <center style='margin-top:20px'>\n",
    "            <img src='img/14_project_diagram.png'>\n",
    "                <figcaption>  Diagrama do projeto.</figcaption>\n",
    "        </center>\n",
    "    </figure>"
   ]
  },
  {
   "cell_type": "code",
   "execution_count": 4,
   "id": "5426b315-3917-4e2d-b5ee-ed1e8b04ba86",
   "metadata": {},
   "outputs": [
    {
     "name": "stdout",
     "output_type": "stream",
     "text": [
      "[master 48434a6] Aula 206\n",
      " 5 files changed, 98 insertions(+), 24 deletions(-)\n",
      " create mode 100644 img/12_docker_node.png\n",
      "Enumerating objects: 11, done.\n",
      "Counting objects: 100% (11/11), done.\n",
      "Delta compression using up to 24 threads\n",
      "Compressing objects: 100% (7/7), done.\n",
      "Writing objects: 100% (7/7), 78.31 KiB | 26.10 MiB/s, done.\n",
      "Total 7 (delta 4), reused 0 (delta 0), pack-reused 0\n",
      "remote: Resolving deltas: 100% (4/4), completed with 4 local objects.\u001b[K\n",
      "To https://github.com/felipesveiga/docker.git\n",
      "   9b131a2..48434a6  master -> master\n"
     ]
    }
   ],
   "source": [
    "! git add .\n",
    "! git commit -m 'Iniciar seção 14'\n",
    "! git push"
   ]
  },
  {
   "cell_type": "markdown",
   "id": "eb89864a-b4bc-4d5a-bfc0-0ed5a1f87afe",
   "metadata": {
    "editable": true,
    "slideshow": {
     "slide_type": ""
    },
    "tags": []
   },
   "source": [
    "<p style='color:red'> Vi Aula 206; Iniciar seção 14</p>"
   ]
  }
 ],
 "metadata": {
  "kernelspec": {
   "display_name": "Python 3 (ipykernel)",
   "language": "python",
   "name": "python3"
  },
  "language_info": {
   "codemirror_mode": {
    "name": "ipython",
    "version": 3
   },
   "file_extension": ".py",
   "mimetype": "text/x-python",
   "name": "python",
   "nbconvert_exporter": "python",
   "pygments_lexer": "ipython3",
   "version": "3.10.12"
  }
 },
 "nbformat": 4,
 "nbformat_minor": 5
}
