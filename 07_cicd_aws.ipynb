{
 "cells": [
  {
   "cell_type": "markdown",
   "id": "a5b6bcb2-ae74-474a-9b79-7e9d20eb6be2",
   "metadata": {},
   "source": [
    "<h1 style='font-size:40px'> Continuous Integration and Deployment with AWS</h1>"
   ]
  },
  {
   "cell_type": "markdown",
   "id": "dacf9434-ea0a-4814-8866-301b3bf807f1",
   "metadata": {},
   "source": [
    "<h2 style='font-size:30px'>  Travis YML File Configuration</h2>\n",
    "<div> \n",
    "    <ul style='font-size:20px'> \n",
    "        <li>\n",
    "            Nossa esteira do Travis CI/GitHub Actions deverá criar um container do Dockerfile.dev e acionar os seus testes. Estando tudo bem, permitiremos o deploy do código na AWS. \n",
    "        </li>\n",
    "    </ul>\n",
    " </div>"
   ]
  },
  {
   "cell_type": "code",
   "execution_count": 1,
   "id": "7fba7ece-3a85-4e84-8748-308e1c869873",
   "metadata": {},
   "outputs": [
    {
     "name": "stdout",
     "output_type": "stream",
     "text": [
      "[master ea59012] Rever Aula 90 para ver se cumpri direito as instruções\n",
      " 3 files changed, 25 insertions(+), 45 deletions(-)\n",
      "Enumerating objects: 9, done.\n",
      "Counting objects: 100% (9/9), done.\n",
      "Delta compression using up to 24 threads\n",
      "Compressing objects: 100% (5/5), done.\n",
      "Writing objects: 100% (5/5), 821 bytes | 821.00 KiB/s, done.\n",
      "Total 5 (delta 4), reused 0 (delta 0), pack-reused 0\n",
      "remote: Resolving deltas: 100% (4/4), completed with 4 local objects.\u001b[K\n",
      "To https://github.com/felipesveiga/docker.git\n",
      "   871b181..ea59012  master -> master\n"
     ]
    }
   ],
   "source": [
    "! git add .\n",
    "! git commit -am ' Verificar se ambiente Beanstalk terminou de ser elaborado para testar o deployment'\n",
    "! git push"
   ]
  },
  {
   "cell_type": "markdown",
   "id": "9eb3f8df-3e3c-4d14-9b3d-7892a690efca",
   "metadata": {
    "editable": true,
    "slideshow": {
     "slide_type": ""
    },
    "tags": []
   },
   "source": [
    "<p style='color:red'> Recriei meu ambiente Beanstalk; Verificar se ele terminou de ser elaborado para testar o deployment; se der errado; prosseguir com o curso (Aula 95)!</p>"
   ]
  },
  {
   "cell_type": "markdown",
   "id": "55e49a6e-19e8-4251-bd2e-dc14e3215580",
   "metadata": {
    "editable": true,
    "slideshow": {
     "slide_type": ""
    },
    "tags": []
   },
   "source": [
    "<p style='color:red'> Buscar por um curso rápido de GitHub Actions, ao final da seção</p>"
   ]
  }
 ],
 "metadata": {
  "kernelspec": {
   "display_name": "Python 3 (ipykernel)",
   "language": "python",
   "name": "python3"
  },
  "language_info": {
   "codemirror_mode": {
    "name": "ipython",
    "version": 3
   },
   "file_extension": ".py",
   "mimetype": "text/x-python",
   "name": "python",
   "nbconvert_exporter": "python",
   "pygments_lexer": "ipython3",
   "version": "3.10.12"
  }
 },
 "nbformat": 4,
 "nbformat_minor": 5
}
