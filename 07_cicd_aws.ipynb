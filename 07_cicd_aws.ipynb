{
 "cells": [
  {
   "cell_type": "markdown",
   "id": "a5b6bcb2-ae74-474a-9b79-7e9d20eb6be2",
   "metadata": {},
   "source": [
    "<h1 style='font-size:40px'> Continuous Integration and Deployment with AWS</h1>"
   ]
  },
  {
   "cell_type": "code",
   "execution_count": 5,
   "id": "7fba7ece-3a85-4e84-8748-308e1c869873",
   "metadata": {},
   "outputs": [
    {
     "name": "stdout",
     "output_type": "stream",
     "text": [
      "[master 139e880] Aula 81\n",
      " 4 files changed, 98 insertions(+), 32 deletions(-)\n",
      " create mode 100644 img/06_multi_dockerfile.png\n",
      " create mode 100644 projects/frontend/Dockerfile\n",
      "Enumerating objects: 15, done.\n",
      "Counting objects: 100% (15/15), done.\n",
      "Delta compression using up to 24 threads\n",
      "Compressing objects: 100% (9/9), done.\n",
      "Writing objects: 100% (9/9), 27.26 KiB | 27.26 MiB/s, done.\n",
      "Total 9 (delta 5), reused 0 (delta 0), pack-reused 0\n",
      "remote: Resolving deltas: 100% (5/5), completed with 5 local objects.\u001b[K\n",
      "To https://github.com/felipesveiga/docker.git\n",
      "   3064020..139e880  master -> master\n"
     ]
    }
   ],
   "source": [
    "! git add .\n",
    "! git commit -am 'Aula 84'\n",
    "! git push"
   ]
  },
  {
   "cell_type": "markdown",
   "id": "9eb3f8df-3e3c-4d14-9b3d-7892a690efca",
   "metadata": {
    "editable": true,
    "slideshow": {
     "slide_type": ""
    },
    "tags": []
   },
   "source": [
    "<p style='color:red'> Vi Aulas 81 até 83; Criei o repo do projeto de frontend; Aula 84</p>"
   ]
  }
 ],
 "metadata": {
  "kernelspec": {
   "display_name": "Python 3 (ipykernel)",
   "language": "python",
   "name": "python3"
  },
  "language_info": {
   "codemirror_mode": {
    "name": "ipython",
    "version": 3
   },
   "file_extension": ".py",
   "mimetype": "text/x-python",
   "name": "python",
   "nbconvert_exporter": "python",
   "pygments_lexer": "ipython3",
   "version": "3.10.12"
  }
 },
 "nbformat": 4,
 "nbformat_minor": 5
}
