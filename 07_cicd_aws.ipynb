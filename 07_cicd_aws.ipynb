{
 "cells": [
  {
   "cell_type": "markdown",
   "id": "a5b6bcb2-ae74-474a-9b79-7e9d20eb6be2",
   "metadata": {},
   "source": [
    "<h1 style='font-size:40px'> Continuous Integration and Deployment with AWS</h1>"
   ]
  },
  {
   "cell_type": "markdown",
   "id": "dacf9434-ea0a-4814-8866-301b3bf807f1",
   "metadata": {},
   "source": [
    "<h2 style='font-size:30px'>  Travis YML File Configuration</h2>\n",
    "<div> \n",
    "    <ul style='font-size:20px'> \n",
    "        <li>\n",
    "            Nossa esteira do Travis CI/GitHub Actions deverá criar um container do Dockerfile.dev e acionar os seus testes. Estando tudo bem, permitiremos o deploy do código na AWS. \n",
    "        </li>\n",
    "    </ul>\n",
    " </div>"
   ]
  },
  {
   "cell_type": "code",
   "execution_count": 6,
   "id": "7fba7ece-3a85-4e84-8748-308e1c869873",
   "metadata": {},
   "outputs": [
    {
     "name": "stdout",
     "output_type": "stream",
     "text": [
      "[master aa773d5] Aula 91\n",
      " 5 files changed, 36 insertions(+), 49 deletions(-)\n",
      " delete mode 100644 projects/frontend/.github/workflows/.deploy.yml.swp\n",
      " copy projects/frontend/{docker-compose.yml => docker-compose-dev.yml} (100%)\n",
      " rewrite projects/frontend/docker-compose.yml (86%)\n",
      "Enumerating objects: 17, done.\n",
      "Counting objects: 100% (17/17), done.\n",
      "Delta compression using up to 24 threads\n",
      "Compressing objects: 100% (7/7), done.\n",
      "Writing objects: 100% (9/9), 1.08 KiB | 1.08 MiB/s, done.\n",
      "Total 9 (delta 4), reused 0 (delta 0), pack-reused 0\n",
      "remote: Resolving deltas: 100% (4/4), completed with 4 local objects.\u001b[K\n",
      "To https://github.com/felipesveiga/docker.git\n",
      "   c354d10..aa773d5  master -> master\n"
     ]
    }
   ],
   "source": [
    "! git add .\n",
    "! git commit -am 'No entanto, meu push deu erro nas Actions'\n",
    "! git push"
   ]
  },
  {
   "cell_type": "markdown",
   "id": "9eb3f8df-3e3c-4d14-9b3d-7892a690efca",
   "metadata": {
    "editable": true,
    "slideshow": {
     "slide_type": ""
    },
    "tags": []
   },
   "source": [
    "<p style='color:red'> Vi Aula 93 e 94; No entanto, meu push deu erro nas Actions</p>"
   ]
  },
  {
   "cell_type": "markdown",
   "id": "55e49a6e-19e8-4251-bd2e-dc14e3215580",
   "metadata": {
    "editable": true,
    "slideshow": {
     "slide_type": ""
    },
    "tags": []
   },
   "source": [
    "<p style='color:red'> Buscar por um curso rápido de GitHub Actions, ao final da seção</p>"
   ]
  }
 ],
 "metadata": {
  "kernelspec": {
   "display_name": "Python 3 (ipykernel)",
   "language": "python",
   "name": "python3"
  },
  "language_info": {
   "codemirror_mode": {
    "name": "ipython",
    "version": 3
   },
   "file_extension": ".py",
   "mimetype": "text/x-python",
   "name": "python",
   "nbconvert_exporter": "python",
   "pygments_lexer": "ipython3",
   "version": "3.10.12"
  }
 },
 "nbformat": 4,
 "nbformat_minor": 5
}
