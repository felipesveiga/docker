{
 "cells": [
  {
   "cell_type": "markdown",
   "id": "f9147ddb-e454-4022-b061-b8a17f034be7",
   "metadata": {},
   "source": [
    "<h1 style='font-size:40px'> Dive Into Docker</h1>"
   ]
  },
  {
   "cell_type": "markdown",
   "id": "5a119867-dbc7-4ada-9cd9-5e2b4f67bacb",
   "metadata": {},
   "source": [
    "<h2 style='font-size:30px'> Finished Code and Diagrams</h2>\n",
    "<div> \n",
    "    <ul style='font-size:20px'> \n",
    "        <li>\n",
    "            O instrutor deixará o código dos projetos em cada aula. Assim, poderei saber como os meus devem estar ao final de cada uma delas.\n",
    "        </li>\n",
    "    </ul>\n",
    " </div>"
   ]
  },
  {
   "cell_type": "markdown",
   "id": "b787fb60-50ea-4833-8a4d-bf5e2ff6da11",
   "metadata": {},
   "source": [
    "<h2 style='font-size:30px'> What is Docker?</h2>\n",
    "<div> \n",
    "    <ul style='font-size:20px'> \n",
    "        <li>\n",
    "            Docker é um software especializado na geração de VM's. Seus dois principais componentes são imagens (como as de OS) e os containers (as próprias VM's).\n",
    "        </li>\n",
    "        <li>\n",
    "            A vantagem de usarmos o Docker é que suas imagens possibilitam o uso imediato de softwares cuja instalação poderia ser difícil demais em nossas máquinas (CUDA, CuDNN...).\n",
    "        </li>\n",
    "    </ul>\n",
    " </div>"
   ]
  },
  {
   "cell_type": "markdown",
   "id": "80c0ce3f-b057-4e22-8338-a4a05d9dbae6",
   "metadata": {},
   "source": [
    "<h2 style='font-size:30px'> Installing Docker with WSL on Windows 10/11</h2>\n",
    "<div> \n",
    "    <ul style='font-size:20px'> \n",
    "        <li>\n",
    "            Todos os comandos da CLI Docker devem ser executados no WSL, e não no CMD/Powershell.\n",
    "        </li>\n",
    "    </ul>\n",
    " </div>"
   ]
  },
  {
   "cell_type": "markdown",
   "id": "c173d7b4-d739-415b-9367-d44c38de2ae2",
   "metadata": {},
   "source": [
    "<h2 style='font-size:30px'> Using the Docker Client</h2>\n",
    "<div> \n",
    "    <ul style='font-size:20px'> \n",
    "        <li>\n",
    "            Aprendemos aqui a executar o principal comando do docker `docker run &lt;image&gt;`.\n",
    "        </li>\n",
    "        <li>\n",
    "            O comando `run` é responsável por criar e acionar um container baseado na imagem desejada. Caso essa não esteja presente em sua máquina local, a CLI deverá resgatá-la do repositório Docker Hub.\n",
    "        </li>\n",
    "    </ul>\n",
    " </div>"
   ]
  },
  {
   "cell_type": "code",
   "execution_count": 1,
   "id": "f9b2ca60-8d7a-4757-8803-b8c1b8cd9351",
   "metadata": {},
   "outputs": [
    {
     "name": "stdout",
     "output_type": "stream",
     "text": [
      "[master b8c3678] Aula 9\n",
      " 2 files changed, 102 insertions(+), 4 deletions(-)\n",
      "Enumerating objects: 7, done.\n",
      "Counting objects: 100% (7/7), done.\n",
      "Delta compression using up to 24 threads\n",
      "Compressing objects: 100% (4/4), done.\n",
      "Writing objects: 100% (4/4), 1.12 KiB | 1.12 MiB/s, done.\n",
      "Total 4 (delta 1), reused 0 (delta 0), pack-reused 0\n",
      "remote: Resolving deltas: 100% (1/1), completed with 1 local object.\u001b[K\n",
      "To https://github.com/felipesveiga/docker.git\n",
      "   bf876f2..b8c3678  master -> master\n"
     ]
    }
   ],
   "source": [
    "! git add .\n",
    "! git commit -am 'Aula 9'\n",
    "! git push"
   ]
  },
  {
   "cell_type": "markdown",
   "id": "f9bed12b-7ec5-4304-861e-ce6a6f2d3c72",
   "metadata": {
    "editable": true,
    "slideshow": {
     "slide_type": ""
    },
    "tags": []
   },
   "source": [
    "<p style='color:red'> Vi Aula 9 e 10; Aula 11</p>"
   ]
  }
 ],
 "metadata": {
  "kernelspec": {
   "display_name": "Python 3 (ipykernel)",
   "language": "python",
   "name": "python3"
  },
  "language_info": {
   "codemirror_mode": {
    "name": "ipython",
    "version": 3
   },
   "file_extension": ".py",
   "mimetype": "text/x-python",
   "name": "python",
   "nbconvert_exporter": "python",
   "pygments_lexer": "ipython3",
   "version": "3.10.12"
  }
 },
 "nbformat": 4,
 "nbformat_minor": 5
}
