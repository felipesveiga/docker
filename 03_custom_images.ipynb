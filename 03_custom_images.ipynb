{
 "cells": [
  {
   "cell_type": "markdown",
   "id": "28b1e11a-ab62-470f-bc5b-5b60442b4463",
   "metadata": {},
   "source": [
    "<h1 style='font-size:40px'> \n",
    "Building Custom Images Through Docker Server</h1>"
   ]
  },
  {
   "cell_type": "markdown",
   "id": "38ac2f72-5f39-4ed0-bcfa-0f88391197a6",
   "metadata": {},
   "source": [
    "<h2 style='font-size:30px'>Creating Docker Images</h2>\n",
    "<div> \n",
    "    <ul style='font-size:20px'> \n",
    "        <li>\n",
    "            O Docker nos permite criar imagens customizadas com base em outras. Tendo uma em mãos, acrescentamos mais alguns programas e definimos o que será acionado com `docker run`.\n",
    "        </li>\n",
    "        <li>\n",
    "            Todas as configurações desejadas estarão contidas num Dockerfile. A CLI o passará ao Docker Server, que por sua vez montará a imagem para nós!\n",
    "        </li>\n",
    "    </ul>\n",
    " </div>"
   ]
  },
  {
   "cell_type": "markdown",
   "id": "f20b9084-4295-4463-a283-4f59e6f42a05",
   "metadata": {},
   "source": [
    "<h2 style='font-size:30px;color:red'> Buildkit for Docker Desktop</h2>\n",
    "<div> \n",
    "    <ul style='font-size:20px'> \n",
    "        <li>\n",
    "            Versões mais recentes do Docker vêm com o componente Buildkit, que ocasiona algumas alterações sutis nos outputs do build.\n",
    "        </li>\n",
    "        <li>\n",
    "            Por padrão, ele omitirá alguns logs sobre o progresso do build. No entanto, você pode especificar a flag `--progress=plain` para evitar isso.\n",
    "        </li>\n",
    "    </ul>\n",
    " </div>"
   ]
  },
  {
   "cell_type": "markdown",
   "id": "5950249c-ca43-45aa-af14-5e0aebd7af7b",
   "metadata": {},
   "source": [
    "<h2 style='font-size:30px'> The Build Process in Detail</h2>\n",
    "<div> \n",
    "    <ul style='font-size:20px'> \n",
    "        <li>\n",
    "            Todo Dockerfile iniciará com o comando FROM, que importará a imagem-base desejada.\n",
    "        </li>\n",
    "        <li>\n",
    "            RUN sinaliza a execução de um determinado comando de terminal, e CMD define o que será acionado no `docker run` - equivalente a um `if __name__=='__main__'`.\n",
    "        </li>\n",
    "    </ul>\n",
    "    <center style='margin-top:20px'> \n",
    "        <figure>\n",
    "            <img src='img/03_dockerfile.png'>\n",
    "            <figcaption> Exemplo de um Dockerfile simples</figcaption>\n",
    "        </figure>\n",
    "    </center>\n",
    " </div>"
   ]
  },
  {
   "cell_type": "markdown",
   "id": "b630fab9-8d0c-401e-bcb3-134711fe9c17",
   "metadata": {},
   "source": [
    "<h3 style='font-size:30px;font-style:italic'> Construção da Imagem</h3>\n",
    "<div> \n",
    "    <ul style='font-size:20px'> \n",
    "        <li>\n",
    "            Cada comando após o FROM criará um container temporário, que gerará uma imagem efêmera.\n",
    "        </li>\n",
    "        <li>\n",
    "            Em RUN, instalamos os pacotes desejados e salvamos o sistema de arquivos atualizado como uma imagem temporária.\n",
    "        </li>\n",
    "        <li>\n",
    "            CMD, basicamente, configura o main da imagem temporária recebida e a consolida como a imagem final.\n",
    "        </li>\n",
    "    </ul>\n",
    " </div>"
   ]
  },
  {
   "cell_type": "markdown",
   "id": "f5d71df9-709e-41aa-b13e-474b7acac2c6",
   "metadata": {},
   "source": [
    "<h2 style='font-size:30px'> Rebuilds with Cache</h2>\n",
    "<div> \n",
    "    <ul style='font-size:20px'> \n",
    "        <li>\n",
    "            Todas as imagens intermediárias que mencionamos são armazenadas no cache de sua máquina. Caso você rode `docker build .` novamente, verá que o Docker apenas as resgatará.\n",
    "        </li>\n",
    "        <li>\n",
    "            Caso você edite o seu Dockerfile e faça uma nova imagem, o Docker aproveitará as imagens de todas as etapas anteriores às da linha de edição.\n",
    "        </li>\n",
    "        <li>\n",
    "            Caso seja do seu interesse não reutilizar o cache no build, você pode passar `--no-cache` como argumento do build.\n",
    "        </li>\n",
    "    </ul>\n",
    " </div>"
   ]
  },
  {
   "cell_type": "markdown",
   "id": "5c6742c2-63bb-4354-8446-f421d60ad215",
   "metadata": {},
   "source": [
    "<h2 style='font-size:30px'> Tagging an Image</h2>\n",
    "<div> \n",
    "    <ul style='font-size:20px'> \n",
    "        <li>\n",
    "            Para dar um nome à sua imagem, informe a flag `-t`, em `docker build`.\n",
    "        </li>\n",
    "        <li>\n",
    "            Por convenção, espera-se que o nome siga o seguinte formato:\n",
    "            <center style='margin-top:20px'>\n",
    "                &lt;username&gt;/&lt;image_name&gt;:&lt;version_number&gt;\n",
    "            </center>\n",
    "        </li>\n",
    "        <li style='margin-top:20px'>\n",
    "            Em &lt;version_number&gt;, você pode escrever latest para a versão mais recente da imagem. Caso o usuário apenas informe &lt;username&gt;/&lt;image_name&gt; no run, o Docker inferirá que é essa versão que deverá ser executada.\n",
    "        </li>\n",
    "    </ul>\n",
    "     <center style='margin-top:20px'> \n",
    "        <figure>\n",
    "            <img src='img/03_docker_build_t.png'>\n",
    "            <figcaption> Exemplo de um build -t</figcaption>\n",
    "        </figure>\n",
    "    </center>\n",
    " </div>"
   ]
  },
  {
   "cell_type": "markdown",
   "id": "78297a28-3683-4116-ae3a-c1fefff6ea78",
   "metadata": {},
   "source": [
    "<h2 style='font-size:30px'> Manual Image Generation with Docker Commit</h2>\n",
    "<div> \n",
    "    <ul style='font-size:20px'> \n",
    "        <li>\n",
    "            É possível criarmos imagens, com base em containers existentes. Isso seria útil na situação em que os customizamos.\n",
    "        </li>\n",
    "        <li>\n",
    "            Tudo o que você deverá fazer será executar `docker commit -c 'CMD [\"&lt;command&gt;\"]' &lt;container_id&gt;`. Note que você terá a oportunidade de especificar um novo comando para o run.\n",
    "        </li>\n",
    "        <li>\n",
    "            Você receberá um ID que poderá ser usado para rodar a imagem.\n",
    "        </li>\n",
    "    </ul>\n",
    " </div>"
   ]
  },
  {
   "cell_type": "markdown",
   "id": "8f5f83b8-85da-4c45-90f7-6130e808887a",
   "metadata": {},
   "source": [
    "<h2 style='font-size:30px'> Recap Principais Comandos</h2>\n",
    "<div> \n",
    "    <ul style='font-size:20px'> \n",
    "        <li>\n",
    "            <i> run</i>: Criação de um container com o acionamento de uma imagem.\n",
    "        </li>\n",
    "        <li>\n",
    "            <i> start</i>: Acionamento de um container já existente.\n",
    "        </li>\n",
    "        <li>\n",
    "            <i> build</i>: Criação de uma imagem a partir de um Dockerfile.\n",
    "        </li>\n",
    "    </ul>\n",
    " </div>"
   ]
  }
 ],
 "metadata": {
  "kernelspec": {
   "display_name": "Python 3 (ipykernel)",
   "language": "python",
   "name": "python3"
  },
  "language_info": {
   "codemirror_mode": {
    "name": "ipython",
    "version": 3
   },
   "file_extension": ".py",
   "mimetype": "text/x-python",
   "name": "python",
   "nbconvert_exporter": "python",
   "pygments_lexer": "ipython3",
   "version": "3.10.12"
  }
 },
 "nbformat": 4,
 "nbformat_minor": 5
}
