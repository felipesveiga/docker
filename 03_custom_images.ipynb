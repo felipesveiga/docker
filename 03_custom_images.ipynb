{
 "cells": [
  {
   "cell_type": "markdown",
   "id": "28b1e11a-ab62-470f-bc5b-5b60442b4463",
   "metadata": {},
   "source": [
    "<h1 style='font-size:40px'> \n",
    "Building Custom Images Through Docker Server</h1>"
   ]
  },
  {
   "cell_type": "markdown",
   "id": "38ac2f72-5f39-4ed0-bcfa-0f88391197a6",
   "metadata": {},
   "source": [
    "<h2 style='font-size:30px'>Creating Docker Images</h2>\n",
    "<div> \n",
    "    <ul style='font-size:20px'> \n",
    "        <li>\n",
    "            O Docker nos permite criar imagens customizadas com base em outras. Tendo uma em mãos, acrescentamos mais alguns programas e definimos o que será acionado com `docker run`.\n",
    "        </li>\n",
    "        <li>\n",
    "            Todas as configurações desejadas estarão contidas num Dockerfile. A CLI o passará ao Docker Server, que por sua vez montará a imagem para nós!\n",
    "        </li>\n",
    "    </ul>\n",
    " </div>"
   ]
  },
  {
   "cell_type": "markdown",
   "id": "f20b9084-4295-4463-a283-4f59e6f42a05",
   "metadata": {},
   "source": [
    "<h2 style='font-size:30px;color:red'> Buildkit for Docker Desktop</h2>\n",
    "<div> \n",
    "    <ul style='font-size:20px'> \n",
    "        <li>\n",
    "            Versões mais recentes do Docker vêm com o componente Buildkit, que ocasiona algumas alterações sutis nos outputs do build.\n",
    "        </li>\n",
    "        <li>\n",
    "            Por padrão, ele omitirá alguns logs sobre o progresso do build. No entanto, você pode especificar a flag `--progress=plain` para evitar isso.\n",
    "        </li>\n",
    "    </ul>\n",
    " </div>"
   ]
  },
  {
   "cell_type": "markdown",
   "id": "5950249c-ca43-45aa-af14-5e0aebd7af7b",
   "metadata": {},
   "source": [
    "<h2 style='font-size:30px'> The Build Process in Detail</h2>\n",
    "<div> \n",
    "    <ul style='font-size:20px'> \n",
    "        <li>\n",
    "            Todo Dockerfile iniciará com o comando FROM, que importará a imagem-base desejada.\n",
    "        </li>\n",
    "        <li>\n",
    "            RUN sinaliza a execução de um determinado comando de terminal, e CMD define o que será acionado no `docker run` - equivalente a um `if __name__=='__main__'`.\n",
    "        </li>\n",
    "    </ul>\n",
    "    <center style='margin-top:20px'> \n",
    "        <figure>\n",
    "            <img src='img/03_dockerfile.png'>\n",
    "            <figcaption> Exemplo de um Dockerfile simples</figcaption>\n",
    "        </figure>\n",
    "    </center>\n",
    " </div>"
   ]
  },
  {
   "cell_type": "markdown",
   "id": "b630fab9-8d0c-401e-bcb3-134711fe9c17",
   "metadata": {},
   "source": [
    "<h3 style='font-size:30px;font-style:italic'> Construção da Imagem</h3>\n",
    "<div> \n",
    "    <ul style='font-size:20px'> \n",
    "        <li>\n",
    "            Cada comando após o FROM criará um container temporário, que gerará uma imagem efêmera.\n",
    "        </li>\n",
    "        <li>\n",
    "            Em RUN, instalamos os pacotes desejados e salvamos o sistema de arquivos atualizado como uma imagem temporária.\n",
    "        </li>\n",
    "        <li>\n",
    "            CMD, basicamente, configura o main da imagem temporária e a consolida como a imagem final.\n",
    "        </li>\n",
    "    </ul>\n",
    " </div>"
   ]
  },
  {
   "cell_type": "markdown",
   "id": "f5d71df9-709e-41aa-b13e-474b7acac2c6",
   "metadata": {},
   "source": [
    "<h2 style='font-size:30px'> Rebuilds with Cache</h2>\n",
    "<div> \n",
    "    <ul style='font-size:20px'> \n",
    "        <li>\n",
    "            Todas as imagens intermediárias que mencionamos são armazenadas no cache de sua máquina. Caso você rode `docker build .` novamente, verá que o Docker apenas as resgatará.\n",
    "        </li>\n",
    "        <li>\n",
    "            Caso você edite o seu Dockerfile e faça uma nova imagem, o Docker aproveitará as imagens de todas as etapas anteriores às da linha de edição.\n",
    "        </li>\n",
    "    </ul>\n",
    " </div>"
   ]
  },
  {
   "cell_type": "code",
   "execution_count": 3,
   "id": "31d936a8-0827-4895-bd4b-0029e42d8dcd",
   "metadata": {},
   "outputs": [
    {
     "name": "stdout",
     "output_type": "stream",
     "text": [
      "[master 5d8bbfe] Mencionar processo de criação de uma imagem customizada (containers intermediários)\n",
      " 4 files changed, 102 insertions(+), 28 deletions(-)\n",
      " create mode 100644 img/03_dockerfile.png\n",
      " create mode 100644 projects/redis-image/.Dockerfile.swp\n",
      "Enumerating objects: 15, done.\n",
      "Counting objects: 100% (15/15), done.\n",
      "Delta compression using up to 24 threads\n",
      "Compressing objects: 100% (8/8), done.\n",
      "Writing objects: 100% (9/9), 15.46 KiB | 7.73 MiB/s, done.\n",
      "Total 9 (delta 4), reused 0 (delta 0), pack-reused 0\n",
      "remote: Resolving deltas: 100% (4/4), completed with 4 local objects.\u001b[K\n",
      "To https://github.com/felipesveiga/docker.git\n",
      "   57c7e5c..5d8bbfe  master -> master\n"
     ]
    }
   ],
   "source": [
    "! git add .\n",
    "! git commit -am 'Experimentar build da imagem, após edição do Dockerfile'\n",
    "! git push"
   ]
  },
  {
   "cell_type": "markdown",
   "id": "e0b7c417-3e8a-41ae-bad9-66649c2e2734",
   "metadata": {
    "editable": true,
    "slideshow": {
     "slide_type": ""
    },
    "tags": []
   },
   "source": [
    "<p style='color:red'> Vi Aulas 31 a 33; Experimentar build da imagem, após edição do Dockerfile; Aula 34</p>"
   ]
  }
 ],
 "metadata": {
  "kernelspec": {
   "display_name": "Python 3 (ipykernel)",
   "language": "python",
   "name": "python3"
  },
  "language_info": {
   "codemirror_mode": {
    "name": "ipython",
    "version": 3
   },
   "file_extension": ".py",
   "mimetype": "text/x-python",
   "name": "python",
   "nbconvert_exporter": "python",
   "pygments_lexer": "ipython3",
   "version": "3.10.12"
  }
 },
 "nbformat": 4,
 "nbformat_minor": 5
}
