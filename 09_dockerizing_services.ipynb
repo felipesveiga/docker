{
 "cells": [
  {
   "cell_type": "markdown",
   "id": "72998a83-129e-44a0-8d9e-480058434d98",
   "metadata": {},
   "source": [
    "<h1 style='font-size:40px'> Dockerizing Multiple Services</h1>"
   ]
  },
  {
   "cell_type": "markdown",
   "id": "dc216b10-120c-4672-844a-f72a2afb78e6",
   "metadata": {},
   "source": [
    "<h2 style='font-size:30px'> Dockerizing a React App - Again!</h2>\n",
    "<div> \n",
    "    <ul style='font-size:20px'> \n",
    "        <li>\n",
    "        </li>\n",
    "    </ul>\n",
    " </div>"
   ]
  },
  {
   "cell_type": "code",
   "execution_count": 2,
   "id": "dd990a3c-93ff-4f02-a40c-582d280a779a",
   "metadata": {
    "scrolled": true
   },
   "outputs": [
    {
     "name": "stdout",
     "output_type": "stream",
     "text": [
      "[master 0e5c63e] Aula 122 (2:10)\n",
      " 8 files changed, 114 insertions(+), 29 deletions(-)\n",
      " create mode 100644 img/09_warning.png\n",
      " create mode 100644 projects/complex/client/Dockerfile.dev\n",
      " create mode 100644 projects/complex/server/.Dockerfile.dev.swp\n",
      " create mode 100644 projects/complex/server/Dockerfile.dev\n",
      " create mode 100644 projects/complex/warning.md\n",
      "Enumerating objects: 24, done.\n",
      "Counting objects: 100% (24/24), done.\n",
      "Delta compression using up to 24 threads\n",
      "Compressing objects: 100% (15/15), done.\n",
      "Writing objects: 100% (15/15), 371.08 KiB | 30.92 MiB/s, done.\n",
      "Total 15 (delta 8), reused 0 (delta 0), pack-reused 0\n",
      "remote: Resolving deltas: 100% (8/8), completed with 7 local objects.\u001b[K\n",
      "To https://github.com/felipesveiga/docker.git\n",
      "   31f3303..0e5c63e  master -> master\n"
     ]
    }
   ],
   "source": [
    "! git add .\n",
    "! git commit -am 'Aula 125 (1:40)'\n",
    "! git push"
   ]
  },
  {
   "cell_type": "markdown",
   "id": "869c37b7-d411-41b5-b845-46ee261cf410",
   "metadata": {
    "editable": true,
    "slideshow": {
     "slide_type": ""
    },
    "tags": []
   },
   "source": [
    "<p style='color:red'> Vi Aula 122 a 124; Iniciei Aula 125; Aula 125 (1:40)</p>"
   ]
  }
 ],
 "metadata": {
  "kernelspec": {
   "display_name": "Python 3 (ipykernel)",
   "language": "python",
   "name": "python3"
  },
  "language_info": {
   "codemirror_mode": {
    "name": "ipython",
    "version": 3
   },
   "file_extension": ".py",
   "mimetype": "text/x-python",
   "name": "python",
   "nbconvert_exporter": "python",
   "pygments_lexer": "ipython3",
   "version": "3.10.12"
  }
 },
 "nbformat": 4,
 "nbformat_minor": 5
}
