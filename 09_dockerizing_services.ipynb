{
 "cells": [
  {
   "cell_type": "markdown",
   "id": "72998a83-129e-44a0-8d9e-480058434d98",
   "metadata": {},
   "source": [
    "<h1 style='font-size:40px'> Dockerizing Multiple Services</h1>"
   ]
  },
  {
   "cell_type": "markdown",
   "id": "dc216b10-120c-4672-844a-f72a2afb78e6",
   "metadata": {},
   "source": [
    "<h2 style='font-size:30px'> Dockerizing a React App - Again!</h2>\n",
    "<div> \n",
    "    <ul style='font-size:20px'> \n",
    "        <li>\n",
    "        </li>\n",
    "    </ul>\n",
    " </div>"
   ]
  },
  {
   "cell_type": "code",
   "execution_count": 1,
   "id": "dd990a3c-93ff-4f02-a40c-582d280a779a",
   "metadata": {},
   "outputs": [
    {
     "name": "stdout",
     "output_type": "stream",
     "text": [
      "[master 4b64ffa] Aula 104\n",
      " 3 files changed, 97 insertions(+), 18 deletions(-)\n",
      " create mode 100644 .ipynb_checkpoints/08_multi_container-checkpoint.ipynb\n",
      " create mode 100644 08_multi_container.ipynb\n",
      "Enumerating objects: 9, done.\n",
      "Counting objects: 100% (9/9), done.\n",
      "Delta compression using up to 24 threads\n",
      "Compressing objects: 100% (6/6), done.\n",
      "Writing objects: 100% (6/6), 1.01 KiB | 1.01 MiB/s, done.\n",
      "Total 6 (delta 4), reused 0 (delta 0), pack-reused 0\n",
      "remote: Resolving deltas: 100% (4/4), completed with 3 local objects.\u001b[K\n",
      "To https://github.com/felipesveiga/docker.git\n",
      "   4987b3d..4b64ffa  master -> master\n"
     ]
    }
   ],
   "source": [
    "! git add .\n",
    "! git commit -am 'Pôr conteúdo Aula 120 num .md'\n",
    "! git push"
   ]
  },
  {
   "cell_type": "markdown",
   "id": "869c37b7-d411-41b5-b845-46ee261cf410",
   "metadata": {
    "editable": true,
    "slideshow": {
     "slide_type": ""
    },
    "tags": []
   },
   "source": [
    "<p style='color:red'> Vi Introdução à Seção 8; Iniciei Seção 9; Pôr conteúdo Aula 120 num .md; Aula 121</p>"
   ]
  }
 ],
 "metadata": {
  "kernelspec": {
   "display_name": "Python 3 (ipykernel)",
   "language": "python",
   "name": "python3"
  },
  "language_info": {
   "codemirror_mode": {
    "name": "ipython",
    "version": 3
   },
   "file_extension": ".py",
   "mimetype": "text/x-python",
   "name": "python",
   "nbconvert_exporter": "python",
   "pygments_lexer": "ipython3",
   "version": "3.10.12"
  }
 },
 "nbformat": 4,
 "nbformat_minor": 5
}
