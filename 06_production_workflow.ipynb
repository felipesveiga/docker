{
 "cells": [
  {
   "cell_type": "markdown",
   "id": "6f21aa47-cb73-4eed-8f8b-73c38aa48b3a",
   "metadata": {},
   "source": [
    "<h1 style='font-size:40px'> \n",
    " Creating a Production-Grade Workflow</h1>"
   ]
  },
  {
   "cell_type": "markdown",
   "id": "d1d3b8e6-4ec8-468a-b70a-f897e69a9005",
   "metadata": {},
   "source": [
    "<h2 style='font-size:30px'> Development Workflow</h2>\n",
    "<div> \n",
    "    <ul style='font-size:20px'> \n",
    "        <li>\n",
    "            Vamos agora criar um projeto de uma maneira mais profissional. Ele envolverá um deploy em um provdedor de nuvem (AWS), e a concepção de uma esteira de CI/CD.\n",
    "        </li>\n",
    "    </ul>\n",
    " </div>"
   ]
  },
  {
   "cell_type": "markdown",
   "id": "a5d51307-08ac-4a19-9989-aca347ee3b5f",
   "metadata": {},
   "source": [
    "<h2 style='font-size:30px'> Flow Specifics</h2>\n",
    "<div> \n",
    "    <ul style='font-size:20px'> \n",
    "        <li>\n",
    "            Nós desenvolveremos nosso software num repo de duas branches (feature e master). Quando atualizarmos nossa feature, criaremos um Pull Request para fazermos um merge com a master. \n",
    "        </li>\n",
    "        <li>\n",
    "            Para o merge ser permitido, passaremos o código da feature num pequeno fluxo de testes no Travis CI. Esse fará o deploy na AWS, caso tudo esteja certo.\n",
    "        </li>\n",
    "        <li> \n",
    "            Utilizaremos o Docker como ferramenta auxiliadora nessas tarefas.\n",
    "        </li>\n",
    "    </ul>\n",
    " </div>"
   ]
  },
  {
   "cell_type": "markdown",
   "id": "f62fd8d5-c43f-45c9-807e-8082c004b084",
   "metadata": {},
   "source": [
    "<h2 style='font-size:30px'> Project Generation</h2>\n",
    "<div> \n",
    "    <ul style='font-size:20px'> \n",
    "        <li>\n",
    "            Toda a arquitetura de desenvolvimento apresentada será baseada num projeto NodeJS. Você deverá tê-lo instalado para iniciar o trabalho.\n",
    "        </li>\n",
    "    </ul>\n",
    " </div>"
   ]
  },
  {
   "cell_type": "code",
   "execution_count": 1,
   "id": "7fba7ece-3a85-4e84-8748-308e1c869873",
   "metadata": {},
   "outputs": [
    {
     "name": "stdout",
     "output_type": "stream",
     "text": [
      "[master b7acec9] Iniciar seção 6\n",
      " 8 files changed, 237 insertions(+), 76 deletions(-)\n",
      " create mode 100644 .ipynb_checkpoints/06_production_workflow-checkpoint.ipynb\n",
      " create mode 100644 06_production_workflow.ipynb\n",
      " create mode 100644 img/05_restart_policies.png\n",
      "Enumerating objects: 18, done.\n",
      "Counting objects: 100% (18/18), done.\n",
      "Delta compression using up to 24 threads\n",
      "Compressing objects: 100% (11/11), done.\n",
      "Writing objects: 100% (11/11), 36.94 KiB | 36.94 MiB/s, done.\n",
      "Total 11 (delta 8), reused 0 (delta 0), pack-reused 0\n",
      "remote: Resolving deltas: 100% (8/8), completed with 7 local objects.\u001b[K\n",
      "To https://github.com/felipesveiga/docker.git\n",
      "   a4acfc1..b7acec9  master -> master\n"
     ]
    }
   ],
   "source": [
    "! git add .\n",
    "! git commit -am 'Instalar NodeJS'\n",
    "! git push"
   ]
  },
  {
   "cell_type": "markdown",
   "id": "e59a2ff2-0939-4b04-baa4-6c09dd62814e",
   "metadata": {
    "editable": true,
    "slideshow": {
     "slide_type": ""
    },
    "tags": []
   },
   "source": [
    "<p style='color:red'> Vi Aulas 59 e 62; Instalar NodeJS; Aula 63</p>"
   ]
  }
 ],
 "metadata": {
  "kernelspec": {
   "display_name": "Python 3 (ipykernel)",
   "language": "python",
   "name": "python3"
  },
  "language_info": {
   "codemirror_mode": {
    "name": "ipython",
    "version": 3
   },
   "file_extension": ".py",
   "mimetype": "text/x-python",
   "name": "python",
   "nbconvert_exporter": "python",
   "pygments_lexer": "ipython3",
   "version": "3.10.12"
  }
 },
 "nbformat": 4,
 "nbformat_minor": 5
}
