{
 "cells": [
  {
   "cell_type": "markdown",
   "id": "6f21aa47-cb73-4eed-8f8b-73c38aa48b3a",
   "metadata": {},
   "source": [
    "<h1 style='font-size:40px'> \n",
    " Creating a Production-Grade Workflow</h1>"
   ]
  },
  {
   "cell_type": "markdown",
   "id": "d1d3b8e6-4ec8-468a-b70a-f897e69a9005",
   "metadata": {},
   "source": [
    "<h2 style='font-size:30px'> Development Workflow</h2>\n",
    "<div> \n",
    "    <ul style='font-size:20px'> \n",
    "        <li>\n",
    "            Vamos agora criar um projeto de uma maneira mais profissional. Ele envolverá um deploy em um provdedor de nuvem (AWS), e a concepção de uma esteira de CI/CD.\n",
    "        </li>\n",
    "    </ul>\n",
    " </div>"
   ]
  },
  {
   "cell_type": "markdown",
   "id": "a5d51307-08ac-4a19-9989-aca347ee3b5f",
   "metadata": {},
   "source": [
    "<h2 style='font-size:30px'> Flow Specifics</h2>\n",
    "<div> \n",
    "    <ul style='font-size:20px'> \n",
    "        <li>\n",
    "            Nós desenvolveremos nosso software num repo de duas branches (feature e master). Quando atualizarmos nossa feature, criaremos um Pull Request para fazermos um merge com a master. \n",
    "        </li>\n",
    "        <li>\n",
    "            Para o merge ser permitido, passaremos o código da feature num pequeno fluxo de testes no Travis CI. Esse fará o deploy na master e AWS, caso tudo esteja certo.\n",
    "        </li>\n",
    "        <li> \n",
    "            Utilizaremos o Docker como ferramenta auxiliadora nessas tarefas.\n",
    "        </li>\n",
    "    </ul>\n",
    " </div>"
   ]
  },
  {
   "cell_type": "markdown",
   "id": "f62fd8d5-c43f-45c9-807e-8082c004b084",
   "metadata": {},
   "source": [
    "<h2 style='font-size:30px'> Project Generation</h2>\n",
    "<div> \n",
    "    <ul style='font-size:20px'> \n",
    "        <li>\n",
    "            Toda a arquitetura de desenvolvimento apresentada será baseada num projeto NodeJS. Você deverá tê-lo instalado para iniciar o trabalho.\n",
    "        </li>\n",
    "    </ul>\n",
    " </div>"
   ]
  },
  {
   "cell_type": "markdown",
   "id": "c60a8eba-c90b-45a7-817b-fc30fc85f59c",
   "metadata": {},
   "source": [
    "<h2 style='font-size:30px'> Necessary Commands</h2>\n",
    "<div> \n",
    "    <ul style='font-size:20px'> \n",
    "        <li>\n",
    "            Somos apresentados aos principais comandos npm que devem ser executados por nós, ao longo do projeto.\n",
    "            <ul> \n",
    "                <li>\n",
    "                    <i> npm run start:</i> inicializa um servidor de desenvolvimento.\n",
    "                </li>\n",
    "                <li>\n",
    "                    <i> npm run test:</i> acionamento de testes do projeto.\n",
    "                </li>\n",
    "                <li>\n",
    "                    <i> npm run build:</i> cria uma versão para produção da aplicação.\n",
    "                </li>\n",
    "            </ul>\n",
    "        </li>\n",
    "    </ul>\n",
    " </div>"
   ]
  },
  {
   "cell_type": "markdown",
   "id": "ceffbd36-a4af-40ff-80fc-4aae0c350000",
   "metadata": {},
   "source": [
    "<h2 style='font-size:30px'> Creating the Dev Dockerfile</h2>\n",
    "<div> \n",
    "    <ul style='font-size:20px'> \n",
    "        <li>\n",
    "            Vamos desenvolver um arquivo Dockerfile.dev, que conterá o código do container em DEV. Basicamente, sua principal diferença com o de PROD é o acionamento de `npm run start`.\n",
    "        </li>\n",
    "        <li>\n",
    "            Como não se trata de um Dockerfile pleno, o build padrão falhará. Para que o Docker construa nossa imagem com nosso arquivo provisório, deveremos fazer o build com `docker build -f Dockerfile.dev .`  \n",
    "        </li>\n",
    "    </ul>\n",
    " </div>"
   ]
  },
  {
   "cell_type": "code",
   "execution_count": 1,
   "id": "7fba7ece-3a85-4e84-8748-308e1c869873",
   "metadata": {},
   "outputs": [
    {
     "name": "stdout",
     "output_type": "stream",
     "text": [
      "[master 5b26043] Aula 64\n",
      " 20 files changed, 18618 insertions(+), 15 deletions(-)\n",
      " create mode 100644 projects/frontend/.gitignore\n",
      " create mode 100644 projects/frontend/README.md\n",
      " create mode 100644 projects/frontend/package-lock.json\n",
      " create mode 100644 projects/frontend/package.json\n",
      " create mode 100644 projects/frontend/public/favicon.ico\n",
      " create mode 100644 projects/frontend/public/index.html\n",
      " create mode 100644 projects/frontend/public/logo192.png\n",
      " create mode 100644 projects/frontend/public/logo512.png\n",
      " create mode 100644 projects/frontend/public/manifest.json\n",
      " create mode 100644 projects/frontend/public/robots.txt\n",
      " create mode 100644 projects/frontend/src/App.css\n",
      " create mode 100644 projects/frontend/src/App.js\n",
      " create mode 100644 projects/frontend/src/App.test.js\n",
      " create mode 100644 projects/frontend/src/index.css\n",
      " create mode 100644 projects/frontend/src/index.js\n",
      " create mode 100644 projects/frontend/src/logo.svg\n",
      " create mode 100644 projects/frontend/src/reportWebVitals.js\n",
      " create mode 100644 projects/frontend/src/setupTests.js\n",
      "Enumerating objects: 32, done.\n",
      "Counting objects: 100% (31/31), done.\n",
      "Delta compression using up to 24 threads\n",
      "Compressing objects: 100% (27/27), done.\n",
      "Writing objects: 100% (27/27), 181.38 KiB | 16.49 MiB/s, done.\n",
      "Total 27 (delta 3), reused 0 (delta 0), pack-reused 0\n",
      "remote: Resolving deltas: 100% (3/3), completed with 3 local objects.\u001b[K\n",
      "To https://github.com/felipesveiga/docker.git\n",
      "   e7dee55..5b26043  master -> master\n"
     ]
    }
   ],
   "source": [
    "! git add .\n",
    "! git commit -am 'Aula 64'\n",
    "! git push"
   ]
  },
  {
   "cell_type": "markdown",
   "id": "e59a2ff2-0939-4b04-baa4-6c09dd62814e",
   "metadata": {
    "editable": true,
    "slideshow": {
     "slide_type": ""
    },
    "tags": []
   },
   "source": [
    "<p style='color:red'> VI Aulas 64 e 65; Aula 66</p>"
   ]
  }
 ],
 "metadata": {
  "kernelspec": {
   "display_name": "Python 3 (ipykernel)",
   "language": "python",
   "name": "python3"
  },
  "language_info": {
   "codemirror_mode": {
    "name": "ipython",
    "version": 3
   },
   "file_extension": ".py",
   "mimetype": "text/x-python",
   "name": "python",
   "nbconvert_exporter": "python",
   "pygments_lexer": "ipython3",
   "version": "3.10.12"
  }
 },
 "nbformat": 4,
 "nbformat_minor": 5
}
