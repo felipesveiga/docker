{
 "cells": [
  {
   "cell_type": "markdown",
   "id": "1518c6ee-d6f8-4ec9-ab8a-d39ae8837da2",
   "metadata": {},
   "source": [
    "<h1 style='font-size:40px'> Section 10: A Continuous Integration Workflow for Multiple Images</h1>"
   ]
  }
 ],
 "metadata": {
  "kernelspec": {
   "display_name": "Python 3 (ipykernel)",
   "language": "python",
   "name": "python3"
  },
  "language_info": {
   "codemirror_mode": {
    "name": "ipython",
    "version": 3
   },
   "file_extension": ".py",
   "mimetype": "text/x-python",
   "name": "python",
   "nbconvert_exporter": "python",
   "pygments_lexer": "ipython3",
   "version": "3.10.12"
  }
 },
 "nbformat": 4,
 "nbformat_minor": 5
}
