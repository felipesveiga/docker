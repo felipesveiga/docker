{
 "cells": [
  {
   "cell_type": "markdown",
   "id": "1518c6ee-d6f8-4ec9-ab8a-d39ae8837da2",
   "metadata": {},
   "source": [
    "<h1 style='font-size:40px'> A Continuous Integration Workflow for Multiple Images</h1>"
   ]
  },
  {
   "cell_type": "markdown",
   "id": "4f28fd7b-80a4-4bf6-8d59-4990ed6466dc",
   "metadata": {},
   "source": [
    "<h2 style='font-size:30px'> Production Multi-Container Deployments</h2>\n",
    "<div> \n",
    "    <ul style='font-size:20px'> \n",
    "        <li>\n",
    "            Nesta seção, criaremos o fluxo de deployment de nossa aplicação para o ambiente de produção. Uma vez feito o push, o Travis criará uma imagem de testes para realizar experimentos no código.\n",
    "        </li>\n",
    "        <li>\n",
    "            Caso os testes passem, o Travis construirá uma imagem de produção e a encaminhará ao Docker Hub. O código da aplicação será levado ao AWS EB, o qual fará o download da imagem do Docker Hub.\n",
    "        </li>\n",
    "    </ul>\n",
    " </div>"
   ]
  },
  {
   "cell_type": "code",
   "execution_count": 2,
   "id": "dd990a3c-93ff-4f02-a40c-582d280a779a",
   "metadata": {
    "scrolled": true
   },
   "outputs": [
    {
     "name": "stdout",
     "output_type": "stream",
     "text": [
      "[master a20df3d] Aula 138\n",
      " 2 files changed, 134 insertions(+), 2 deletions(-)\n",
      "Enumerating objects: 7, done.\n",
      "Counting objects: 100% (7/7), done.\n",
      "Delta compression using up to 24 threads\n",
      "Compressing objects: 100% (4/4), done.\n",
      "Writing objects: 100% (4/4), 1.58 KiB | 1.58 MiB/s, done.\n",
      "Total 4 (delta 2), reused 0 (delta 0), pack-reused 0\n",
      "remote: Resolving deltas: 100% (2/2), completed with 2 local objects.\u001b[K\n",
      "To https://github.com/felipesveiga/docker.git\n",
      "   c91511d..a20df3d  master -> master\n"
     ]
    }
   ],
   "source": [
    "! git add .\n",
    "! git commit -am 'Aula 141'\n",
    "! git push"
   ]
  },
  {
   "cell_type": "markdown",
   "id": "f1bf4c6e-66c8-48b0-9292-0c023caf1f7e",
   "metadata": {
    "editable": true,
    "slideshow": {
     "slide_type": ""
    },
    "tags": []
   },
   "source": [
    "<p style='color:red'> Vi Aula 138 a 140; Aula 141</p>"
   ]
  }
 ],
 "metadata": {
  "kernelspec": {
   "display_name": "Python 3 (ipykernel)",
   "language": "python",
   "name": "python3"
  },
  "language_info": {
   "codemirror_mode": {
    "name": "ipython",
    "version": 3
   },
   "file_extension": ".py",
   "mimetype": "text/x-python",
   "name": "python",
   "nbconvert_exporter": "python",
   "pygments_lexer": "ipython3",
   "version": "3.10.12"
  }
 },
 "nbformat": 4,
 "nbformat_minor": 5
}
