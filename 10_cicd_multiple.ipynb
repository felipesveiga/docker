{
 "cells": [
  {
   "cell_type": "markdown",
   "id": "1518c6ee-d6f8-4ec9-ab8a-d39ae8837da2",
   "metadata": {},
   "source": [
    "<h1 style='font-size:40px'> A Continuous Integration Workflow for Multiple Images</h1>"
   ]
  },
  {
   "cell_type": "markdown",
   "id": "4f28fd7b-80a4-4bf6-8d59-4990ed6466dc",
   "metadata": {},
   "source": [
    "<h2 style='font-size:30px'> Production Multi-Container Deployments</h2>\n",
    "<div> \n",
    "    <ul style='font-size:20px'> \n",
    "        <li>\n",
    "            Nesta seção, criaremos o fluxo de deployment de nossa aplicação para o ambiente de produção. Uma vez feito o push, o Travis criará uma imagem de testes para realizar experimentos no código.\n",
    "        </li>\n",
    "        <li>\n",
    "            Caso os testes passem, o Travis construirá uma imagem de produção e a encaminhará ao Docker Hub. O código da aplicação será levado ao AWS EB, o qual fará o download da imagem do Docker Hub.\n",
    "        </li>\n",
    "    </ul>\n",
    " </div>"
   ]
  },
  {
   "cell_type": "code",
   "execution_count": 3,
   "id": "dd990a3c-93ff-4f02-a40c-582d280a779a",
   "metadata": {
    "scrolled": true
   },
   "outputs": [
    {
     "name": "stdout",
     "output_type": "stream",
     "text": [
      "[master 2edcd36] Aula 141\n",
      " 6 files changed, 47 insertions(+), 28 deletions(-)\n",
      " create mode 100644 projects/complex/client/nginx/default.conf\n",
      " create mode 100644 projects/complex/nginx/Dockerfile\n",
      " create mode 100644 projects/complex/server/Dockerfile\n",
      " create mode 100644 projects/complex/worker/Dockerfile\n",
      "Enumerating objects: 22, done.\n",
      "Counting objects: 100% (22/22), done.\n",
      "Delta compression using up to 24 threads\n",
      "Compressing objects: 100% (12/12), done.\n",
      "Writing objects: 100% (13/13), 1.43 KiB | 1.43 MiB/s, done.\n",
      "Total 13 (delta 7), reused 0 (delta 0), pack-reused 0\n",
      "remote: Resolving deltas: 100% (7/7), completed with 7 local objects.\u001b[K\n",
      "To https://github.com/felipesveiga/docker.git\n",
      "   a20df3d..2edcd36  master -> master\n"
     ]
    }
   ],
   "source": [
    "! git add .\n",
    "! git commit -am 'Aula 141'\n",
    "! git push"
   ]
  },
  {
   "cell_type": "markdown",
   "id": "f1bf4c6e-66c8-48b0-9292-0c023caf1f7e",
   "metadata": {
    "editable": true,
    "slideshow": {
     "slide_type": ""
    },
    "tags": []
   },
   "source": [
    "<p style='color:red'> Vi Aula 138 a 140; Aula 141</p>"
   ]
  }
 ],
 "metadata": {
  "kernelspec": {
   "display_name": "Python 3 (ipykernel)",
   "language": "python",
   "name": "python3"
  },
  "language_info": {
   "codemirror_mode": {
    "name": "ipython",
    "version": 3
   },
   "file_extension": ".py",
   "mimetype": "text/x-python",
   "name": "python",
   "nbconvert_exporter": "python",
   "pygments_lexer": "ipython3",
   "version": "3.10.12"
  }
 },
 "nbformat": 4,
 "nbformat_minor": 5
}
