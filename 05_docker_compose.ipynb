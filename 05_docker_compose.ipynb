{
 "cells": [
  {
   "cell_type": "markdown",
   "id": "38f58594-775f-4c91-940e-40a0b93dc615",
   "metadata": {},
   "source": [
    "<h1 style='font-size:40px'> \n",
    " Docker Compose with Multiple Local Containers</h1>"
   ]
  },
  {
   "cell_type": "markdown",
   "id": "c69407fe-b383-4e39-9535-b3e9b69d0518",
   "metadata": {},
   "source": [
    "<h2 style='font-size:30px'> App Overview</h2>\n",
    "<div> \n",
    "    <ul style='font-size:20px'> \n",
    "        <li>\n",
    "            O projeto desta seção envolverá a criação de dois containers. O primeiro hospedará um site, enquanto o segundo uma base de dados Redis com a contagem de visitas à página. \n",
    "        </li>\n",
    "    </ul>\n",
    " </div>"
   ]
  },
  {
   "cell_type": "markdown",
   "id": "91b82d1e-1f0a-4bf7-aff1-b5cd090e41e6",
   "metadata": {},
   "source": [
    "<h2 style='font-size:30px'>  App Server Starter Code</h2>\n",
    "<div> \n",
    "    <ul style='font-size:20px'> \n",
    "        <li>\n",
    "            Aula em que escrevemos os arquivos de nosso servidor web.\n",
    "        </li>\n",
    "    </ul>\n",
    " </div>"
   ]
  },
  {
   "cell_type": "markdown",
   "id": "5fb5ca50-3ba4-4547-9774-79765a0daad6",
   "metadata": {},
   "source": [
    "<h2 style='font-size:30px'>  Introducing Docker Compose</h2>\n",
    "<div> \n",
    "    <ul style='font-size:20px'> \n",
    "        <li>\n",
    "            A comunicação entre dois containers deverá se dar por meio de uma rede. Para criá-la, utilizaremos a CLI `docker-compose`.\n",
    "        </li>\n",
    "        <li>\n",
    "            O objetivo dessa CLI é simplificar execução de tarefas complexas em nossas aplicações Docker. Com ela, nós prontamente criaremos os dois containers, com uma rede interna.\n",
    "        </li>\n",
    "    </ul>\n",
    " </div>"
   ]
  },
  {
   "cell_type": "markdown",
   "id": "2cb172ca-b578-4602-8f6f-a1519724e44e",
   "metadata": {},
   "source": [
    "<h2 style='font-size:30px'> Docker Compose Files</h2>\n",
    "<div> \n",
    "    <ul style='font-size:20px'> \n",
    "        <li>\n",
    "            A execução do `docker-compose` é configurada dentro de um arquivo docker-compose.yml.\n",
    "        </li>\n",
    "        <li>\n",
    "            Em essência, você deverá especificar duas chaves principais: \"version\", com a versão do docker-compose que queremos utilizar, e \"services\", que, em essência, contém as configurações de cada container desejado.\n",
    "        </li>\n",
    "        <li>\n",
    "            A CLI do docker-compose já criará uma rede conectando os containers especificados. Caso queira acessar uma VM de outra, você pode fazer uma requisição, tendo como endereço o nome da máquina de destino. \n",
    "        </li>\n",
    "    </ul>\n",
    "    <center style='margin-top:20px'> \n",
    "        <figure>\n",
    "            <img src='img/05_docker_compose.png'>\n",
    "            <figcaption> Exemplo de um docker-compose.yml</figcaption>\n",
    "        </figure>\n",
    "    </center>\n",
    " </div>"
   ]
  },
  {
   "cell_type": "markdown",
   "id": "86dc5cea-58d3-4346-98c8-d60770e2a0d3",
   "metadata": {},
   "source": [
    "<h2 style='font-size:30px'> Networking with Docker Compose</h2>\n",
    "<div> \n",
    "    <ul style='font-size:20px'> \n",
    "        <li>\n",
    "            Configurando nosso index.js, para que ele faça requisições ao container do Redis.\n",
    "        </li>\n",
    "    </ul>\n",
    " </div>"
   ]
  },
  {
   "cell_type": "markdown",
   "id": "eda803ca-8fab-465c-a3c7-e0c0e914476d",
   "metadata": {},
   "source": [
    " <center style='margin-top:20px'>\n",
    "            <img src='img/05_redis_host.png'>\n",
    "    </center>"
   ]
  },
  {
   "cell_type": "markdown",
   "id": "9c6a4246-e18c-4d2c-91af-126454de6f5d",
   "metadata": {
    "jp-MarkdownHeadingCollapsed": true
   },
   "source": [
    "<h2 style='font-size:30px'> Docker Compose Commands</h2>\n",
    "<div> \n",
    "    <ul style='font-size:20px'> \n",
    "        <li>\n",
    "            A inicialização da nossa rede de containers se dará com o comando `docker-compose up`. Ele criará todas as imagens e VM's necessárias e estabelecerá as suas conexões.\n",
    "        </li>\n",
    "        <li>\n",
    "            Acrescente `-d` para que os containers sejam executados em segundo plano, sem ter que inabilitar o seu terminal atual.\n",
    "        </li>\n",
    "        <li>\n",
    "            Caso você tenha feito alguma alteração no código-fonte de sua imagem, use `--build` a fim de garantir que ela seja reconstruída na inicialização do container.\n",
    "        </li>\n",
    "    </ul>\n",
    " </div>"
   ]
  },
  {
   "cell_type": "markdown",
   "id": "dc5191f4-e953-479e-b371-e556823ccb08",
   "metadata": {},
   "source": [
    "<h2 style='font-size:30px'> Stopping Docker Compose Containers</h2>\n",
    "<div> \n",
    "    <ul style='font-size:20px'> \n",
    "        <li>\n",
    "            Para desligar todos os containers de sua rede, utilize `docker-compose down`.\n",
    "        </li>\n",
    "    </ul>\n",
    " </div>"
   ]
  },
  {
   "cell_type": "markdown",
   "id": "4ae5f0ad-6cab-492f-ac55-68fe33f2c167",
   "metadata": {},
   "source": [
    "<h2 style='font-size:30px'> Automatic Container Restarts</h2>\n",
    "<div> \n",
    "    <ul style='font-size:20px'> \n",
    "        <li>\n",
    "            O docker-compose oferece alguma políticas de reinicialização de nossos containers. Especifique-as, dentro de seu docker-compose.yml, dentro da chave de seu container com a tag `restart`.\n",
    "        </li>\n",
    "    </ul>\n",
    " </div>"
   ]
  },
  {
   "cell_type": "markdown",
   "id": "b46c54d1-84d7-4451-ab5a-3a0c6f66c548",
   "metadata": {},
   "source": [
    "<center style='margin-top:20px'> \n",
    "        <figure>\n",
    "            <img src='img/05_restart_policies.png'>\n",
    "            <figcaption> Observe que devemos passar \"no\" com aspas. Caso o contrário, a sintaxe .yml o interpretará como um False.</figcaption>\n",
    "        </figure>\n",
    "    </center>"
   ]
  },
  {
   "cell_type": "markdown",
   "id": "c8296e59-5eff-4acf-b073-fd484e0b323a",
   "metadata": {},
   "source": [
    "<h2 style='font-size:30px'> Container Status with Docker Compose</h2>\n",
    "<div> \n",
    "    <ul style='font-size:20px'> \n",
    "        <li>\n",
    "            Assim como a CLI Docker, a do docker-compose possui um comando `ps`, que listará o status de execução dos containers do seu projeto.\n",
    "        </li>\n",
    "        <li>\n",
    "            Note que, para que o `docker-compose ps` funcione, você precisará estar no mesmo diretório que o seu docker-compose.yml. Senão, você receberá um erro.\n",
    "        </li>\n",
    "    </ul>\n",
    " </div>"
   ]
  }
 ],
 "metadata": {
  "kernelspec": {
   "display_name": "Python 3 (ipykernel)",
   "language": "python",
   "name": "python3"
  },
  "language_info": {
   "codemirror_mode": {
    "name": "ipython",
    "version": 3
   },
   "file_extension": ".py",
   "mimetype": "text/x-python",
   "name": "python",
   "nbconvert_exporter": "python",
   "pygments_lexer": "ipython3",
   "version": "3.10.12"
  }
 },
 "nbformat": 4,
 "nbformat_minor": 5
}
