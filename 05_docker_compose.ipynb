{
 "cells": [
  {
   "cell_type": "markdown",
   "id": "38f58594-775f-4c91-940e-40a0b93dc615",
   "metadata": {},
   "source": [
    "<h1 style='font-size:40px'> \n",
    " Docker Compose with Multiple Local Containers</h1>"
   ]
  },
  {
   "cell_type": "markdown",
   "id": "c69407fe-b383-4e39-9535-b3e9b69d0518",
   "metadata": {},
   "source": [
    "<h2 style='font-size:30px'> App Overview</h2>\n",
    "<div> \n",
    "    <ul style='font-size:20px'> \n",
    "        <li>\n",
    "            O projeto desta seção envolverá a criação de dois containers. O primeiro hospedará um site, enquanto o segundo uma base de dados Redis com a contagem de visitas à página. \n",
    "        </li>\n",
    "    </ul>\n",
    " </div>"
   ]
  },
  {
   "cell_type": "markdown",
   "id": "91b82d1e-1f0a-4bf7-aff1-b5cd090e41e6",
   "metadata": {},
   "source": [
    "<h2 style='font-size:30px'>  App Server Starter Code</h2>\n",
    "<div> \n",
    "    <ul style='font-size:20px'> \n",
    "        <li>\n",
    "            Aula em que escrevemos os arquivos de nosso servidor web.\n",
    "        </li>\n",
    "    </ul>\n",
    " </div>"
   ]
  },
  {
   "cell_type": "code",
   "execution_count": 1,
   "id": "085947e5-c076-432d-bb4f-a0daa1a8cf2a",
   "metadata": {},
   "outputs": [
    {
     "name": "stdout",
     "output_type": "stream",
     "text": [
      "[master 7bee814] Aula 49 (2:40)\n",
      " 7 files changed, 223 insertions(+), 80 deletions(-)\n",
      " create mode 100644 .ipynb_checkpoints/05_docker_compose-checkpoint.ipynb\n",
      " create mode 100644 05_docker_compose.ipynb\n",
      " create mode 100644 projects/visits/.index.js.swp\n",
      " create mode 100644 projects/visits/.package.json.swp\n",
      " create mode 100644 projects/visits/package.json\n",
      "Enumerating objects: 14, done.\n",
      "Counting objects: 100% (14/14), done.\n",
      "Delta compression using up to 24 threads\n",
      "Compressing objects: 100% (10/10), done.\n",
      "Writing objects: 100% (10/10), 2.12 KiB | 2.12 MiB/s, done.\n",
      "Total 10 (delta 5), reused 0 (delta 0), pack-reused 0\n",
      "remote: Resolving deltas: 100% (5/5), completed with 3 local objects.\u001b[K\n",
      "To https://github.com/felipesveiga/docker.git\n",
      "   ec807a4..7bee814  master -> master\n"
     ]
    }
   ],
   "source": [
    "! git add .\n",
    "! git commit -am 'Aula 51'\n",
    "! git push"
   ]
  },
  {
   "cell_type": "markdown",
   "id": "c5fb07f2-f597-40eb-be62-8b03591992fd",
   "metadata": {
    "editable": true,
    "slideshow": {
     "slide_type": ""
    },
    "tags": []
   },
   "source": [
    "<p style='color:red'> Vi Aulas 49 e 50; Aula 51</p>"
   ]
  }
 ],
 "metadata": {
  "kernelspec": {
   "display_name": "Python 3 (ipykernel)",
   "language": "python",
   "name": "python3"
  },
  "language_info": {
   "codemirror_mode": {
    "name": "ipython",
    "version": 3
   },
   "file_extension": ".py",
   "mimetype": "text/x-python",
   "name": "python",
   "nbconvert_exporter": "python",
   "pygments_lexer": "ipython3",
   "version": "3.10.12"
  }
 },
 "nbformat": 4,
 "nbformat_minor": 5
}
