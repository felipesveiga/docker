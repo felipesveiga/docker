{
 "cells": [
  {
   "cell_type": "markdown",
   "id": "dcc8c93b-342e-403c-aa6d-750289983e5f",
   "metadata": {},
   "source": [
    "<h1 style='font-size:40px'> Onwards to Kubernetes!</h1>"
   ]
  },
  {
   "cell_type": "markdown",
   "id": "b777aedf-e7e9-4106-a11f-0d03c078b486",
   "metadata": {},
   "source": [
    "<h2 style='font-size:30px'> \n",
    "    The Why's and What's of Kubernetes</h2>\n",
    "<div> \n",
    "    <ul style='font-size:20px'> \n",
    "        <li>\n",
    "            O Kubernetes é uma tecnologia de escalabilidade de containers. Quando uma determinada instância é sobrecarregada, o software pode criar uma nova.\n",
    "        </li>\n",
    "        <li>\n",
    "            O software cria máquinas virtuais (ou nós), que hospedarão múltiplos containers. As funcionalidades de cada nó são gerenciadas pela entidade Master.\n",
    "        </li>\n",
    "        <li>\n",
    "            A agregação de nós com um Master é conhecida como Cluster.\n",
    "            <center style='font-size:20px;margin-top:20px'> \n",
    "                 <img src='img/12_kubernetes_diagram.png'>\n",
    "            </center>\n",
    "        </li>\n",
    "    </ul>\n",
    " </div>"
   ]
  },
  {
   "cell_type": "markdown",
   "id": "578f3f6c-de84-4553-9159-83f5a9fb0c87",
   "metadata": {},
   "source": [
    "<h2 style='font-size:30px'> \n",
    "    Kubernetes in Development and Production</h2>\n",
    "<div> \n",
    "    <ul style='font-size:20px'> \n",
    "        <li>\n",
    "            Lidar com clusters Kubernetes no ambiente de dev ou prod requer soluções diferentes. Em nossa máquina local, usamos o minikube para gerenciar os nós; já em ambientes de nuvem, costumamos usar a solução do provedor (EKS).\n",
    "        </li>\n",
    "        <li>\n",
    "            Devemos ainda contar com outro software (o kubectl) para o gerenciamento dos containers dos nós.\n",
    "        </li>\n",
    "    </ul>\n",
    " </div>"
   ]
  },
  {
   "cell_type": "markdown",
   "id": "f334ee84-1a57-4c5a-8c1d-3e2f0b90d33d",
   "metadata": {},
   "source": [
    "<h2 style='font-size:30px'> \n",
    "    Mapping Existing Knowledge</h2>\n",
    "<div> \n",
    "    <ul style='font-size:20px'> \n",
    "        <li>\n",
    "            Esta seção será dedicada ao deployment da aplicação feita na parte 10 do curso com Kubernetes.\n",
    "        </li>\n",
    "        <li>\n",
    "            Vale mencionar que o Kubernetes possui algumas particularidades: todas as imagens deverão já estar construídas e a rede de containers/clusters terá que ser manualmente criada por nós.\n",
    "        </li>\n",
    "        <li>\n",
    "            Com relação às imagens, elas deverão estar publicadas no Docker Hub. O Kubernetes não reconhece imagens na máquina local.\n",
    "        </li>\n",
    "    </ul>\n",
    " </div>"
   ]
  },
  {
   "cell_type": "markdown",
   "id": "ec01e291-e30e-4a59-a38a-dd39c6a7805b",
   "metadata": {},
   "source": [
    "<h2 style='font-size:30px'> \n",
    "    Object Types and API Versions</h2>\n",
    "<div> \n",
    "    <ul style='font-size:20px'> \n",
    "        <li>\n",
    "            Todos os arquivos de configuração do Kubernetes parametrizam um objeto dentro de nosso ambiente. O tipo de objeto a ser definido é especificado no argumento `kind`.\n",
    "        </li>\n",
    "        <li>\n",
    "            O tipo de objeto ao qual vamos ter acesso dependerá da apiVersion que especificarmos em nosso .yaml.\n",
    "        </li>\n",
    "        <li>\n",
    "            Objetos Pod são responsáveis por rodar containers; já os de Service, por estabelecer uma rede.\n",
    "        </li>\n",
    "    </ul>\n",
    " </div>"
   ]
  },
  {
   "cell_type": "markdown",
   "id": "27e2341d-697b-42aa-b9b8-a03c9f70fda4",
   "metadata": {},
   "source": [
    "<figure>\n",
    "        <center style='margin-top:20px'>\n",
    "            <img src='img/12_object_kind.png'>\n",
    "                <figcaption>  Seguem alguns objetos admitidos pelo Kubernetes (apiVersion: v1).</figcaption>\n",
    "        </center>\n",
    "    </figure>"
   ]
  },
  {
   "cell_type": "markdown",
   "id": "41fb074f-814d-4ff3-a3df-127c4c17a6f2",
   "metadata": {},
   "source": [
    "<h2 style='font-size:30px'> \n",
    "    Running Containers in Pods</h2>\n",
    "<div> \n",
    "    <ul style='font-size:20px'> \n",
    "        <li>\n",
    "            Aula em que explicamos de maneira mais detalhada o papel de um Pod.\n",
    "        </li>\n",
    "        <li>\n",
    "            Pods são objetos em que deployamos containers com alta interdependência. Isso significa que o desligamento de um deles inutilizaria os demais.\n",
    "        </li>\n",
    "        <li>\n",
    "            Por isso, evite colocar no mesmo Pod containers de baixa dependência entre si!\n",
    "        </li>\n",
    "    </ul>\n",
    " </div>"
   ]
  },
  {
   "cell_type": "markdown",
   "id": "bffaeddb-b936-41e9-947b-b1c254347bf8",
   "metadata": {},
   "source": [
    "<h2 style='font-size:30px'> \n",
    "    Metadata Block</h2>\n",
    "<div> \n",
    "    <ul style='font-size:20px'> \n",
    "        <li>\n",
    "            O bloco de metadados dos arquivos de configuração é de extrema relevância. A chave `name` define o identificador do objeto nos logs do terminal, enquanto que `labels` nos permite criar pares chave-valor que podem ser usados como referência para outros objetos da rede.\n",
    "        </li>\n",
    "    </ul>\n",
    " </div>"
   ]
  },
  {
   "cell_type": "markdown",
   "id": "74c6fecb-b619-4a29-bfd8-25d9a8afb53c",
   "metadata": {},
   "source": [
    "<h2 style='font-size:30px'> \n",
    "    Service Config Files in Depth</h2>\n",
    "<div> \n",
    "    <ul style='font-size:20px'> \n",
    "        <li>\n",
    "            Os objetos Service são componentes que nos ajudam a estabelecer redes dentro de nosso nó.\n",
    "        </li>\n",
    "        <li>\n",
    "            Existem 4 sub-tipos de Services: ClusterIP, NodePort, LoadBalancer e Ingress. Nesta aula, vamos nos atentar ao NodePort.\n",
    "        </li>\n",
    "        <li>\n",
    "            O sub-tipo NodePort é aquele que expõe os containers para o ambiente externo por meio de portas. Ele é recomendado apenas para ambientes de desenvolvimento.\n",
    "        </li>\n",
    "    </ul>\n",
    " </div>"
   ]
  },
  {
   "cell_type": "markdown",
   "id": "350d8ce4-6eb4-4a02-8182-7d3a531805ab",
   "metadata": {},
   "source": [
    "<h3 style='font-size:30px;font-style:italic'> Argumentos de Portas</h3>\n",
    "<div> \n",
    "    <ul style='font-size:20px'>\n",
    "        <li> \n",
    "            O .yml de um NodePort admite 3 argumentos de portas. `port` sinaliza a porta que um Pod deve apontar para ser direcionado ao Pod de destino. `nodePort` é a porta que nós clientes externos devem se referenciar para alcançarem esse mesmo Pod. `targetPort` é a porta de destino aonde todas as requisições são encaminhadas.\n",
    "        </li>\n",
    "        <li>\n",
    "            Note que `nodePort` deve ser um número de 30000 a 32767.\n",
    "        </li>\n",
    "     </ul>\n",
    "</div>"
   ]
  },
  {
   "cell_type": "markdown",
   "id": "5e554096-ae16-46ab-bb99-423bae8e5e77",
   "metadata": {},
   "source": [
    "<center style='margin-top:20px'>\n",
    "            <img src='img/12_nodeport_ports.png'>\n",
    "        </center>"
   ]
  },
  {
   "cell_type": "markdown",
   "id": "cce2831a-0ed6-4ea7-b041-72f36d0c2139",
   "metadata": {},
   "source": [
    "<h2 style='font-size:30px'> \n",
    "    Connecting to Running Containers</h2>\n",
    "<div> \n",
    "    <ul style='font-size:20px'> \n",
    "        <li>\n",
    "            Para implementar os objetos especificados nos .yml's, invoque `kubectl apply -f &lt; filepath&gt;`.\n",
    "        </li>\n",
    "        <li>\n",
    "            Uma vez criados, você poderá conferir o status dos objetos com `kubectl get &lt; object_name&gt;. O nome da classe deve estar no plural (pods, services).\n",
    "        </li>\n",
    "    </ul>\n",
    " </div>"
   ]
  },
  {
   "cell_type": "markdown",
   "id": "23f7ce3f-6157-4e8a-b64c-a911ef0fd1e1",
   "metadata": {},
   "source": [
    "<figure>\n",
    "        <center style='margin-top:20px'>\n",
    "            <img src='img/12_kubectl_get.png'>\n",
    "                <figcaption> Observe que o `kubectl get` de um NodePort retorna as portas definidas em port e nodePort.</figcaption>\n",
    "        </center>\n",
    "    </figure>"
   ]
  },
  {
   "cell_type": "markdown",
   "id": "45eef7c8-e0de-4793-a5a1-d2eeaf8a8ed5",
   "metadata": {},
   "source": [
    "<h3 style='font-size:30px;font-style:italic'> Acesso aos Pods</h3>\n",
    "<div> \n",
    "    <ul style='font-size:20px'>\n",
    "        <li> \n",
    "            Para acessarmos o conteúdo hospedado em nossos Pods, devemos nos lembrar de que todos os objetos do Kubernetes encontram-se dentro de uma máquina virtual. Portanto, para acessarmos o servidor, deveremos obter o seu endereço de IP com o comando `minukube ip`.\n",
    "        </li>\n",
    "        <li>\n",
    "            Para acessar o servidor, ponha em seu browser `&lt;minikube_ip&gt;:&lt;nodePort&gt;`\n",
    "        </li>\n",
    "     </ul>\n",
    "</div>"
   ]
  },
  {
   "cell_type": "markdown",
   "id": "72081d4f-342e-4ac0-ba6f-451dcd36070f",
   "metadata": {},
   "source": [
    "<center style='margin-top:20px'>\n",
    "            <img src='img/12_minikube_ip.png'>\n",
    "        </center>"
   ]
  },
  {
   "cell_type": "code",
   "execution_count": 9,
   "id": "31358f12-24f5-4b0d-842c-29aee70f8355",
   "metadata": {
    "scrolled": true
   },
   "outputs": [
    {
     "name": "stdout",
     "output_type": "stream",
     "text": [
      "[master dabe739] Aula 187\n",
      " 4 files changed, 92 insertions(+), 46 deletions(-)\n",
      " create mode 100644 img/12_kubectl_get.png\n",
      " create mode 100644 img/12_minikube_ip.png\n",
      "Enumerating objects: 11, done.\n",
      "Counting objects: 100% (11/11), done.\n",
      "Delta compression using up to 24 threads\n",
      "Compressing objects: 100% (7/7), done.\n",
      "Writing objects: 100% (7/7), 50.47 KiB | 50.47 MiB/s, done.\n",
      "Total 7 (delta 4), reused 0 (delta 0), pack-reused 0\n",
      "remote: Resolving deltas: 100% (4/4), completed with 4 local objects.\u001b[K\n",
      "To https://github.com/felipesveiga/docker.git\n",
      "   4c115dc..dabe739  master -> master\n"
     ]
    }
   ],
   "source": [
    "! git add .\n",
    "! git commit -m 'Aula 187'\n",
    "! git push"
   ]
  },
  {
   "cell_type": "markdown",
   "id": "5c6ae64d-4209-4c9e-8ef0-fb422253cc2d",
   "metadata": {
    "editable": true,
    "slideshow": {
     "slide_type": ""
    },
    "tags": []
   },
   "source": [
    "<p style='color:red'> Vi Aula 186; Aula 187</p>"
   ]
  },
  {
   "cell_type": "markdown",
   "id": "78b81825-7815-43c9-aedf-35e76c83bf89",
   "metadata": {
    "editable": true,
    "slideshow": {
     "slide_type": ""
    },
    "tags": []
   },
   "source": [
    "<p style='color:red'> Para acessar a aplicação web, use o comando `minikube service client-node-port`</p>"
   ]
  }
 ],
 "metadata": {
  "kernelspec": {
   "display_name": "Python 3 (ipykernel)",
   "language": "python",
   "name": "python3"
  },
  "language_info": {
   "codemirror_mode": {
    "name": "ipython",
    "version": 3
   },
   "file_extension": ".py",
   "mimetype": "text/x-python",
   "name": "python",
   "nbconvert_exporter": "python",
   "pygments_lexer": "ipython3",
   "version": "3.10.12"
  }
 },
 "nbformat": 4,
 "nbformat_minor": 5
}
