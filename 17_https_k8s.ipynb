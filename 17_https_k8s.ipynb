{
 "cells": [
  {
   "cell_type": "markdown",
   "id": "87e8143d-f4d0-4822-aefd-84122e2a6b78",
   "metadata": {},
   "source": [
    "<h1 style='font-size:40px'> HTTPS Setup with Kubernetes</h1>"
   ]
  },
  {
   "cell_type": "markdown",
   "id": "ce7b7598-d43d-486f-8e1c-e14d98c34624",
   "metadata": {},
   "source": [
    "<h2 style='font-size:30px'> \n",
    "    HTTPS Setup Overview\n",
    "</h2>\n",
    "<div> \n",
    "    <ul style='font-size:20px'> \n",
    "        <li>\n",
    "            Para habilitarmos conexões HTTPS em nossa aplicação, nosso site deverá ter um certificado que habilite o uso desse protocolo. Usaremos o serviço LetsEncrypt para obtê-lo. Ele é um Automatic Certificate Management Environment (ACME) gratuito.\n",
    "        </li>\n",
    "        <li>\n",
    "            De maneira geral, quando invocarmos o LetsEncrypt, este fará uma requisição a um endereço específico do nosso site. Caso esta seja bem sucedida, receberemos o certificado.\n",
    "        </li>\n",
    "    </ul>\n",
    " </div>"
   ]
  },
  {
   "cell_type": "markdown",
   "id": "232e7c46-c839-4fde-aa8d-8fd6370a365c",
   "metadata": {},
   "source": [
    "<figure>\n",
    "        <center style='margin-top:20px'>\n",
    "            <img src='img/17_https_flow.png'>\n",
    "                <figcaption> Ilustração do ciclo de obtenção do certificado.</figcaption>\n",
    "        </center>\n",
    "    </figure>"
   ]
  },
  {
   "cell_type": "markdown",
   "id": "2b3a9be5-070a-4ad1-bea5-4a242bb2982d",
   "metadata": {},
   "source": [
    "<h2 style='font-size:30px'> \n",
    "    Domain Purchase\n",
    "</h2>\n",
    "<div> \n",
    "    <ul style='font-size:20px'> \n",
    "        <li>\n",
    "            Aula em que compramos um nome de domínio para o nosso site. Em seguida, configuramos o site para apontar para o IP de nosso cluster.\n",
    "        </li>\n",
    "    </ul>\n",
    " </div>"
   ]
  },
  {
   "cell_type": "markdown",
   "id": "8522b053-2ad9-4aec-9e82-c45328aab246",
   "metadata": {},
   "source": [
    "<h2 style='font-size:30px'> \n",
    "    How to Wire Up Cert Manager\n",
    "</h2>\n",
    "<div> \n",
    "    <ul style='font-size:20px'> \n",
    "        <li>\n",
    "            O fluxo de gerenciamento de certificados envolve três objetos do Kubernetes.\n",
    "        </li>\n",
    "        <li>\n",
    "            O primeiro seria o Cert Manager, instalado com o Helm. Ele seria o responsável por se comunicar com a API do LetsEncrypt, obter o certificado e armazená-lo num objeto Secret.\n",
    "        </li>\n",
    "        <li>\n",
    "            O segundo seria o Issuer, que basicamente informa ao CertManager o onde deverá solicitar o certificado. Já o último, o Certificate, conterá dados que o certificado deverá carregar.\n",
    "        </li>\n",
    "    </ul>\n",
    " </div>"
   ]
  },
  {
   "cell_type": "markdown",
   "id": "72a29362-8088-4898-9de4-ab5b03af62d0",
   "metadata": {},
   "source": [
    "<figure>\n",
    "        <center style='margin-top:20px'>\n",
    "            <img src='img/17_certificate_objects.png'>\n",
    "        </center>\n",
    "    </figure>"
   ]
  },
  {
   "cell_type": "markdown",
   "id": "4038e756-c801-42aa-9662-86abd9051d8a",
   "metadata": {},
   "source": [
    "```sh\n",
    "helm repo add jetstack https://charts.jetstack.io\n",
    "helm repo update\n",
    "helm install \\\n",
    "  cert-manager jetstack/cert-manager \\\n",
    "  --namespace cert-manager \\\n",
    "  --create-namespace \\\n",
    "  --version v1.8.0 \\\n",
    "  --set installCRDs=true\n",
    "```\n",
    "Comando usado para a instalação do CertManager no GKE."
   ]
  },
  {
   "cell_type": "markdown",
   "id": "67ed2995-46ed-4ec8-9763-b57fef175ad9",
   "metadata": {},
   "source": [
    "<h2 style='font-size:30px'> \n",
    "    Issuer Config File\n",
    "</h2>\n",
    "<div> \n",
    "    <ul style='font-size:20px'> \n",
    "        <li>\n",
    "            Aula em que implantamos o arquivo de configuração de nosso Issuer.\n",
    "        </li>\n",
    "        <li>\n",
    "            Sua estrutura se assemelha bastante com a de outros arquivos já feitos, com exceção de dois campos:\n",
    "        </li>\n",
    "    </ul>\n",
    " </div>"
   ]
  },
  {
   "cell_type": "markdown",
   "id": "a978da46-5b3f-44d6-ad73-68dbb476e120",
   "metadata": {
    "tags": []
   },
   "source": [
    "<h4 style='font-size:30px;font-style:italic;text-decoration:underline'> acme</h4>\n",
    "<div> \n",
    "    <ul style='font-size:20px'> \n",
    "        <li>\n",
    "            Campo em que declaramos o servidor do ACME a ser utilizado, junto com um email para identificação. \n",
    "        </li>\n",
    "        <li>\n",
    "            Além disso, declaramos um objeto Secret onde a chave privada de conexão ao ACME será armazenada. \n",
    "        </li>\n",
    "    </ul>\n",
    " </div>"
   ]
  },
  {
   "cell_type": "markdown",
   "id": "347e21ea-56ce-4a06-bc5c-2858429c4d7f",
   "metadata": {
    "tags": []
   },
   "source": [
    "<h4 style='font-size:30px;font-style:italic;text-decoration:underline'> solvers</h4>\n",
    "<div> \n",
    "    <ul style='font-size:20px'> \n",
    "        <li>\n",
    "            Lista as metodologias de desafios que o ACME deverá realizar em nossa plataforma. No caso, o serviço criará um Ingress Service dentro do qual o desafio será conduzido.\n",
    "        </li>\n",
    "        <li>\n",
    "            Deve-se ressaltar que o tipo de Ingress do desafio deverá ser o mesmo do da aplicação real.\n",
    "        </li>\n",
    "    </ul>\n",
    " </div>"
   ]
  },
  {
   "cell_type": "markdown",
   "id": "814b854e-805b-491c-859d-98112dc03331",
   "metadata": {},
   "source": [
    "```yaml\n",
    "apiVersion: cert-manager.io/v1\n",
    "kind: ClusterIssuer\n",
    "metadata:\n",
    "  name: letsencrypt-prod\n",
    "spec:\n",
    "  acme:\n",
    "    server: https://acme-v02.api.letsencrypt.org/directory\n",
    "    email: \"user-email@email.com\"\n",
    "    privateKeySecretRef:\n",
    "      name: letsencrypt-prod\n",
    "    solvers:\n",
    "      - http01:\n",
    "          ingress:\n",
    "            class: nginx\n",
    "```\n",
    "Exemplo de um .yaml de um Issuer."
   ]
  },
  {
   "cell_type": "markdown",
   "id": "2b709809-dc65-4457-831a-05d8a97d4037",
   "metadata": {},
   "source": [
    "<h2 style='font-size:30px'> \n",
    "    Certificate Config File\n",
    "</h2>\n",
    "<div> \n",
    "    <ul style='font-size:20px'> \n",
    "        <li>\n",
    "            Aula em que configuramos o .yaml do objeto Certificate. \n",
    "        </li>\n",
    "        <li>\n",
    "            Em sua <i> spec</i>, devemos declarar três campos essenciais para a criação da entidade.\n",
    "        </li>\n",
    "    </ul>\n",
    " </div>"
   ]
  },
  {
   "cell_type": "markdown",
   "id": "06193778-203c-4a0f-9fcd-01c587f1c48b",
   "metadata": {
    "tags": []
   },
   "source": [
    "<h4 style='font-size:30px;font-style:italic;text-decoration:underline'> secretName</h4>\n",
    "<div> \n",
    "    <ul style='font-size:20px'> \n",
    "        <li>\n",
    "            Nome do objeto Secret onde o certificado será armazenado.\n",
    "        </li>\n",
    "    </ul>\n",
    " </div>"
   ]
  },
  {
   "cell_type": "markdown",
   "id": "6aab3540-a5b9-453d-856f-95b867791f61",
   "metadata": {
    "tags": []
   },
   "source": [
    "<h4 style='font-size:30px;font-style:italic;text-decoration:underline'> issuerRef</h4>\n",
    "<div> \n",
    "    <ul style='font-size:20px'> \n",
    "        <li>\n",
    "            Referências ao objeto Issuer, que contém os parâmetros para o desafio do ACME.\n",
    "        </li>\n",
    "    </ul>\n",
    " </div>"
   ]
  },
  {
   "cell_type": "markdown",
   "id": "97add98e-0d93-445b-8d3b-c6e705a282fd",
   "metadata": {
    "tags": []
   },
   "source": [
    "<h4 style='font-size:30px;font-style:italic;text-decoration:underline'> commonName</h4>\n",
    "<div> \n",
    "    <ul style='font-size:20px'> \n",
    "        <li>\n",
    "            Nome interpretável a humanos que identifique o seu site. Recomenda-se aquele que a sua plataforma é mais conhecida. \n",
    "        </li>\n",
    "    </ul>\n",
    " </div>"
   ]
  },
  {
   "cell_type": "markdown",
   "id": "87297309-5308-4416-9120-78dce7ae8d16",
   "metadata": {
    "tags": []
   },
   "source": [
    "<h4 style='font-size:30px;font-style:italic;text-decoration:underline'> dnsNames</h4>\n",
    "<div> \n",
    "    <ul style='font-size:20px'> \n",
    "        <li>\n",
    "            NListagem com os nomes DNS que o certificado garantirá.\n",
    "        </li>\n",
    "    </ul>\n",
    " </div>"
   ]
  },
  {
   "cell_type": "markdown",
   "id": "90e32ce0-9a73-498c-905f-4df8464b44f1",
   "metadata": {},
   "source": [
    "```yaml\n",
    "apiVersion: cert-manager.io/v1\n",
    " \n",
    "kind: Certificate\n",
    "metadata:\n",
    "  name: yourdomain-com-tls\n",
    "spec:\n",
    "  secretName: yourdomain-com\n",
    "  issuerRef:\n",
    "    name: letsencrypt-prod\n",
    "    kind: ClusterIssuer\n",
    "  commonName: yourdomain.com\n",
    "  dnsNames:\n",
    "    - yourdomain.com\n",
    "    - www.yourdomain.com\n",
    "```\n",
    "Exemplo de um .yaml para um objeto Certificate."
   ]
  },
  {
   "cell_type": "markdown",
   "id": "a2ed4b85-c91a-4a61-b3c0-8cb026ce314b",
   "metadata": {},
   "source": [
    "<h2 style='font-size:30px'> \n",
    "    Ingress Config for HTTPS\n",
    "</h2>\n",
    "<div> \n",
    "    <ul style='font-size:20px'> \n",
    "        <li>\n",
    "            Finalmente, para habilitarmos conexões HTTPS em nossa aplicação, deveremos ajustar certas configurações do Ingress.\n",
    "        </li>\n",
    "    </ul>\n",
    " </div>"
   ]
  },
  {
   "cell_type": "markdown",
   "id": "cbef385c-b9ed-4cb5-b3b8-8f3a3e5d9612",
   "metadata": {
    "tags": []
   },
   "source": [
    "<h4 style='font-size:30px;font-style:italic;text-decoration:underline'> annotations</h4>\n",
    "<div> \n",
    "    <ul style='font-size:20px'> \n",
    "        <li>\n",
    "            Informar o ACME que disponibilizou o certificado para o site.\n",
    "        </li>\n",
    "        <li>\n",
    "            Definir redirecionamento para HTTPS a qualquer requisição ao site.\n",
    "        </li>\n",
    "    </ul>\n",
    " </div>"
   ]
  },
  {
   "cell_type": "markdown",
   "id": "79ced54b-7cca-490c-9466-cf88e08511c0",
   "metadata": {},
   "source": [
    "```yaml\n",
    "cert-manager.io/cluster-issuer: \"letsencrypt-prod\"\n",
    "nginx.ingress.kubernetes.io/ssl-redirect: 'true'\n",
    "```"
   ]
  },
  {
   "cell_type": "markdown",
   "id": "4d64c91a-ce7d-43a8-87bf-96c0875a010b",
   "metadata": {
    "tags": []
   },
   "source": [
    "<h4 style='font-size:30px;font-style:italic;text-decoration:underline'> spec</h4>\n",
    "<div> \n",
    "    <ul style='font-size:20px'> \n",
    "        <li>\n",
    "            Passar uma lista com os endereços suportados pelo certificado e secret onde este se encontra.\n",
    "        </li>\n",
    "    </ul>\n",
    " </div>"
   ]
  },
  {
   "cell_type": "markdown",
   "id": "e960e304-4dfb-4345-b268-31308cf7477c",
   "metadata": {},
   "source": [
    "```yaml\n",
    "tls:\n",
    "    - hosts:\n",
    "        - <url>.com\n",
    "        - <url2>.com\n",
    "      secretName: k8s-multi-veiga-com\n",
    "```"
   ]
  },
  {
   "cell_type": "markdown",
   "id": "bed0017b-7840-46fd-80be-1ea44dc66b51",
   "metadata": {},
   "source": [
    "<div> \n",
    "    <ul style='font-size:20px'> \n",
    "        <li>\n",
    "            Em rules, deveremos definir um bloco de regras para cada endereço especificado em <i> hosts</i>.\n",
    "        </li>\n",
    "    </ul>\n",
    " </div>"
   ]
  },
  {
   "cell_type": "markdown",
   "id": "4636ac85-0e4b-487f-aeb2-6bba5c91bec2",
   "metadata": {},
   "source": [
    "```yaml\n",
    "rules:\n",
    "    - host: <url>.com\n",
    "      http:\n",
    "          paths:\n",
    "            - path: /?(.*) \n",
    "              pathType: ImplementationSpecific\n",
    "              backend:\n",
    "                service:\n",
    "                  name: client-cluster-ip-service\n",
    "                  port: \n",
    "                    number: 3000\n",
    "            - path: /api/?(.*)\n",
    "              pathType: ImplementationSpecific\n",
    "              backend:\n",
    "                service:\n",
    "                  name: server-cluster-ip-service\n",
    "                  port: \n",
    "                    number: 5000\n",
    "    - host: <url2>.com\n",
    "      http:\n",
    "          paths:\n",
    "            - path: /?(.*) \n",
    "              pathType: ImplementationSpecific\n",
    "              backend:\n",
    "                service:\n",
    "                  name: client-cluster-ip-service\n",
    "                  port: \n",
    "                    number: 3000\n",
    "            - path: /api/?(.*)\n",
    "              pathType: ImplementationSpecific\n",
    "              backend:\n",
    "                service:\n",
    "                  name: server-cluster-ip-service\n",
    "                  port: \n",
    "                    number: 5000\n",
    "\n",
    "```"
   ]
  },
  {
   "cell_type": "markdown",
   "id": "1ec3ad1c-5998-4601-9670-d554c9e12520",
   "metadata": {
    "editable": true,
    "slideshow": {
     "slide_type": ""
    },
    "tags": []
   },
   "source": [
    "<p style='color:red'> Visite a Aula 307, caso deseje deletar o seu cluster!</p>"
   ]
  }
 ],
 "metadata": {
  "kernelspec": {
   "display_name": "Python 3 (ipykernel)",
   "language": "python",
   "name": "python3"
  },
  "language_info": {
   "codemirror_mode": {
    "name": "ipython",
    "version": 3
   },
   "file_extension": ".py",
   "mimetype": "text/x-python",
   "name": "python",
   "nbconvert_exporter": "python",
   "pygments_lexer": "ipython3",
   "version": "3.10.12"
  }
 },
 "nbformat": 4,
 "nbformat_minor": 5
}
