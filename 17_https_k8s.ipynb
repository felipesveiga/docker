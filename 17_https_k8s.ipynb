{
 "cells": [
  {
   "cell_type": "markdown",
   "id": "87e8143d-f4d0-4822-aefd-84122e2a6b78",
   "metadata": {},
   "source": [
    "<h1 style='font-size:40px'> HTTPS Setup with Kubernetes</h1>"
   ]
  },
  {
   "cell_type": "markdown",
   "id": "ce7b7598-d43d-486f-8e1c-e14d98c34624",
   "metadata": {},
   "source": [
    "<h2 style='font-size:30px'> \n",
    "    HTTPS Setup Overview\n",
    "</h2>\n",
    "<div> \n",
    "    <ul style='font-size:20px'> \n",
    "        <li>\n",
    "        </li>\n",
    "    </ul>\n",
    " </div>"
   ]
  },
  {
   "cell_type": "code",
   "execution_count": 11,
   "id": "8d7fb55a-95e9-49a1-b44f-8540f8e7e4d4",
   "metadata": {
    "editable": true,
    "slideshow": {
     "slide_type": ""
    },
    "tags": []
   },
   "outputs": [
    {
     "name": "stdout",
     "output_type": "stream",
     "text": [
      "[master 79cebf1] Aula 286\n",
      " 10 files changed, 29 insertions(+), 42 deletions(-)\n",
      "Enumerating objects: 35, done.\n",
      "Counting objects: 100% (35/35), done.\n",
      "Delta compression using up to 24 threads\n",
      "Compressing objects: 100% (20/20), done.\n",
      "Writing objects: 100% (20/20), 2.53 KiB | 2.53 MiB/s, done.\n",
      "Total 20 (delta 16), reused 0 (delta 0), pack-reused 0\n",
      "remote: Resolving deltas: 100% (16/16), completed with 14 local objects.\u001b[K\n",
      "To https://github.com/felipesveiga/docker.git\n",
      "   b0fc7f5..79cebf1  master -> master\n"
     ]
    }
   ],
   "source": [
    "! git add .\n",
    "! git commit -m 'Iniciar seção 17'\n",
    "! git push"
   ]
  },
  {
   "cell_type": "markdown",
   "id": "6f5a38cd-9754-48b0-b4a7-a8f0e8d8539f",
   "metadata": {
    "editable": true,
    "slideshow": {
     "slide_type": ""
    },
    "tags": []
   },
   "source": [
    "<p style='color:red'> Vi Aula 286 a 290; Iniciar seção 17</p>"
   ]
  },
  {
   "cell_type": "markdown",
   "id": "1ec3ad1c-5998-4601-9670-d554c9e12520",
   "metadata": {
    "editable": true,
    "slideshow": {
     "slide_type": ""
    },
    "tags": []
   },
   "source": [
    "<p style='color:red'> Visite a Aula 307, caso deseje deletar o seu cluster!</p>"
   ]
  }
 ],
 "metadata": {
  "kernelspec": {
   "display_name": "Python 3 (ipykernel)",
   "language": "python",
   "name": "python3"
  },
  "language_info": {
   "codemirror_mode": {
    "name": "ipython",
    "version": 3
   },
   "file_extension": ".py",
   "mimetype": "text/x-python",
   "name": "python",
   "nbconvert_exporter": "python",
   "pygments_lexer": "ipython3",
   "version": "3.10.12"
  }
 },
 "nbformat": 4,
 "nbformat_minor": 5
}
