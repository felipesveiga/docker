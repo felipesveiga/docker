{
 "cells": [
  {
   "cell_type": "markdown",
   "id": "87e8143d-f4d0-4822-aefd-84122e2a6b78",
   "metadata": {},
   "source": [
    "<h1 style='font-size:40px'> HTTPS Setup with Kubernetes</h1>"
   ]
  },
  {
   "cell_type": "markdown",
   "id": "ce7b7598-d43d-486f-8e1c-e14d98c34624",
   "metadata": {},
   "source": [
    "<h2 style='font-size:30px'> \n",
    "    HTTPS Setup Overview\n",
    "</h2>\n",
    "<div> \n",
    "    <ul style='font-size:20px'> \n",
    "        <li>\n",
    "            Para habilitarmos conexões HTTPS em nossa aplicação, nosso site deverá ter um certificado que habilite o uso desse protocolo. Usaremos o serviço LetsEncrypt para obtê-lo.\n",
    "        </li>\n",
    "        <li>\n",
    "            De maneira geral, quando invocarmos o LetsEncrypt, este fará uma requisição a um endereço específico do nosso site. Caso esta seja bem sucedida, receberemos o certificado.\n",
    "        </li>\n",
    "    </ul>\n",
    " </div>"
   ]
  },
  {
   "cell_type": "markdown",
   "id": "232e7c46-c839-4fde-aa8d-8fd6370a365c",
   "metadata": {},
   "source": [
    "<figure>\n",
    "        <center style='margin-top:20px'>\n",
    "            <img src='img/17_https_flow.png'>\n",
    "                <figcaption> Ilustração do ciclo de obtenção do certificado.</figcaption>\n",
    "        </center>\n",
    "    </figure>"
   ]
  },
  {
   "cell_type": "markdown",
   "id": "2b3a9be5-070a-4ad1-bea5-4a242bb2982d",
   "metadata": {},
   "source": [
    "<h2 style='font-size:30px'> \n",
    "    Domain Purchase\n",
    "</h2>\n",
    "<div> \n",
    "    <ul style='font-size:20px'> \n",
    "        <li>\n",
    "            Aula em que compramos um nome de domínio para o nosso site. Em seguida, configuramos o site para apontar para o IP de nosso cluster.\n",
    "        </li>\n",
    "    </ul>\n",
    " </div>"
   ]
  },
  {
   "cell_type": "code",
   "execution_count": 2,
   "id": "8d7fb55a-95e9-49a1-b44f-8540f8e7e4d4",
   "metadata": {
    "editable": true,
    "slideshow": {
     "slide_type": ""
    },
    "tags": []
   },
   "outputs": [
    {
     "name": "stdout",
     "output_type": "stream",
     "text": [
      "[master 1423158]  Aula 292\n",
      " 3 files changed, 64 insertions(+), 24 deletions(-)\n",
      " create mode 100644 img/17_https_flow.png\n",
      "Enumerating objects: 10, done.\n",
      "Counting objects: 100% (10/10), done.\n",
      "Delta compression using up to 24 threads\n",
      "Compressing objects: 100% (6/6), done.\n",
      "Writing objects: 100% (6/6), 86.53 KiB | 43.26 MiB/s, done.\n",
      "Total 6 (delta 4), reused 0 (delta 0), pack-reused 0\n",
      "remote: Resolving deltas: 100% (4/4), completed with 4 local objects.\u001b[K\n",
      "To https://github.com/felipesveiga/docker.git\n",
      "   1e19727..1423158  master -> master\n"
     ]
    }
   ],
   "source": [
    "! git add .\n",
    "! git commit -m ' Aula 294'\n",
    "! git push"
   ]
  },
  {
   "cell_type": "markdown",
   "id": "6f5a38cd-9754-48b0-b4a7-a8f0e8d8539f",
   "metadata": {
    "editable": true,
    "slideshow": {
     "slide_type": ""
    },
    "tags": []
   },
   "source": [
    "<p style='color:red'> Vi Aula 292 e 293; Aula 294</p>"
   ]
  },
  {
   "cell_type": "markdown",
   "id": "1ec3ad1c-5998-4601-9670-d554c9e12520",
   "metadata": {
    "editable": true,
    "slideshow": {
     "slide_type": ""
    },
    "tags": []
   },
   "source": [
    "<p style='color:red'> Visite a Aula 307, caso deseje deletar o seu cluster!</p>"
   ]
  }
 ],
 "metadata": {
  "kernelspec": {
   "display_name": "Python 3 (ipykernel)",
   "language": "python",
   "name": "python3"
  },
  "language_info": {
   "codemirror_mode": {
    "name": "ipython",
    "version": 3
   },
   "file_extension": ".py",
   "mimetype": "text/x-python",
   "name": "python",
   "nbconvert_exporter": "python",
   "pygments_lexer": "ipython3",
   "version": "3.10.12"
  }
 },
 "nbformat": 4,
 "nbformat_minor": 5
}
