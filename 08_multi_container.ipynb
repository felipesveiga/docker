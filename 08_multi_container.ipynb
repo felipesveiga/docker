{
 "cells": [
  {
   "cell_type": "markdown",
   "id": "51afde1c-819d-40fd-9d87-4c06ad840c0d",
   "metadata": {},
   "source": [
    "<h1 style='font-size:40px'> Building a Multi-Container Application</h1>"
   ]
  },
  {
   "cell_type": "markdown",
   "id": "6846fabe-870d-46c4-a0c0-77ec7cba9b87",
   "metadata": {},
   "source": [
    "<h2 style='font-size:30px'> Single Container Deployment Issues</h2>\n",
    "<div> \n",
    "    <ul style='font-size:20px'> \n",
    "        <li>\n",
    "        </li>\n",
    "    </ul>\n",
    " </div>"
   ]
  },
  {
   "cell_type": "code",
   "execution_count": 1,
   "id": "49f0b987-75b7-4abc-a2b9-80ecd27f39c7",
   "metadata": {},
   "outputs": [
    {
     "name": "stdout",
     "output_type": "stream",
     "text": [
      "[master 4987b3d] Continuar de 21:50\n",
      " 4 files changed, 140 insertions(+), 45 deletions(-)\n",
      "Enumerating objects: 12, done.\n",
      "Counting objects: 100% (12/12), done.\n",
      "Delta compression using up to 24 threads\n",
      "Compressing objects: 100% (7/7), done.\n",
      "Writing objects: 100% (7/7), 2.69 KiB | 2.69 MiB/s, done.\n",
      "Total 7 (delta 5), reused 0 (delta 0), pack-reused 0\n",
      "remote: Resolving deltas: 100% (5/5), completed with 3 local objects.\u001b[K\n",
      "To https://github.com/felipesveiga/docker.git\n",
      "   bad3f3b..4987b3d  master -> master\n"
     ]
    }
   ],
   "source": [
    "! git add .\n",
    "! git commit -am 'Continuar de 21:50'\n",
    "! git push"
   ]
  },
  {
   "cell_type": "markdown",
   "id": "a78acab7-53e0-4ce9-9ae0-23a2f0744c33",
   "metadata": {
    "editable": true,
    "slideshow": {
     "slide_type": ""
    },
    "tags": []
   },
   "source": [
    "<p style='color:red'> Expliquei a parte de steps; Continuar de 21:50</p>"
   ]
  }
 ],
 "metadata": {
  "kernelspec": {
   "display_name": "Python 3 (ipykernel)",
   "language": "python",
   "name": "python3"
  },
  "language_info": {
   "codemirror_mode": {
    "name": "ipython",
    "version": 3
   },
   "file_extension": ".py",
   "mimetype": "text/x-python",
   "name": "python",
   "nbconvert_exporter": "python",
   "pygments_lexer": "ipython3",
   "version": "3.10.12"
  }
 },
 "nbformat": 4,
 "nbformat_minor": 5
}
