{
 "cells": [
  {
   "cell_type": "markdown",
   "id": "51afde1c-819d-40fd-9d87-4c06ad840c0d",
   "metadata": {},
   "source": [
    "<h1 style='font-size:40px'> Building a Multi-Container Application</h1>"
   ]
  },
  {
   "cell_type": "markdown",
   "id": "6846fabe-870d-46c4-a0c0-77ec7cba9b87",
   "metadata": {},
   "source": [
    "<h2 style='font-size:30px'> Application Overview</h2>\n",
    "<div> \n",
    "    <ul style='font-size:20px'> \n",
    "        <li>\n",
    "            Esta seção será dedicada na construção de uma aplicação de multi-containers. No projeto, montaremos uma pequena página web com uma calculadora de Fibonacci.\n",
    "        </li>\n",
    "        <li>\n",
    "            Todas as aulas deste capítulo serão dedicadas à escrita do código JavaScript. Por isso, podemos prosseguir com o curso, a partir da seção 9. \n",
    "        </li>\n",
    "    </ul>\n",
    " </div>"
   ]
  },
  {
   "cell_type": "markdown",
   "id": "db347d18-23f5-46e3-9a9b-68892a168a77",
   "metadata": {},
   "source": [
    " <center style='margin-top:20px'> \n",
    "        <figure>\n",
    "            <img src='img/08_fibonacci.png'>\n",
    "            <figcaption> Rascunho da tela inicial de nossa aplicação.</figcaption>\n",
    "        </figure>\n",
    "    </center>"
   ]
  }
 ],
 "metadata": {
  "kernelspec": {
   "display_name": "Python 3 (ipykernel)",
   "language": "python",
   "name": "python3"
  },
  "language_info": {
   "codemirror_mode": {
    "name": "ipython",
    "version": 3
   },
   "file_extension": ".py",
   "mimetype": "text/x-python",
   "name": "python",
   "nbconvert_exporter": "python",
   "pygments_lexer": "ipython3",
   "version": "3.10.12"
  }
 },
 "nbformat": 4,
 "nbformat_minor": 5
}
